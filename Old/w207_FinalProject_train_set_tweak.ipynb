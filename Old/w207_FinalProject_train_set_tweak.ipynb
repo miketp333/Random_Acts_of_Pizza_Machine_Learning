{
 "cells": [
  {
   "cell_type": "markdown",
   "metadata": {},
   "source": [
    "# Random Acts of Pizza\n",
    "\n",
    "This competition contains a dataset with 5671 textual requests for pizza from the Reddit community Random Acts of Pizza together with their outcome (successful/unsuccessful) and meta-data. Participants must create an algorithm capable of predicting which requests will garner a cheesy (but sincere!) act of kindness.\n",
    "\n",
    "https://www.kaggle.com/c/random-acts-of-pizza"
   ]
  },
  {
   "cell_type": "code",
   "execution_count": 1,
   "metadata": {
    "collapsed": true
   },
   "outputs": [],
   "source": [
    "# This tells matplotlib not to try opening a new window for each plot.\n",
    "%matplotlib inline\n",
    "\n",
    "# General libraries.\n",
    "import json\n",
    "import os\n",
    "import re\n",
    "import numpy as np\n",
    "import matplotlib.pyplot as plt\n",
    "import pandas as pd\n",
    "\n",
    "# SK-learn libraries for learning.\n",
    "from sklearn.pipeline import Pipeline\n",
    "from sklearn.neighbors import KNeighborsClassifier\n",
    "from sklearn.linear_model import LogisticRegression\n",
    "from sklearn.naive_bayes import BernoulliNB\n",
    "from sklearn.naive_bayes import MultinomialNB\n",
    "from sklearn.grid_search import GridSearchCV\n",
    "\n",
    "# SK-learn libraries for evaluation.\n",
    "from sklearn.metrics import confusion_matrix\n",
    "from sklearn import metrics\n",
    "from sklearn.metrics import classification_report\n",
    "\n",
    "# SK-learn libraries for feature extraction from text.\n",
    "from sklearn.feature_extraction.text import *\n",
    "\n",
    "from sklearn.metrics import accuracy_score"
   ]
  },
  {
   "cell_type": "code",
   "execution_count": 2,
   "metadata": {},
   "outputs": [],
   "source": [
    "# Put data in \"Data\" folder which is in the same location as this notebook\n",
    "#os.getcwd()\n",
    "#os.chdir('Data')\n",
    "#os.getcwd()\n",
    "os.chdir('C:\\Users\\zolotab\\Desktop\\w207-Machine-Learning-Final-Project-master\\w207-Machine-Learning-Final-Project-master\\Data')"
   ]
  },
  {
   "cell_type": "code",
   "execution_count": 3,
   "metadata": {},
   "outputs": [],
   "source": [
    "# load data from json files to df\n",
    "with open('train.json') as fin:\n",
    "    trainjson = json.load(fin)\n",
    "\n",
    "with open('test.json') as fin:\n",
    "    testjson = json.load(fin)\n",
    "    \n",
    "df_train = pd.io.json.json_normalize(trainjson)\n",
    "df_test = pd.io.json.json_normalize(testjson)"
   ]
  },
  {
   "cell_type": "markdown",
   "metadata": {},
   "source": [
    "# Split data sets into train/dev/test"
   ]
  },
  {
   "cell_type": "markdown",
   "metadata": {},
   "source": [
    "Since the test data does not indicate whether a pizza was revceived we split the trainer data to have a labeled test set."
   ]
  },
  {
   "cell_type": "code",
   "execution_count": 35,
   "metadata": {},
   "outputs": [
    {
     "name": "stdout",
     "output_type": "stream",
     "text": [
      "('train data shape: ', (2424, 32))\n",
      "('dev data shape:', (808, 32))\n",
      "('test data shape:', (808, 32))\n"
     ]
    }
   ],
   "source": [
    "# randomize and split data set into train, dev and test using 60/20/20 split\n",
    "shuffle = np.random.permutation(np.arange(df_train.shape[0]))\n",
    "df_train_data, df_train_labels = df_train.ix[shuffle, :], df_train.ix[shuffle, 'requester_received_pizza']\n",
    "df_train_data, df_train_labels = df_train, df_train['requester_received_pizza']\n",
    "# Set some variables to test, dev and training data\n",
    "cutoff1 = int(df_train_labels.shape[0]*0.6)\n",
    "cutoff2 = int(df_train_labels.shape[0]*0.8)\n",
    "test_mini_data, test_mini_labels = df_train_data[cutoff2:], df_train_labels[cutoff2:]\n",
    "dev_data, dev_labels = df_train_data[cutoff1:cutoff2], df_train_labels[cutoff1:cutoff2]\n",
    "train_data, train_labels = df_train_data[:cutoff1], df_train_labels[:cutoff1]\n",
    "\n",
    "print ('train data shape: ', train_data.shape)\n",
    "print ('dev data shape:', dev_data.shape)\n",
    "print ('test data shape:', test_mini_data.shape)"
   ]
  },
  {
   "cell_type": "markdown",
   "metadata": {},
   "source": [
    "# Tweak training set"
   ]
  },
  {
   "cell_type": "code",
   "execution_count": 82,
   "metadata": {},
   "outputs": [
    {
     "name": "stdout",
     "output_type": "stream",
     "text": [
      "('train data shape: ', (1000, 32))\n"
     ]
    }
   ],
   "source": [
    "df_train_nopizza = df_train[df_train['requester_received_pizza']==0]\n",
    "df_train_pizza = df_train[df_train['requester_received_pizza']==1]\n",
    "df_train2 = df_train_nopizza.iloc[:500,]\n",
    "df_train2 = df_train2.append(df_train_pizza.iloc[:500,])\n",
    "\n",
    "# build a test set with 50%/50% pizza/no pizza from the remaining data\n",
    "df_test2 = df_train_pizza.iloc[500:,]\n",
    "df_test2 = df_test2.append(df_train_nopizza.iloc[500:500+df_test2.shape[0],])\n",
    "\n",
    "# build another test set with the remaining data\n",
    "df_test3 = df_train_pizza.iloc[500:,]\n",
    "df_test3 = df_test2.append(df_train_nopizza.iloc[500:,])\n",
    "\n",
    "# randomize and split data set into train, dev and test using 60/20/20 split\n",
    "shuffle = np.random.permutation(np.arange(df_train2.shape[0]))\n",
    "#df_train_data, df_train_labels = df_train2.ix[shuffle, :], df_train2.ix[shuffle, 'requester_received_pizza']\n",
    "df_train_data2, df_train_labels2 = df_train2, df_train2['requester_received_pizza']\n",
    "# Set some variables to test, dev and training data\n",
    "cutoff1 = int(df_train_labels2.shape[0]*0.8)\n",
    "# cutoff2 = int(df_train_labels.shape[0]*0.8)\n",
    "test_mini_data2, test_mini_labels2 = df_test2, df_test2['requester_received_pizza']\n",
    "test_mini_data3, test_mini_labels3 = df_test3, df_test3['requester_received_pizza']\n",
    "dev_data2, dev_labels2 = df_train_data[cutoff1:], df_train_labels[cutoff1:]\n",
    "train_data2, train_labels2 = df_train_data2, df_train_labels2\n",
    "\n",
    "print ('train data shape: ', train_data2.shape)\n",
    "# print ('dev data shape:', dev_data.shape)\n",
    "# print ('test data shape:', test_mini_data.shape)"
   ]
  },
  {
   "cell_type": "markdown",
   "metadata": {},
   "source": [
    "# Modeling using Naive Count Vectorizer"
   ]
  },
  {
   "cell_type": "markdown",
   "metadata": {},
   "source": [
    "# Vectorizing the text features"
   ]
  },
  {
   "cell_type": "code",
   "execution_count": 42,
   "metadata": {},
   "outputs": [],
   "source": [
    "vectorizer = CountVectorizer()\n",
    "vectorizer2 = CountVectorizer()\n",
    "train_data_nlp = vectorizer.fit_transform(train_data['request_text_edit_aware'])\n",
    "train_data_nlp2 = vectorizer2.fit_transform(train_data2['request_text_edit_aware'])\n",
    "dev_data_nlp = vectorizer.transform(dev_data['request_text_edit_aware'])\n",
    "dev_data_nlp2 = vectorizer2.transform(dev_data2['request_text_edit_aware'])\n",
    "test_mini_data_nlp = vectorizer.transform(test_mini_data['request_text_edit_aware'])\n",
    "test_mini_data_nlp2 = vectorizer2.transform(test_mini_data2['request_text_edit_aware'])\n",
    "test_mini_data_nlp3 = vectorizer2.transform(test_mini_data3['request_text_edit_aware'])"
   ]
  },
  {
   "cell_type": "code",
   "execution_count": 43,
   "metadata": {},
   "outputs": [
    {
     "name": "stdout",
     "output_type": "stream",
     "text": [
      "Size of the vocabulary:\n",
      "9515\n"
     ]
    }
   ],
   "source": [
    "print(\"Size of the vocabulary:\")\n",
    "print(train_data_nlp.shape[1])"
   ]
  },
  {
   "cell_type": "markdown",
   "metadata": {},
   "source": [
    "# KNN Model"
   ]
  },
  {
   "cell_type": "code",
   "execution_count": 44,
   "metadata": {},
   "outputs": [
    {
     "name": "stdout",
     "output_type": "stream",
     "text": [
      "{'n_neighbors': 8}\n"
     ]
    }
   ],
   "source": [
    "k_values = {\"n_neighbors\": range(1,10)}\n",
    "knn_gs = GridSearchCV(estimator=KNeighborsClassifier(), param_grid=k_values)\n",
    "knn_gs.fit(dev_data_nlp2, dev_labels2)\n",
    "print (knn_gs.best_params_)"
   ]
  },
  {
   "cell_type": "code",
   "execution_count": 47,
   "metadata": {},
   "outputs": [
    {
     "name": "stdout",
     "output_type": "stream",
     "text": [
      "{'n_neighbors': 8}\n"
     ]
    }
   ],
   "source": [
    "k_values = {\"n_neighbors\": range(1,10)}\n",
    "knn_gs = GridSearchCV(estimator=KNeighborsClassifier(), param_grid=k_values)\n",
    "knn_gs.fit(dev_data_nlp, dev_labels)\n",
    "print (knn_gs.best_params_)"
   ]
  },
  {
   "cell_type": "code",
   "execution_count": 87,
   "metadata": {},
   "outputs": [
    {
     "name": "stdout",
     "output_type": "stream",
     "text": [
      "Original test KNN accuracy:\n",
      "51.9230769231\n",
      "50/50 test KNN accuracy:\n",
      "51.9230769231\n",
      "all test KNN accuracy:\n",
      "77.843803056\n"
     ]
    }
   ],
   "source": [
    "knn_clf_best = KNeighborsClassifier(n_neighbors=8)\n",
    "knn_clf_best.fit(train_data_nlp, train_labels)\n",
    "knn_clf_best_predicted = knn_clf_best.predict(test_mini_data_nlp)\n",
    "\n",
    "knn_clf_best2 = KNeighborsClassifier(n_neighbors=8)\n",
    "knn_clf_best2.fit(train_data_nlp2, train_labels2)\n",
    "knn_clf_best_predicted2 = knn_clf_best2.predict(test_mini_data_nlp2)\n",
    "knn_clf_best_predicted3 = knn_clf_best2.predict(test_mini_data_nlp3)\n",
    "\n",
    "print \"Original test KNN accuracy:\"\n",
    "print(accuracy_score(knn_clf_best_predicted2, test_mini_labels2) * 100)\n",
    "\n",
    "print \"50/50 test KNN accuracy:\"\n",
    "print(accuracy_score(knn_clf_best_predicted2, test_mini_labels2) * 100)\n",
    "\n",
    "print \"all test KNN accuracy:\"\n",
    "print(accuracy_score(knn_clf_best_predicted3, test_mini_labels3) * 100)"
   ]
  },
  {
   "cell_type": "code",
   "execution_count": 88,
   "metadata": {},
   "outputs": [
    {
     "name": "stdout",
     "output_type": "stream",
     "text": [
      "Original test Confusion matrix:\n",
      "[[609   3]\n",
      " [190   6]]\n",
      "50/50 test Confusion matrix:\n",
      "[[439  55]\n",
      " [420  74]]\n",
      "All test Confusion matrix:\n",
      "[[2677  363]\n",
      " [ 420   74]]\n"
     ]
    }
   ],
   "source": [
    "# print confusion matrix to identify mistakes\n",
    "print (\"Original test Confusion matrix:\")\n",
    "print (confusion_matrix(test_mini_labels, knn_clf_best_predicted))\n",
    "\n",
    "print (\"50/50 test Confusion matrix:\")\n",
    "print (confusion_matrix(test_mini_labels2, knn_clf_best_predicted2))\n",
    "\n",
    "print (\"All test Confusion matrix:\")\n",
    "print (confusion_matrix(test_mini_labels3, knn_clf_best_predicted3))"
   ]
  },
  {
   "cell_type": "code",
   "execution_count": 89,
   "metadata": {},
   "outputs": [
    {
     "data": {
      "text/plain": [
       "0.5128551420568227"
      ]
     },
     "execution_count": 89,
     "metadata": {},
     "output_type": "execute_result"
    },
    {
     "data": {
      "image/png": "[encoded data removed]",
      "text/plain": [
       "<matplotlib.figure.Figure at 0x1eb392e8>"
      ]
     },
     "metadata": {},
     "output_type": "display_data"
    }
   ],
   "source": [
    "fpr, tpr, _ = metrics.roc_curve(test_mini_labels, knn_clf_best_predicted)\n",
    "\n",
    "df = pd.DataFrame(dict(fpr=fpr, tpr=tpr))\n",
    "plt.plot(fpr,tpr)\n",
    "\n",
    "metrics.auc(fpr,tpr)"
   ]
  },
  {
   "cell_type": "code",
   "execution_count": 90,
   "metadata": {},
   "outputs": [
    {
     "data": {
      "text/plain": [
       "0.51923076923076916"
      ]
     },
     "execution_count": 90,
     "metadata": {},
     "output_type": "execute_result"
    },
    {
     "data": {
      "image/png": "[encoded data removed]",
      "text/plain": [
       "<matplotlib.figure.Figure at 0x11fa2470>"
      ]
     },
     "metadata": {},
     "output_type": "display_data"
    }
   ],
   "source": [
    "fpr, tpr, _ = metrics.roc_curve(test_mini_labels2, knn_clf_best_predicted2)\n",
    "\n",
    "df = pd.DataFrame(dict(fpr=fpr, tpr=tpr))\n",
    "plt.plot(fpr,tpr)\n",
    "\n",
    "metrics.auc(fpr,tpr)"
   ]
  },
  {
   "cell_type": "code",
   "execution_count": 91,
   "metadata": {},
   "outputs": [
    {
     "data": {
      "text/plain": [
       "0.5151948380566802"
      ]
     },
     "execution_count": 91,
     "metadata": {},
     "output_type": "execute_result"
    },
    {
     "data": {
      "image/png": "[encoded data removed]",
      "text/plain": [
       "<matplotlib.figure.Figure at 0x11fa2400>"
      ]
     },
     "metadata": {},
     "output_type": "display_data"
    }
   ],
   "source": [
    "fpr, tpr, _ = metrics.roc_curve(test_mini_labels3, knn_clf_best_predicted3)\n",
    "\n",
    "df = pd.DataFrame(dict(fpr=fpr, tpr=tpr))\n",
    "plt.plot(fpr,tpr)\n",
    "\n",
    "metrics.auc(fpr,tpr)"
   ]
  },
  {
   "cell_type": "markdown",
   "metadata": {},
   "source": [
    "# Multinomial Model"
   ]
  },
  {
   "cell_type": "code",
   "execution_count": 53,
   "metadata": {},
   "outputs": [
    {
     "name": "stdout",
     "output_type": "stream",
     "text": [
      "{'alpha': 1}\n"
     ]
    }
   ],
   "source": [
    "# Multinomial modeling\n",
    "alphas = {'alpha': [0.01, 0.05, 0.1, 0.5, 0.8, 1, 1.5, 5, 10]}\n",
    "multi_gs = GridSearchCV(estimator=MultinomialNB(), param_grid=alphas)\n",
    "multi_gs.fit(dev_data_nlp, dev_labels)\n",
    "print (multi_gs.best_params_)"
   ]
  },
  {
   "cell_type": "code",
   "execution_count": 52,
   "metadata": {},
   "outputs": [
    {
     "name": "stdout",
     "output_type": "stream",
     "text": [
      "{'alpha': 10}\n"
     ]
    }
   ],
   "source": [
    "# Multinomial modeling\n",
    "alphas = {'alpha': [0.01, 0.05, 0.1, 0.5, 0.8, 1, 1.5, 5, 10]}\n",
    "multi_gs = GridSearchCV(estimator=MultinomialNB(), param_grid=alphas)\n",
    "multi_gs.fit(dev_data_nlp2, dev_labels2)\n",
    "print (multi_gs.best_params_)"
   ]
  },
  {
   "cell_type": "code",
   "execution_count": 92,
   "metadata": {},
   "outputs": [
    {
     "name": "stdout",
     "output_type": "stream",
     "text": [
      "Original test Multinomial accuracy:\n",
      "72.7722772277\n",
      "50/50 test Multinomial accuracy:\n",
      "53.5425101215\n",
      "All test Multinomial accuracy:\n",
      "40.662139219\n"
     ]
    }
   ],
   "source": [
    "multi_clf_best = MultinomialNB(alpha=1)\n",
    "multi_clf_best.fit(train_data_nlp, train_labels)\n",
    "multi_clf_best_predicted = multi_clf_best.predict(test_mini_data_nlp)\n",
    "\n",
    "multi_clf_best2 = MultinomialNB(alpha=1)\n",
    "multi_clf_best2.fit(train_data_nlp2, train_labels2)\n",
    "multi_clf_best_predicted2 = multi_clf_best2.predict(test_mini_data_nlp2)\n",
    "multi_clf_best_predicted3 = multi_clf_best2.predict(test_mini_data_nlp3)\n",
    "\n",
    "print (\"Original test Multinomial accuracy:\")\n",
    "print(accuracy_score(multi_clf_best_predicted, test_mini_labels) * 100)\n",
    "\n",
    "print (\"50/50 test Multinomial accuracy:\")\n",
    "print(accuracy_score(multi_clf_best_predicted2, test_mini_labels2) * 100)\n",
    "\n",
    "print (\"All test Multinomial accuracy:\")\n",
    "print(accuracy_score(multi_clf_best_predicted3, test_mini_labels3) * 100)"
   ]
  },
  {
   "cell_type": "code",
   "execution_count": 93,
   "metadata": {},
   "outputs": [
    {
     "name": "stdout",
     "output_type": "stream",
     "text": [
      "Original test Confusion matrix:\n",
      "[[582  30]\n",
      " [190   6]]\n",
      "50/50 test Confusion matrix:\n",
      "[[169 325]\n",
      " [134 360]]\n",
      "All test Confusion matrix:\n",
      "[[1077 1963]\n",
      " [ 134  360]]\n"
     ]
    }
   ],
   "source": [
    "# print confusion matrix to identify mistakes\n",
    "print (\"Original test Confusion matrix:\")\n",
    "print (confusion_matrix(test_mini_labels, multi_clf_best_predicted))\n",
    "\n",
    "print (\"50/50 test Confusion matrix:\")\n",
    "print (confusion_matrix(test_mini_labels2, multi_clf_best_predicted2))\n",
    "\n",
    "print (\"All test Confusion matrix:\")\n",
    "print (confusion_matrix(test_mini_labels3, multi_clf_best_predicted3))"
   ]
  },
  {
   "cell_type": "code",
   "execution_count": 94,
   "metadata": {},
   "outputs": [
    {
     "data": {
      "text/plain": [
       "0.4907963185274109"
      ]
     },
     "execution_count": 94,
     "metadata": {},
     "output_type": "execute_result"
    },
    {
     "data": {
      "image/png": "[encoded data removed]",
      "text/plain": [
       "<matplotlib.figure.Figure at 0x1ef294e0>"
      ]
     },
     "metadata": {},
     "output_type": "display_data"
    }
   ],
   "source": [
    "fpr, tpr, _ = metrics.roc_curve(test_mini_labels, multi_clf_best_predicted)\n",
    "\n",
    "df = pd.DataFrame(dict(fpr=fpr, tpr=tpr))\n",
    "plt.plot(fpr,tpr)\n",
    "\n",
    "metrics.auc(fpr,tpr)"
   ]
  },
  {
   "cell_type": "code",
   "execution_count": 95,
   "metadata": {},
   "outputs": [
    {
     "data": {
      "text/plain": [
       "0.53542510121457487"
      ]
     },
     "execution_count": 95,
     "metadata": {},
     "output_type": "execute_result"
    },
    {
     "data": {
      "image/png": "[encoded data removed]",
      "text/plain": [
       "<matplotlib.figure.Figure at 0x1f240ba8>"
      ]
     },
     "metadata": {},
     "output_type": "display_data"
    }
   ],
   "source": [
    "fpr, tpr, _ = metrics.roc_curve(test_mini_labels2, multi_clf_best_predicted2)\n",
    "\n",
    "df = pd.DataFrame(dict(fpr=fpr, tpr=tpr))\n",
    "plt.plot(fpr,tpr)\n",
    "\n",
    "metrics.auc(fpr,tpr)"
   ]
  },
  {
   "cell_type": "code",
   "execution_count": 96,
   "metadata": {},
   "outputs": [
    {
     "data": {
      "text/plain": [
       "0.54151062753036439"
      ]
     },
     "execution_count": 96,
     "metadata": {},
     "output_type": "execute_result"
    },
    {
     "data": {
      "image/png": "[encoded data removed]",
      "text/plain": [
       "<matplotlib.figure.Figure at 0x1f42e320>"
      ]
     },
     "metadata": {},
     "output_type": "display_data"
    }
   ],
   "source": [
    "fpr, tpr, _ = metrics.roc_curve(test_mini_labels3, multi_clf_best_predicted3)\n",
    "\n",
    "df = pd.DataFrame(dict(fpr=fpr, tpr=tpr))\n",
    "plt.plot(fpr,tpr)\n",
    "\n",
    "metrics.auc(fpr,tpr)"
   ]
  },
  {
   "cell_type": "markdown",
   "metadata": {},
   "source": [
    "# Logistic Model"
   ]
  },
  {
   "cell_type": "code",
   "execution_count": 61,
   "metadata": {},
   "outputs": [
    {
     "name": "stdout",
     "output_type": "stream",
     "text": [
      "{'C': 0.001}\n"
     ]
    }
   ],
   "source": [
    "# Logisitc modeling\n",
    "log_clf = LogisticRegression()\n",
    "C = {\"C\": [0.001, 0.01, 0.02, 0.03, 0.04, 0.05, 0.1, 0.5, 0.8, 1, 1.5, 5, 10]}\n",
    "log_gs = GridSearchCV(log_clf,C)\n",
    "log_gs.fit(dev_data_nlp, dev_labels)\n",
    "print (log_gs.best_params_)"
   ]
  },
  {
   "cell_type": "code",
   "execution_count": 60,
   "metadata": {},
   "outputs": [
    {
     "name": "stdout",
     "output_type": "stream",
     "text": [
      "{'C': 0.001}\n"
     ]
    }
   ],
   "source": [
    "# Logisitc modeling\n",
    "log_clf = LogisticRegression()\n",
    "C = {\"C\": [0.001, 0.01, 0.02, 0.03, 0.04, 0.05, 0.1, 0.5, 0.8, 1, 1.5, 5, 10]}\n",
    "log_gs = GridSearchCV(log_clf,C)\n",
    "log_gs.fit(dev_data_nlp2, dev_labels2)\n",
    "print (log_gs.best_params_)"
   ]
  },
  {
   "cell_type": "code",
   "execution_count": 97,
   "metadata": {},
   "outputs": [
    {
     "name": "stdout",
     "output_type": "stream",
     "text": [
      "Original test Logistic accuracy:\n",
      "52.7327935223\n",
      "50/50 test Logistic accuracy:\n",
      "52.7327935223\n",
      "All test Logistic accuracy:\n",
      "27.7306168647\n"
     ]
    }
   ],
   "source": [
    "log_clf_best = LogisticRegression(C=0.001)\n",
    "log_clf_best.fit(train_data_nlp, train_labels)\n",
    "log_clf_best_predicted = log_clf_best.predict(test_mini_data_nlp)\n",
    "\n",
    "log_clf_best2 = LogisticRegression(C=0.001)\n",
    "log_clf_best2.fit(train_data_nlp2, train_labels2)\n",
    "log_clf_best_predicted2 = log_clf_best2.predict(test_mini_data_nlp2)\n",
    "log_clf_best_predicted3 = log_clf_best2.predict(test_mini_data_nlp3)\n",
    "\n",
    "print (\"Original test Logistic accuracy:\")\n",
    "print(accuracy_score(log_clf_best_predicted2, test_mini_labels2) * 100)\n",
    "\n",
    "print (\"50/50 test Logistic accuracy:\")\n",
    "print(accuracy_score(log_clf_best_predicted2, test_mini_labels2) * 100)\n",
    "\n",
    "print (\"All test Logistic accuracy:\")\n",
    "print(accuracy_score(log_clf_best_predicted3, test_mini_labels3) * 100)"
   ]
  },
  {
   "cell_type": "code",
   "execution_count": 98,
   "metadata": {},
   "outputs": [
    {
     "name": "stdout",
     "output_type": "stream",
     "text": [
      "Original test Confusion matrix:\n",
      "[[612   0]\n",
      " [196   0]]\n",
      "50/50 test Confusion matrix:\n",
      "[[ 87 407]\n",
      " [ 60 434]]\n",
      "All test Confusion matrix:\n",
      "[[ 546 2494]\n",
      " [  60  434]]\n"
     ]
    }
   ],
   "source": [
    "# print confusion matrix to identify mistakes\n",
    "print (\"Original test Confusion matrix:\")\n",
    "print (confusion_matrix(test_mini_labels, log_clf_best_predicted))\n",
    "\n",
    "print (\"50/50 test Confusion matrix:\")\n",
    "print (confusion_matrix(test_mini_labels2, log_clf_best_predicted2))\n",
    "\n",
    "print (\"All test Confusion matrix:\")\n",
    "print (confusion_matrix(test_mini_labels3, log_clf_best_predicted3))"
   ]
  },
  {
   "cell_type": "code",
   "execution_count": 99,
   "metadata": {},
   "outputs": [
    {
     "data": {
      "text/plain": [
       "0.5"
      ]
     },
     "execution_count": 99,
     "metadata": {},
     "output_type": "execute_result"
    },
    {
     "data": {
      "image/png": "[encoded data removed]",
      "text/plain": [
       "<matplotlib.figure.Figure at 0x1f8d02b0>"
      ]
     },
     "metadata": {},
     "output_type": "display_data"
    }
   ],
   "source": [
    "fpr, tpr, _ = metrics.roc_curve(test_mini_labels, log_clf_best_predicted)\n",
    "\n",
    "df = pd.DataFrame(dict(fpr=fpr, tpr=tpr))\n",
    "plt.plot(fpr,tpr)\n",
    "\n",
    "metrics.auc(fpr,tpr)"
   ]
  },
  {
   "cell_type": "code",
   "execution_count": 100,
   "metadata": {},
   "outputs": [
    {
     "data": {
      "text/plain": [
       "0.52732793522267207"
      ]
     },
     "execution_count": 100,
     "metadata": {},
     "output_type": "execute_result"
    },
    {
     "data": {
      "image/png": "[encoded data removed]",
      "text/plain": [
       "<matplotlib.figure.Figure at 0x1f863e48>"
      ]
     },
     "metadata": {},
     "output_type": "display_data"
    }
   ],
   "source": [
    "fpr, tpr, _ = metrics.roc_curve(test_mini_labels2, log_clf_best_predicted2)\n",
    "\n",
    "df = pd.DataFrame(dict(fpr=fpr, tpr=tpr))\n",
    "plt.plot(fpr,tpr)\n",
    "\n",
    "metrics.auc(fpr,tpr)"
   ]
  },
  {
   "cell_type": "code",
   "execution_count": 101,
   "metadata": {},
   "outputs": [
    {
     "data": {
      "text/plain": [
       "0.52907388663967614"
      ]
     },
     "execution_count": 101,
     "metadata": {},
     "output_type": "execute_result"
    },
    {
     "data": {
      "image/png": "[encoded data removed]",
      "text/plain": [
       "<matplotlib.figure.Figure at 0x1fae1668>"
      ]
     },
     "metadata": {},
     "output_type": "display_data"
    }
   ],
   "source": [
    "fpr, tpr, _ = metrics.roc_curve(test_mini_labels3, log_clf_best_predicted3)\n",
    "\n",
    "df = pd.DataFrame(dict(fpr=fpr, tpr=tpr))\n",
    "plt.plot(fpr,tpr)\n",
    "\n",
    "metrics.auc(fpr,tpr)"
   ]
  },
  {
   "cell_type": "markdown",
   "metadata": {},
   "source": [
    "# Avdvanced Count Vectorizer"
   ]
  },
  {
   "cell_type": "markdown",
   "metadata": {},
   "source": [
    "code from the Kaggle kernel"
   ]
  },
  {
   "cell_type": "code",
   "execution_count": 27,
   "metadata": {},
   "outputs": [],
   "source": [
    "# Run Once\n",
    "# Downloading corpus of stopwords and other functions\n",
    "\n",
    "# import nltk\n",
    "# nltk.download()"
   ]
  },
  {
   "cell_type": "code",
   "execution_count": 65,
   "metadata": {},
   "outputs": [],
   "source": [
    "# Removing stopwords and punctuations\n",
    "\n",
    "from string import punctuation\n",
    "from nltk.corpus import stopwords\n",
    "from nltk import sent_tokenize, word_tokenize\n",
    "\n",
    "stopwords_en = set(stopwords.words('english'))\n",
    "\n",
    "# Stopwords from stopwords-json\n",
    "stopwords_json = {\"en\":[\"a\",\"a's\",\"able\",\"about\",\"above\",\"according\",\"accordingly\",\"across\",\"actually\",\"after\",\"afterwards\",\"again\",\"against\",\"ain't\",\"all\",\"allow\",\"allows\",\"almost\",\"alone\",\"along\",\"already\",\"also\",\"although\",\"always\",\"am\",\"among\",\"amongst\",\"an\",\"and\",\"another\",\"any\",\"anybody\",\"anyhow\",\"anyone\",\"anything\",\"anyway\",\"anyways\",\"anywhere\",\"apart\",\"appear\",\"appreciate\",\"appropriate\",\"are\",\"aren't\",\"around\",\"as\",\"aside\",\"ask\",\"asking\",\"associated\",\"at\",\"available\",\"away\",\"awfully\",\"b\",\"be\",\"became\",\"because\",\"become\",\"becomes\",\"becoming\",\"been\",\"before\",\"beforehand\",\"behind\",\"being\",\"believe\",\"below\",\"beside\",\"besides\",\"best\",\"better\",\"between\",\"beyond\",\"both\",\"brief\",\"but\",\"by\",\"c\",\"c'mon\",\"c's\",\"came\",\"can\",\"can't\",\"cannot\",\"cant\",\"cause\",\"causes\",\"certain\",\"certainly\",\"changes\",\"clearly\",\"co\",\"com\",\"come\",\"comes\",\"concerning\",\"consequently\",\"consider\",\"considering\",\"contain\",\"containing\",\"contains\",\"corresponding\",\"could\",\"couldn't\",\"course\",\"currently\",\"d\",\"definitely\",\"described\",\"despite\",\"did\",\"didn't\",\"different\",\"do\",\"does\",\"doesn't\",\"doing\",\"don't\",\"done\",\"down\",\"downwards\",\"during\",\"e\",\"each\",\"edu\",\"eg\",\"eight\",\"either\",\"else\",\"elsewhere\",\"enough\",\"entirely\",\"especially\",\"et\",\"etc\",\"even\",\"ever\",\"every\",\"everybody\",\"everyone\",\"everything\",\"everywhere\",\"ex\",\"exactly\",\"example\",\"except\",\"f\",\"far\",\"few\",\"fifth\",\"first\",\"five\",\"followed\",\"following\",\"follows\",\"for\",\"former\",\"formerly\",\"forth\",\"four\",\"from\",\"further\",\"furthermore\",\"g\",\"get\",\"gets\",\"getting\",\"given\",\"gives\",\"go\",\"goes\",\"going\",\"gone\",\"got\",\"gotten\",\"greetings\",\"h\",\"had\",\"hadn't\",\"happens\",\"hardly\",\"has\",\"hasn't\",\"have\",\"haven't\",\"having\",\"he\",\"he's\",\"hello\",\"help\",\"hence\",\"her\",\"here\",\"here's\",\"hereafter\",\"hereby\",\"herein\",\"hereupon\",\"hers\",\"herself\",\"hi\",\"him\",\"himself\",\"his\",\"hither\",\"hopefully\",\"how\",\"howbeit\",\"however\",\"i\",\"i'd\",\"i'll\",\"i'm\",\"i've\",\"ie\",\"if\",\"ignored\",\"immediate\",\"in\",\"inasmuch\",\"inc\",\"indeed\",\"indicate\",\"indicated\",\"indicates\",\"inner\",\"insofar\",\"instead\",\"into\",\"inward\",\"is\",\"isn't\",\"it\",\"it'd\",\"it'll\",\"it's\",\"its\",\"itself\",\"j\",\"just\",\"k\",\"keep\",\"keeps\",\"kept\",\"know\",\"known\",\"knows\",\"l\",\"last\",\"lately\",\"later\",\"latter\",\"latterly\",\"least\",\"less\",\"lest\",\"let\",\"let's\",\"like\",\"liked\",\"likely\",\"little\",\"look\",\"looking\",\"looks\",\"ltd\",\"m\",\"mainly\",\"many\",\"may\",\"maybe\",\"me\",\"mean\",\"meanwhile\",\"merely\",\"might\",\"more\",\"moreover\",\"most\",\"mostly\",\"much\",\"must\",\"my\",\"myself\",\"n\",\"name\",\"namely\",\"nd\",\"near\",\"nearly\",\"necessary\",\"need\",\"needs\",\"neither\",\"never\",\"nevertheless\",\"new\",\"next\",\"nine\",\"no\",\"nobody\",\"non\",\"none\",\"noone\",\"nor\",\"normally\",\"not\",\"nothing\",\"novel\",\"now\",\"nowhere\",\"o\",\"obviously\",\"of\",\"off\",\"often\",\"oh\",\"ok\",\"okay\",\"old\",\"on\",\"once\",\"one\",\"ones\",\"only\",\"onto\",\"or\",\"other\",\"others\",\"otherwise\",\"ought\",\"our\",\"ours\",\"ourselves\",\"out\",\"outside\",\"over\",\"overall\",\"own\",\"p\",\"particular\",\"particularly\",\"per\",\"perhaps\",\"placed\",\"please\",\"plus\",\"possible\",\"presumably\",\"probably\",\"provides\",\"q\",\"que\",\"quite\",\"qv\",\"r\",\"rather\",\"rd\",\"re\",\"really\",\"reasonably\",\"regarding\",\"regardless\",\"regards\",\"relatively\",\"respectively\",\"right\",\"s\",\"said\",\"same\",\"saw\",\"say\",\"saying\",\"says\",\"second\",\"secondly\",\"see\",\"seeing\",\"seem\",\"seemed\",\"seeming\",\"seems\",\"seen\",\"self\",\"selves\",\"sensible\",\"sent\",\"serious\",\"seriously\",\"seven\",\"several\",\"shall\",\"she\",\"should\",\"shouldn't\",\"since\",\"six\",\"so\",\"some\",\"somebody\",\"somehow\",\"someone\",\"something\",\"sometime\",\"sometimes\",\"somewhat\",\"somewhere\",\"soon\",\"sorry\",\"specified\",\"specify\",\"specifying\",\"still\",\"sub\",\"such\",\"sup\",\"sure\",\"t\",\"t's\",\"take\",\"taken\",\"tell\",\"tends\",\"th\",\"than\",\"thank\",\"thanks\",\"thanx\",\"that\",\"that's\",\"thats\",\"the\",\"their\",\"theirs\",\"them\",\"themselves\",\"then\",\"thence\",\"there\",\"there's\",\"thereafter\",\"thereby\",\"therefore\",\"therein\",\"theres\",\"thereupon\",\"these\",\"they\",\"they'd\",\"they'll\",\"they're\",\"they've\",\"think\",\"third\",\"this\",\"thorough\",\"thoroughly\",\"those\",\"though\",\"three\",\"through\",\"throughout\",\"thru\",\"thus\",\"to\",\"together\",\"too\",\"took\",\"toward\",\"towards\",\"tried\",\"tries\",\"truly\",\"try\",\"trying\",\"twice\",\"two\",\"u\",\"un\",\"under\",\"unfortunately\",\"unless\",\"unlikely\",\"until\",\"unto\",\"up\",\"upon\",\"us\",\"use\",\"used\",\"useful\",\"uses\",\"using\",\"usually\",\"uucp\",\"v\",\"value\",\"various\",\"very\",\"via\",\"viz\",\"vs\",\"w\",\"want\",\"wants\",\"was\",\"wasn't\",\"way\",\"we\",\"we'd\",\"we'll\",\"we're\",\"we've\",\"welcome\",\"well\",\"went\",\"were\",\"weren't\",\"what\",\"what's\",\"whatever\",\"when\",\"whence\",\"whenever\",\"where\",\"where's\",\"whereafter\",\"whereas\",\"whereby\",\"wherein\",\"whereupon\",\"wherever\",\"whether\",\"which\",\"while\",\"whither\",\"who\",\"who's\",\"whoever\",\"whole\",\"whom\",\"whose\",\"why\",\"will\",\"willing\",\"wish\",\"with\",\"within\",\"without\",\"won't\",\"wonder\",\"would\",\"wouldn't\",\"x\",\"y\",\"yes\",\"yet\",\"you\",\"you'd\",\"you'll\",\"you're\",\"you've\",\"your\",\"yours\",\"yourself\",\"yourselves\",\"z\",\"zero\"]}\n",
    "stopwords_json_en = set(stopwords_json['en'])\n",
    "stopwords_nltk_en = set(stopwords.words('english'))\n",
    "stopwords_punct = set(punctuation)\n",
    "# Combine the stopwords. Its a lot longer so I'm not printing it out...\n",
    "stoplist_combined = set.union(stopwords_json_en, stopwords_nltk_en, stopwords_punct)"
   ]
  },
  {
   "cell_type": "code",
   "execution_count": 66,
   "metadata": {
    "collapsed": true
   },
   "outputs": [],
   "source": [
    "# Removing stemming and lemmatization\n",
    "\n",
    "from nltk import pos_tag\n",
    "from nltk.stem import WordNetLemmatizer\n",
    "\n",
    "wnl = WordNetLemmatizer()\n",
    "\n",
    "# tagging part of speech so that lemmatization can be done\n",
    "def penn2morphy(penntag):\n",
    "    \"\"\" Converts Penn Treebank tags to WordNet. \"\"\"\n",
    "    morphy_tag = {'NN':'n', 'JJ':'a',\n",
    "                  'VB':'v', 'RB':'r'}\n",
    "    try:\n",
    "        return morphy_tag[penntag[:2]]\n",
    "    except:\n",
    "        return 'n' \n",
    "    \n",
    "def lemmatize_sent(text): \n",
    "    # Text input is string, returns lowercased strings.\n",
    "    return [wnl.lemmatize(word.lower(), pos=penn2morphy(tag)) \n",
    "            for word, tag in pos_tag(word_tokenize(text))]"
   ]
  },
  {
   "cell_type": "code",
   "execution_count": 67,
   "metadata": {
    "collapsed": true
   },
   "outputs": [],
   "source": [
    "# updated preprocessor\n",
    "\n",
    "def preprocess_text(text):\n",
    "    # Input: str, i.e. document/sentence\n",
    "    # Output: list(str) , i.e. list of lemmas\n",
    "    return [word for word in lemmatize_sent(text) \n",
    "            if word not in stoplist_combined\n",
    "            and not word.isdigit()]"
   ]
  },
  {
   "cell_type": "code",
   "execution_count": 69,
   "metadata": {},
   "outputs": [],
   "source": [
    "vectorizer_adv = CountVectorizer(analyzer=preprocess_text)\n",
    "train_data_nlp = vectorizer_adv.fit_transform(train_data['request_text_edit_aware'])\n",
    "dev_data_nlp = vectorizer_adv.transform(dev_data['request_text_edit_aware'])\n",
    "test_mini_data_nlp = vectorizer_adv.transform(test_mini_data['request_text_edit_aware'])\n",
    "\n",
    "vectorizer_adv2 = CountVectorizer(analyzer=preprocess_text)\n",
    "train_data_nlp2 = vectorizer_adv2.fit_transform(train_data2['request_text_edit_aware'])\n",
    "dev_data_nlp2 = vectorizer_adv2.transform(dev_data2['request_text_edit_aware'])\n",
    "test_mini_data_nlp2 = vectorizer_adv2.transform(test_mini_data2['request_text_edit_aware'])\n",
    "test_mini_data_nlp3 = vectorizer_adv2.transform(test_mini_data3['request_text_edit_aware'])"
   ]
  },
  {
   "cell_type": "code",
   "execution_count": 70,
   "metadata": {},
   "outputs": [
    {
     "name": "stdout",
     "output_type": "stream",
     "text": [
      "Size of the vocabulary:\n",
      "5212\n"
     ]
    }
   ],
   "source": [
    "print(\"Size of the vocabulary:\")\n",
    "print(train_data_nlp2.shape[1])"
   ]
  },
  {
   "cell_type": "code",
   "execution_count": 71,
   "metadata": {},
   "outputs": [
    {
     "name": "stdout",
     "output_type": "stream",
     "text": [
      "{'alpha': 1}\n"
     ]
    }
   ],
   "source": [
    "# Multinomial modeling\n",
    "alphas = {'alpha': [0.01, 0.05, 0.1, 0.5, 0.8, 1, 1.5, 5, 10]}\n",
    "multi_gs = GridSearchCV(estimator=MultinomialNB(), param_grid=alphas)\n",
    "multi_gs.fit(dev_data_nlp, dev_labels)\n",
    "print (multi_gs.best_params_)"
   ]
  },
  {
   "cell_type": "code",
   "execution_count": 72,
   "metadata": {},
   "outputs": [
    {
     "name": "stdout",
     "output_type": "stream",
     "text": [
      "{'alpha': 1.5}\n"
     ]
    }
   ],
   "source": [
    "# Multinomial modeling\n",
    "alphas = {'alpha': [0.01, 0.05, 0.1, 0.5, 0.8, 1, 1.5, 5, 10]}\n",
    "multi_gs = GridSearchCV(estimator=MultinomialNB(), param_grid=alphas)\n",
    "multi_gs.fit(dev_data_nlp2, dev_labels2)\n",
    "print (multi_gs.best_params_)"
   ]
  },
  {
   "cell_type": "code",
   "execution_count": 104,
   "metadata": {},
   "outputs": [
    {
     "name": "stdout",
     "output_type": "stream",
     "text": [
      "Original test Multinomial accuracy:\n",
      "72.7722772277\n",
      "50/50 test Multinomial accuracy:\n",
      "52.5303643725\n",
      "All test Multinomial accuracy:\n",
      "35.7102433503\n"
     ]
    }
   ],
   "source": [
    "multi_clf_best = MultinomialNB(alpha=1)\n",
    "multi_clf_best.fit(train_data_nlp, train_labels)\n",
    "multi_clf_best_predicted = multi_clf_best.predict(test_mini_data_nlp)\n",
    "\n",
    "multi_clf_best2 = MultinomialNB(alpha=1.5)\n",
    "multi_clf_best2.fit(train_data_nlp2, train_labels2)\n",
    "multi_clf_best_predicted2 = multi_clf_best2.predict(test_mini_data_nlp2)\n",
    "multi_clf_best_predicted3 = multi_clf_best2.predict(test_mini_data_nlp3)\n",
    "\n",
    "print (\"Original test Multinomial accuracy:\")\n",
    "print(accuracy_score(multi_clf_best_predicted, test_mini_labels) * 100)\n",
    "\n",
    "print (\"50/50 test Multinomial accuracy:\")\n",
    "print(accuracy_score(multi_clf_best_predicted2, test_mini_labels2) * 100)\n",
    "\n",
    "print (\"All test Multinomial accuracy:\")\n",
    "print(accuracy_score(multi_clf_best_predicted3, test_mini_labels3) * 100)"
   ]
  },
  {
   "cell_type": "code",
   "execution_count": 105,
   "metadata": {},
   "outputs": [
    {
     "name": "stdout",
     "output_type": "stream",
     "text": [
      "Original test Confusion matrix:\n",
      "[[582  30]\n",
      " [190   6]]\n",
      "50/50 test Confusion matrix:\n",
      "[[137 357]\n",
      " [112 382]]\n",
      "All test Confusion matrix:\n",
      "[[ 880 2160]\n",
      " [ 112  382]]\n"
     ]
    }
   ],
   "source": [
    "# print confusion matrix to identify mistakes\n",
    "print (\"Original test Confusion matrix:\")\n",
    "print (confusion_matrix(test_mini_labels, multi_clf_best_predicted))\n",
    "\n",
    "print (\"50/50 test Confusion matrix:\")\n",
    "print (confusion_matrix(test_mini_labels2, multi_clf_best_predicted2))\n",
    "\n",
    "print (\"All test Confusion matrix:\")\n",
    "print (confusion_matrix(test_mini_labels3, multi_clf_best_predicted3))"
   ]
  },
  {
   "cell_type": "code",
   "execution_count": 106,
   "metadata": {},
   "outputs": [
    {
     "data": {
      "text/plain": [
       "0.4907963185274109"
      ]
     },
     "execution_count": 106,
     "metadata": {},
     "output_type": "execute_result"
    },
    {
     "data": {
      "image/png": "[encoded data removed]",
      "text/plain": [
       "<matplotlib.figure.Figure at 0x1fb25f60>"
      ]
     },
     "metadata": {},
     "output_type": "display_data"
    }
   ],
   "source": [
    "fpr, tpr, _ = metrics.roc_curve(test_mini_labels, multi_clf_best_predicted)\n",
    "\n",
    "df = pd.DataFrame(dict(fpr=fpr, tpr=tpr))\n",
    "plt.plot(fpr,tpr)\n",
    "\n",
    "metrics.auc(fpr,tpr)"
   ]
  },
  {
   "cell_type": "code",
   "execution_count": 107,
   "metadata": {},
   "outputs": [
    {
     "data": {
      "text/plain": [
       "0.52530364372469629"
      ]
     },
     "execution_count": 107,
     "metadata": {},
     "output_type": "execute_result"
    },
    {
     "data": {
      "image/png": "[encoded data removed]",
      "text/plain": [
       "<matplotlib.figure.Figure at 0x2009c160>"
      ]
     },
     "metadata": {},
     "output_type": "display_data"
    }
   ],
   "source": [
    "fpr, tpr, _ = metrics.roc_curve(test_mini_labels2, multi_clf_best_predicted2)\n",
    "\n",
    "df = pd.DataFrame(dict(fpr=fpr, tpr=tpr))\n",
    "plt.plot(fpr,tpr)\n",
    "\n",
    "metrics.auc(fpr,tpr)"
   ]
  },
  {
   "cell_type": "code",
   "execution_count": 108,
   "metadata": {},
   "outputs": [
    {
     "data": {
      "text/plain": [
       "0.53137651821862342"
      ]
     },
     "execution_count": 108,
     "metadata": {},
     "output_type": "execute_result"
    },
    {
     "data": {
      "image/png": "[encoded data removed]",
      "text/plain": [
       "<matplotlib.figure.Figure at 0x1fe725f8>"
      ]
     },
     "metadata": {},
     "output_type": "display_data"
    }
   ],
   "source": [
    "fpr, tpr, _ = metrics.roc_curve(test_mini_labels3, multi_clf_best_predicted3)\n",
    "\n",
    "df = pd.DataFrame(dict(fpr=fpr, tpr=tpr))\n",
    "plt.plot(fpr,tpr)\n",
    "\n",
    "metrics.auc(fpr,tpr)"
   ]
  },
  {
   "cell_type": "code",
   "execution_count": 76,
   "metadata": {},
   "outputs": [
    {
     "name": "stdout",
     "output_type": "stream",
     "text": [
      "{'C': 0.001}\n"
     ]
    }
   ],
   "source": [
    "# Logisitc modeling\n",
    "log_clf = LogisticRegression()\n",
    "C = {\"C\": [0.001, 0.01, 0.02, 0.03, 0.04, 0.05, 0.1, 0.5, 0.8, 1, 1.5, 5, 10]}\n",
    "log_gs = GridSearchCV(log_clf,C)\n",
    "log_gs.fit(dev_data_nlp, dev_labels)\n",
    "print (log_gs.best_params_)"
   ]
  },
  {
   "cell_type": "code",
   "execution_count": 78,
   "metadata": {},
   "outputs": [
    {
     "name": "stdout",
     "output_type": "stream",
     "text": [
      "{'C': 0.001}\n"
     ]
    }
   ],
   "source": [
    "# Logisitc modeling\n",
    "log_clf = LogisticRegression()\n",
    "C = {\"C\": [0.001, 0.01, 0.02, 0.03, 0.04, 0.05, 0.1, 0.5, 0.8, 1, 1.5, 5, 10]}\n",
    "log_gs = GridSearchCV(log_clf,C)\n",
    "log_gs.fit(dev_data_nlp2, dev_labels2)\n",
    "print (log_gs.best_params_)"
   ]
  },
  {
   "cell_type": "code",
   "execution_count": 109,
   "metadata": {},
   "outputs": [
    {
     "name": "stdout",
     "output_type": "stream",
     "text": [
      "Original test Logistic accuracy:\n",
      "52.7327935223\n",
      "50/50 test Logistic accuracy:\n",
      "52.7327935223\n",
      "All test Logistic accuracy:\n",
      "27.7306168647\n"
     ]
    }
   ],
   "source": [
    "log_clf_best = LogisticRegression(C=0.001)\n",
    "log_clf_best.fit(train_data_nlp, train_labels)\n",
    "log_clf_best_predicted = log_clf_best.predict(test_mini_data_nlp)\n",
    "\n",
    "log_clf_best2 = LogisticRegression(C=0.001)\n",
    "log_clf_best2.fit(train_data_nlp2, train_labels2)\n",
    "log_clf_best_predicted2 = log_clf_best2.predict(test_mini_data_nlp2)\n",
    "log_clf_best_predicted3 = log_clf_best2.predict(test_mini_data_nlp3)\n",
    "\n",
    "print (\"Original test Logistic accuracy:\")\n",
    "print(accuracy_score(log_clf_best_predicted2, test_mini_labels2) * 100)\n",
    "\n",
    "print (\"50/50 test Logistic accuracy:\")\n",
    "print(accuracy_score(log_clf_best_predicted2, test_mini_labels2) * 100)\n",
    "\n",
    "print (\"All test Logistic accuracy:\")\n",
    "print(accuracy_score(log_clf_best_predicted3, test_mini_labels3) * 100)"
   ]
  },
  {
   "cell_type": "code",
   "execution_count": 110,
   "metadata": {},
   "outputs": [
    {
     "name": "stdout",
     "output_type": "stream",
     "text": [
      "Original test Confusion matrix:\n",
      "[[612   0]\n",
      " [196   0]]\n",
      "50/50 test Confusion matrix:\n",
      "[[ 87 407]\n",
      " [ 60 434]]\n",
      "All test Confusion matrix:\n",
      "[[ 546 2494]\n",
      " [  60  434]]\n"
     ]
    }
   ],
   "source": [
    "# print confusion matrix to identify mistakes\n",
    "print (\"Original test Confusion matrix:\")\n",
    "print (confusion_matrix(test_mini_labels, log_clf_best_predicted))\n",
    "\n",
    "print (\"50/50 test Confusion matrix:\")\n",
    "print (confusion_matrix(test_mini_labels2, log_clf_best_predicted2))\n",
    "\n",
    "print (\"All test Confusion matrix:\")\n",
    "print (confusion_matrix(test_mini_labels3, log_clf_best_predicted3))"
   ]
  },
  {
   "cell_type": "code",
   "execution_count": 111,
   "metadata": {},
   "outputs": [
    {
     "data": {
      "text/plain": [
       "0.5"
      ]
     },
     "execution_count": 111,
     "metadata": {},
     "output_type": "execute_result"
    },
    {
     "data": {
      "image/png": "[encoded data removed]",
      "text/plain": [
       "<matplotlib.figure.Figure at 0x2036c518>"
      ]
     },
     "metadata": {},
     "output_type": "display_data"
    }
   ],
   "source": [
    "fpr, tpr, _ = metrics.roc_curve(test_mini_labels, log_clf_best_predicted)\n",
    "\n",
    "df = pd.DataFrame(dict(fpr=fpr, tpr=tpr))\n",
    "plt.plot(fpr,tpr)\n",
    "\n",
    "metrics.auc(fpr,tpr)"
   ]
  },
  {
   "cell_type": "code",
   "execution_count": 112,
   "metadata": {},
   "outputs": [
    {
     "data": {
      "text/plain": [
       "0.52732793522267207"
      ]
     },
     "execution_count": 112,
     "metadata": {},
     "output_type": "execute_result"
    },
    {
     "data": {
      "image/png": "[encoded data removed]",
      "text/plain": [
       "<matplotlib.figure.Figure at 0x206f93c8>"
      ]
     },
     "metadata": {},
     "output_type": "display_data"
    }
   ],
   "source": [
    "fpr, tpr, _ = metrics.roc_curve(test_mini_labels2, log_clf_best_predicted2)\n",
    "\n",
    "df = pd.DataFrame(dict(fpr=fpr, tpr=tpr))\n",
    "plt.plot(fpr,tpr)\n",
    "\n",
    "metrics.auc(fpr,tpr)"
   ]
  },
  {
   "cell_type": "code",
   "execution_count": 113,
   "metadata": {},
   "outputs": [
    {
     "data": {
      "text/plain": [
       "0.52907388663967614"
      ]
     },
     "execution_count": 113,
     "metadata": {},
     "output_type": "execute_result"
    },
    {
     "data": {
      "image/png": "[encoded data removed]",
      "text/plain": [
       "<matplotlib.figure.Figure at 0x203830b8>"
      ]
     },
     "metadata": {},
     "output_type": "display_data"
    }
   ],
   "source": [
    "fpr, tpr, _ = metrics.roc_curve(test_mini_labels3, log_clf_best_predicted3)\n",
    "\n",
    "df = pd.DataFrame(dict(fpr=fpr, tpr=tpr))\n",
    "plt.plot(fpr,tpr)\n",
    "\n",
    "metrics.auc(fpr,tpr)"
   ]
  },
  {
   "cell_type": "code",
   "execution_count": null,
   "metadata": {
    "collapsed": true
   },
   "outputs": [],
   "source": []
  }
 ],
 "metadata": {
  "anaconda-cloud": {},
  "kernelspec": {
   "display_name": "Python 3",
   "language": "python",
   "name": "python3"
  },
  "language_info": {
   "codemirror_mode": {
    "name": "ipython",
    "version": 3
   },
   "file_extension": ".py",
   "mimetype": "text/x-python",
   "name": "python",
   "nbconvert_exporter": "python",
   "pygments_lexer": "ipython3",
   "version": "3.6.5"
  }
 },
 "nbformat": 4,
 "nbformat_minor": 2
}
