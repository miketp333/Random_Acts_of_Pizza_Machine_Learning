{
 "cells": [
  {
   "cell_type": "markdown",
   "metadata": {},
   "source": [
    "# Random Acts of Pizza\n",
    "\n",
    "This competition contains a dataset with 5671 textual requests for pizza from the Reddit community Random Acts of Pizza together with their outcome (successful/unsuccessful) and meta-data. Participants must create an algorithm capable of predicting which requests will garner a cheesy (but sincere!) act of kindness.\n",
    "\n",
    "https://www.kaggle.com/c/random-acts-of-pizza"
   ]
  },
  {
   "cell_type": "code",
   "execution_count": 31,
   "metadata": {},
   "outputs": [],
   "source": [
    "# This tells matplotlib not to try opening a new window for each plot.\n",
    "%matplotlib inline\n",
    "\n",
    "# General libraries.\n",
    "import json\n",
    "import os\n",
    "import re\n",
    "import numpy as np\n",
    "import matplotlib.pyplot as plt\n",
    "import pandas as pd\n",
    "import nltk\n",
    "import random\n",
    "import datetime\n",
    "\n",
    "# SK-learn libraries for learning.\n",
    "from sklearn.pipeline import Pipeline\n",
    "from sklearn.neighbors import KNeighborsClassifier\n",
    "from sklearn.linear_model import LogisticRegression\n",
    "from sklearn.naive_bayes import BernoulliNB\n",
    "from sklearn.naive_bayes import MultinomialNB\n",
    "from sklearn.grid_search import GridSearchCV\n",
    "from sklearn.ensemble import RandomForestClassifier\n",
    "\n",
    "# SK-learn libraries for evaluation.\n",
    "from sklearn.metrics import confusion_matrix\n",
    "from sklearn import metrics\n",
    "from sklearn.metrics import classification_report\n",
    "\n",
    "# SK-learn libraries for feature extraction from text.\n",
    "from sklearn.feature_extraction.text import *\n",
    "\n",
    "from sklearn.metrics import accuracy_score\n",
    "\n",
    "import warnings\n",
    "warnings.filterwarnings('ignore')"
   ]
  },
  {
   "cell_type": "markdown",
   "metadata": {},
   "source": [
    "##### Load the data\n",
    "\n",
    "Data fields:\n",
    "\n",
    "\"giver_username_if_known\": Reddit username of giver if known, i.e. the person satisfying the request (\"N/A\" otherwise).\n",
    "\n",
    "\"number_of_downvotes_of_request_at_retrieval\": Number of downvotes at the time the request was collected.\n",
    "\n",
    "\"number_of_upvotes_of_request_at_retrieval\": Number of upvotes at the time the request was collected.\n",
    "\n",
    "\"post_was_edited\": Boolean indicating whether this post was edited (from Reddit).\n",
    "\n",
    "\"request_id\": Identifier of the post on Reddit, e.g. \"t3_w5491\".\n",
    "\n",
    "\"request_number_of_comments_at_retrieval\": Number of comments for the request at time of retrieval.\n",
    "\n",
    "\"request_text\": Full text of the request.\n",
    "\n",
    "\"request_text_edit_aware\": Edit aware version of \"request_text\". We use a set of rules to strip edited comments indicating the success of the request such as \"EDIT: Thanks /u/foo, the pizza was delicous\".\n",
    "\n",
    "\"request_title\": Title of the request.\n",
    "\n",
    "\"requester_account_age_in_days_at_request\": Account age of requester in days at time of request.\n",
    "\n",
    "\"requester_account_age_in_days_at_retrieval\": Account age of requester in days at time of retrieval.\n",
    "\n",
    "\"requester_days_since_first_post_on_raop_at_request\": Number of days between requesters first post on RAOP and this request (zero if requester has never posted before on RAOP).\n",
    "\n",
    "\"requester_days_since_first_post_on_raop_at_retrieval\": Number of days between requesters first post on RAOP and time of retrieval.\n",
    "\n",
    "\"requester_number_of_comments_at_request\": Total number of comments on Reddit by requester at time of request.\n",
    "\n",
    "\"requester_number_of_comments_at_retrieval\": Total number of comments on Reddit by requester at time of retrieval.\n",
    "\n",
    "\"requester_number_of_comments_in_raop_at_request\": Total number of comments in RAOP by requester at time of request.\n",
    "\n",
    "\"requester_number_of_comments_in_raop_at_retrieval\": Total number of comments in RAOP by requester at time of retrieval.\n",
    "\n",
    "\"requester_number_of_posts_at_request\": Total number of posts on Reddit by requester at time of request.\n",
    "\n",
    "\"requester_number_of_posts_at_retrieval\": Total number of posts on Reddit by requester at time of retrieval.\n",
    "\n",
    "\"requester_number_of_posts_on_raop_at_request\": Total number of posts in RAOP by requester at time of request.\n",
    "\n",
    "\"requester_number_of_posts_on_raop_at_retrieval\": Total number of posts in RAOP by requester at time of retrieval.\n",
    "\n",
    "\"requester_number_of_subreddits_at_request\": The number of subreddits in which the author had already posted in at the time of request.\n",
    "\n",
    "\"requester_received_pizza\": Boolean indicating the success of the request, i.e., whether the requester received pizza.\n",
    "\n",
    "\"requester_subreddits_at_request\": The list of subreddits in which the author had already posted in at the time of request.\n",
    "\n",
    "\"requester_upvotes_minus_downvotes_at_request\": Difference of total upvotes and total downvotes of requester at time of request.\n",
    "\n",
    "\"requester_upvotes_minus_downvotes_at_retrieval\": Difference of total upvotes and total downvotes of requester at time of retrieval.\n",
    "\n",
    "\"requester_upvotes_plus_downvotes_at_request\": Sum of total upvotes and total downvotes of requester at time of request.\n",
    "\n",
    "\"requester_upvotes_plus_downvotes_at_retrieval\": Sum of total upvotes and total downvotes of requester at time of retrieval.\n",
    "\n",
    "\"requester_user_flair\": Users on RAOP receive badges (Reddit calls them flairs) which is a small picture next to their username. In our data set the user flair is either None (neither given nor received pizza, N=4282), \"shroom\" (received pizza, but not given, N=1306), or \"PIF\" (pizza given after having received, N=83).\n",
    "\n",
    "\"requester_username\": Reddit username of requester.\n",
    "\n",
    "\"unix_timestamp_of_request\": Unix timestamp of request (supposedly in timezone of user, but in most cases it is equal to the UTC timestamp -- which is incorrect since most RAOP users are from the USA).\n",
    "\n",
    "\"unix_timestamp_of_request_utc\": Unit timestamp of request in UTC."
   ]
  },
  {
   "cell_type": "code",
   "execution_count": 2,
   "metadata": {},
   "outputs": [
    {
     "data": {
      "text/plain": [
       "'C:\\\\Users\\\\mpowers\\\\Documents\\\\Berkeley\\\\W207 Machine Learning\\\\Assignments\\\\Final Project\\\\Data'"
      ]
     },
     "execution_count": 2,
     "metadata": {},
     "output_type": "execute_result"
    }
   ],
   "source": [
    "# Put data in \"Data\" folder which is in the same location as this notebook\n",
    "os.getcwd()\n",
    "os.chdir('Data')\n",
    "os.getcwd()\n",
    "#os.chdir('C:\\Users\\zolotab\\Desktop\\w207-Machine-Learning-Final-Project-master\\w207-Machine-Learning-Final-Project-master\\Data')"
   ]
  },
  {
   "cell_type": "code",
   "execution_count": 3,
   "metadata": {},
   "outputs": [],
   "source": [
    "# load data from json files to df\n",
    "with open('train.json') as fin:\n",
    "    trainjson = json.load(fin)\n",
    "\n",
    "with open('test.json') as fin:\n",
    "    testjson = json.load(fin)\n",
    "    \n",
    "df_train = pd.io.json.json_normalize(trainjson)\n",
    "df_test = pd.io.json.json_normalize(testjson)"
   ]
  },
  {
   "cell_type": "markdown",
   "metadata": {},
   "source": [
    "The outcome variable requester_received_pizza indicates if the user received pizza or not. The explanatory variables we are interested in using are free text fields that contain the title and text of the written request: request_title and request_text_edit_aware. We may also want to keep the unique id so our subset of data has a key: request_id."
   ]
  },
  {
   "cell_type": "code",
   "execution_count": 4,
   "metadata": {},
   "outputs": [
    {
     "data": {
      "text/plain": [
       "Index(['giver_username_if_known',\n",
       "       'number_of_downvotes_of_request_at_retrieval',\n",
       "       'number_of_upvotes_of_request_at_retrieval', 'post_was_edited',\n",
       "       'request_id', 'request_number_of_comments_at_retrieval', 'request_text',\n",
       "       'request_text_edit_aware', 'request_title',\n",
       "       'requester_account_age_in_days_at_request',\n",
       "       'requester_account_age_in_days_at_retrieval',\n",
       "       'requester_days_since_first_post_on_raop_at_request',\n",
       "       'requester_days_since_first_post_on_raop_at_retrieval',\n",
       "       'requester_number_of_comments_at_request',\n",
       "       'requester_number_of_comments_at_retrieval',\n",
       "       'requester_number_of_comments_in_raop_at_request',\n",
       "       'requester_number_of_comments_in_raop_at_retrieval',\n",
       "       'requester_number_of_posts_at_request',\n",
       "       'requester_number_of_posts_at_retrieval',\n",
       "       'requester_number_of_posts_on_raop_at_request',\n",
       "       'requester_number_of_posts_on_raop_at_retrieval',\n",
       "       'requester_number_of_subreddits_at_request', 'requester_received_pizza',\n",
       "       'requester_subreddits_at_request',\n",
       "       'requester_upvotes_minus_downvotes_at_request',\n",
       "       'requester_upvotes_minus_downvotes_at_retrieval',\n",
       "       'requester_upvotes_plus_downvotes_at_request',\n",
       "       'requester_upvotes_plus_downvotes_at_retrieval', 'requester_user_flair',\n",
       "       'requester_username', 'unix_timestamp_of_request',\n",
       "       'unix_timestamp_of_request_utc'],\n",
       "      dtype='object')"
      ]
     },
     "execution_count": 4,
     "metadata": {},
     "output_type": "execute_result"
    }
   ],
   "source": [
    "df_train.columns"
   ]
  },
  {
   "cell_type": "code",
   "execution_count": 5,
   "metadata": {},
   "outputs": [
    {
     "data": {
      "text/plain": [
       "Index(['giver_username_if_known', 'request_id', 'request_text_edit_aware',\n",
       "       'request_title', 'requester_account_age_in_days_at_request',\n",
       "       'requester_days_since_first_post_on_raop_at_request',\n",
       "       'requester_number_of_comments_at_request',\n",
       "       'requester_number_of_comments_in_raop_at_request',\n",
       "       'requester_number_of_posts_at_request',\n",
       "       'requester_number_of_posts_on_raop_at_request',\n",
       "       'requester_number_of_subreddits_at_request',\n",
       "       'requester_subreddits_at_request',\n",
       "       'requester_upvotes_minus_downvotes_at_request',\n",
       "       'requester_upvotes_plus_downvotes_at_request', 'requester_username',\n",
       "       'unix_timestamp_of_request', 'unix_timestamp_of_request_utc'],\n",
       "      dtype='object')"
      ]
     },
     "execution_count": 5,
     "metadata": {},
     "output_type": "execute_result"
    }
   ],
   "source": [
    "df_test.columns"
   ]
  },
  {
   "cell_type": "markdown",
   "metadata": {},
   "source": [
    "# The training and test datasets do not have the same number of features.  Most importantly, the test data does not have the \"requester_received_pizza\" output label!"
   ]
  },
  {
   "cell_type": "markdown",
   "metadata": {},
   "source": [
    "# Remove Missing Values"
   ]
  },
  {
   "cell_type": "code",
   "execution_count": 8,
   "metadata": {},
   "outputs": [
    {
     "name": "stdout",
     "output_type": "stream",
     "text": [
      "104\n",
      "104\n",
      "0\n",
      "0\n",
      "0\n"
     ]
    }
   ],
   "source": [
    "print(len(df_train[df_train['request_text']==\"\"]))\n",
    "print(len(df_train[df_train['request_text_edit_aware']==\"\"]))\n",
    " # All of them have a title. Sometimes a request is made only using a title.\n",
    " # This should support our plan to concatentate the request title and text\n",
    "print(len(df_train[df_train['request_title']==\"\"]))\n",
    "print(df_train['request_text_edit_aware'].isnull().sum())\n",
    "print(df_train['request_title'].isnull().sum())"
   ]
  },
  {
   "cell_type": "markdown",
   "metadata": {},
   "source": [
    "looks like there are some rows with missing text.  However there are no rows that are recognized as NaN."
   ]
  },
  {
   "cell_type": "code",
   "execution_count": 10,
   "metadata": {
    "scrolled": false
   },
   "outputs": [
    {
     "data": {
      "text/html": [
       "<div>\n",
       "<style scoped>\n",
       "    .dataframe tbody tr th:only-of-type {\n",
       "        vertical-align: middle;\n",
       "    }\n",
       "\n",
       "    .dataframe tbody tr th {\n",
       "        vertical-align: top;\n",
       "    }\n",
       "\n",
       "    .dataframe thead th {\n",
       "        text-align: right;\n",
       "    }\n",
       "</style>\n",
       "<table border=\"1\" class=\"dataframe\">\n",
       "  <thead>\n",
       "    <tr style=\"text-align: right;\">\n",
       "      <th></th>\n",
       "      <th>giver_username_if_known</th>\n",
       "      <th>number_of_downvotes_of_request_at_retrieval</th>\n",
       "      <th>number_of_upvotes_of_request_at_retrieval</th>\n",
       "      <th>post_was_edited</th>\n",
       "      <th>request_id</th>\n",
       "      <th>request_number_of_comments_at_retrieval</th>\n",
       "      <th>request_text</th>\n",
       "      <th>request_text_edit_aware</th>\n",
       "      <th>request_title</th>\n",
       "      <th>requester_account_age_in_days_at_request</th>\n",
       "      <th>...</th>\n",
       "      <th>requester_received_pizza</th>\n",
       "      <th>requester_subreddits_at_request</th>\n",
       "      <th>requester_upvotes_minus_downvotes_at_request</th>\n",
       "      <th>requester_upvotes_minus_downvotes_at_retrieval</th>\n",
       "      <th>requester_upvotes_plus_downvotes_at_request</th>\n",
       "      <th>requester_upvotes_plus_downvotes_at_retrieval</th>\n",
       "      <th>requester_user_flair</th>\n",
       "      <th>requester_username</th>\n",
       "      <th>unix_timestamp_of_request</th>\n",
       "      <th>unix_timestamp_of_request_utc</th>\n",
       "    </tr>\n",
       "  </thead>\n",
       "  <tbody>\n",
       "    <tr>\n",
       "      <th>41</th>\n",
       "      <td>N/A</td>\n",
       "      <td>2</td>\n",
       "      <td>11</td>\n",
       "      <td>False</td>\n",
       "      <td>t3_rtzx6</td>\n",
       "      <td>12</td>\n",
       "      <td></td>\n",
       "      <td></td>\n",
       "      <td>(Request) Bowling Green, Ohio.  My bank accoun...</td>\n",
       "      <td>249.293229</td>\n",
       "      <td>...</td>\n",
       "      <td>True</td>\n",
       "      <td>[4chan, AdviceAnimals, AmISexy, Art, AskReddit...</td>\n",
       "      <td>3843</td>\n",
       "      <td>6993</td>\n",
       "      <td>6429</td>\n",
       "      <td>12127</td>\n",
       "      <td>shroom</td>\n",
       "      <td>bingbangbooom</td>\n",
       "      <td>1.333596e+09</td>\n",
       "      <td>1.333592e+09</td>\n",
       "    </tr>\n",
       "    <tr>\n",
       "      <th>125</th>\n",
       "      <td>N/A</td>\n",
       "      <td>3</td>\n",
       "      <td>5</td>\n",
       "      <td>False</td>\n",
       "      <td>t3_1d743u</td>\n",
       "      <td>3</td>\n",
       "      <td></td>\n",
       "      <td></td>\n",
       "      <td>[Request] I am hungry and would like to have s...</td>\n",
       "      <td>249.185787</td>\n",
       "      <td>...</td>\n",
       "      <td>False</td>\n",
       "      <td>[UniversityofReddit]</td>\n",
       "      <td>1</td>\n",
       "      <td>6</td>\n",
       "      <td>1</td>\n",
       "      <td>18</td>\n",
       "      <td>NaN</td>\n",
       "      <td>sir_scotch</td>\n",
       "      <td>1.367036e+09</td>\n",
       "      <td>1.367033e+09</td>\n",
       "    </tr>\n",
       "    <tr>\n",
       "      <th>174</th>\n",
       "      <td>N/A</td>\n",
       "      <td>9</td>\n",
       "      <td>9</td>\n",
       "      <td>False</td>\n",
       "      <td>t3_18h7g0</td>\n",
       "      <td>1</td>\n",
       "      <td></td>\n",
       "      <td></td>\n",
       "      <td>[REQUEST] Kentucky USA i am so hungry. please ...</td>\n",
       "      <td>508.154676</td>\n",
       "      <td>...</td>\n",
       "      <td>False</td>\n",
       "      <td>[LoLGaymers, Random_Acts_Of_Pizza, WTF, gaymer...</td>\n",
       "      <td>4</td>\n",
       "      <td>4</td>\n",
       "      <td>22</td>\n",
       "      <td>22</td>\n",
       "      <td>NaN</td>\n",
       "      <td>tyalah</td>\n",
       "      <td>1.360799e+09</td>\n",
       "      <td>1.360799e+09</td>\n",
       "    </tr>\n",
       "    <tr>\n",
       "      <th>250</th>\n",
       "      <td>N/A</td>\n",
       "      <td>0</td>\n",
       "      <td>4</td>\n",
       "      <td>False</td>\n",
       "      <td>t3_1n1ors</td>\n",
       "      <td>0</td>\n",
       "      <td></td>\n",
       "      <td></td>\n",
       "      <td>[REQUEST] Belmont, MA. Broke and sick. Pizza w...</td>\n",
       "      <td>239.692940</td>\n",
       "      <td>...</td>\n",
       "      <td>False</td>\n",
       "      <td>[AMA, Anxiety, AskMen, AskReddit, Assistance, ...</td>\n",
       "      <td>1415</td>\n",
       "      <td>1419</td>\n",
       "      <td>2631</td>\n",
       "      <td>2639</td>\n",
       "      <td>NaN</td>\n",
       "      <td>tOki_Sori</td>\n",
       "      <td>1.380077e+09</td>\n",
       "      <td>1.380049e+09</td>\n",
       "    </tr>\n",
       "    <tr>\n",
       "      <th>308</th>\n",
       "      <td>N/A</td>\n",
       "      <td>1</td>\n",
       "      <td>7</td>\n",
       "      <td>False</td>\n",
       "      <td>t3_1czbz2</td>\n",
       "      <td>0</td>\n",
       "      <td></td>\n",
       "      <td></td>\n",
       "      <td>[request] London, Ontario. I just quit smoking...</td>\n",
       "      <td>162.118854</td>\n",
       "      <td>...</td>\n",
       "      <td>False</td>\n",
       "      <td>[AdviceAnimals, AskReddit, Music, NewOrleans, ...</td>\n",
       "      <td>22</td>\n",
       "      <td>37</td>\n",
       "      <td>72</td>\n",
       "      <td>95</td>\n",
       "      <td>NaN</td>\n",
       "      <td>Juiceyp</td>\n",
       "      <td>1.366772e+09</td>\n",
       "      <td>1.366769e+09</td>\n",
       "    </tr>\n",
       "  </tbody>\n",
       "</table>\n",
       "<p>5 rows × 32 columns</p>\n",
       "</div>"
      ],
      "text/plain": [
       "    giver_username_if_known  number_of_downvotes_of_request_at_retrieval  \\\n",
       "41                      N/A                                            2   \n",
       "125                     N/A                                            3   \n",
       "174                     N/A                                            9   \n",
       "250                     N/A                                            0   \n",
       "308                     N/A                                            1   \n",
       "\n",
       "     number_of_upvotes_of_request_at_retrieval post_was_edited request_id  \\\n",
       "41                                          11           False   t3_rtzx6   \n",
       "125                                          5           False  t3_1d743u   \n",
       "174                                          9           False  t3_18h7g0   \n",
       "250                                          4           False  t3_1n1ors   \n",
       "308                                          7           False  t3_1czbz2   \n",
       "\n",
       "     request_number_of_comments_at_retrieval request_text  \\\n",
       "41                                        12                \n",
       "125                                        3                \n",
       "174                                        1                \n",
       "250                                        0                \n",
       "308                                        0                \n",
       "\n",
       "    request_text_edit_aware  \\\n",
       "41                            \n",
       "125                           \n",
       "174                           \n",
       "250                           \n",
       "308                           \n",
       "\n",
       "                                         request_title  \\\n",
       "41   (Request) Bowling Green, Ohio.  My bank accoun...   \n",
       "125  [Request] I am hungry and would like to have s...   \n",
       "174  [REQUEST] Kentucky USA i am so hungry. please ...   \n",
       "250  [REQUEST] Belmont, MA. Broke and sick. Pizza w...   \n",
       "308  [request] London, Ontario. I just quit smoking...   \n",
       "\n",
       "     requester_account_age_in_days_at_request              ...                \\\n",
       "41                                 249.293229              ...                 \n",
       "125                                249.185787              ...                 \n",
       "174                                508.154676              ...                 \n",
       "250                                239.692940              ...                 \n",
       "308                                162.118854              ...                 \n",
       "\n",
       "     requester_received_pizza  \\\n",
       "41                       True   \n",
       "125                     False   \n",
       "174                     False   \n",
       "250                     False   \n",
       "308                     False   \n",
       "\n",
       "                       requester_subreddits_at_request  \\\n",
       "41   [4chan, AdviceAnimals, AmISexy, Art, AskReddit...   \n",
       "125                               [UniversityofReddit]   \n",
       "174  [LoLGaymers, Random_Acts_Of_Pizza, WTF, gaymer...   \n",
       "250  [AMA, Anxiety, AskMen, AskReddit, Assistance, ...   \n",
       "308  [AdviceAnimals, AskReddit, Music, NewOrleans, ...   \n",
       "\n",
       "     requester_upvotes_minus_downvotes_at_request  \\\n",
       "41                                           3843   \n",
       "125                                             1   \n",
       "174                                             4   \n",
       "250                                          1415   \n",
       "308                                            22   \n",
       "\n",
       "     requester_upvotes_minus_downvotes_at_retrieval  \\\n",
       "41                                             6993   \n",
       "125                                               6   \n",
       "174                                               4   \n",
       "250                                            1419   \n",
       "308                                              37   \n",
       "\n",
       "     requester_upvotes_plus_downvotes_at_request  \\\n",
       "41                                          6429   \n",
       "125                                            1   \n",
       "174                                           22   \n",
       "250                                         2631   \n",
       "308                                           72   \n",
       "\n",
       "     requester_upvotes_plus_downvotes_at_retrieval  requester_user_flair  \\\n",
       "41                                           12127                shroom   \n",
       "125                                             18                   NaN   \n",
       "174                                             22                   NaN   \n",
       "250                                           2639                   NaN   \n",
       "308                                             95                   NaN   \n",
       "\n",
       "     requester_username  unix_timestamp_of_request  \\\n",
       "41        bingbangbooom               1.333596e+09   \n",
       "125          sir_scotch               1.367036e+09   \n",
       "174              tyalah               1.360799e+09   \n",
       "250           tOki_Sori               1.380077e+09   \n",
       "308             Juiceyp               1.366772e+09   \n",
       "\n",
       "     unix_timestamp_of_request_utc  \n",
       "41                    1.333592e+09  \n",
       "125                   1.367033e+09  \n",
       "174                   1.360799e+09  \n",
       "250                   1.380049e+09  \n",
       "308                   1.366769e+09  \n",
       "\n",
       "[5 rows x 32 columns]"
      ]
     },
     "execution_count": 10,
     "metadata": {},
     "output_type": "execute_result"
    }
   ],
   "source": [
    "df_train.ix[np.where(df_train['request_text_edit_aware']==\"\")].head()"
   ]
  },
  {
   "cell_type": "code",
   "execution_count": 7,
   "metadata": {},
   "outputs": [
    {
     "data": {
      "text/plain": [
       "(array([  41,  125,  174,  250,  308,  325,  340,  343,  409,  605,  735,\n",
       "         751,  852,  858,  866,  886,  900,  916,  951, 1055, 1205, 1211,\n",
       "        1228, 1248, 1272, 1281, 1375, 1379, 1402, 1416, 1456, 1484, 1505,\n",
       "        1546, 1562, 1611, 1628, 1643, 1650, 1664, 1666, 1687, 1699, 1755,\n",
       "        1870, 1922, 1932, 2018, 2052, 2077, 2215, 2230, 2232, 2310, 2368,\n",
       "        2393, 2408, 2462, 2506, 2569, 2577, 2672, 2683, 2698, 2778, 2787,\n",
       "        2800, 2819, 2826, 2860, 2869, 2889, 2912, 2936, 2956, 2966, 2971,\n",
       "        2986, 2996, 3010, 3033, 3090, 3134, 3152, 3168, 3310, 3330, 3360,\n",
       "        3421, 3430, 3467, 3510, 3589, 3610, 3627, 3717, 3735, 3749, 3767,\n",
       "        3867, 3880, 3892, 4022, 4027], dtype=int64),)"
      ]
     },
     "execution_count": 7,
     "metadata": {},
     "output_type": "execute_result"
    }
   ],
   "source": [
    "np.where(df_train['request_text_edit_aware']==\"\")"
   ]
  },
  {
   "cell_type": "code",
   "execution_count": 8,
   "metadata": {},
   "outputs": [
    {
     "name": "stderr",
     "output_type": "stream",
     "text": [
      "C:\\Users\\mpowers\\AppData\\Local\\Continuum\\anaconda3\\lib\\site-packages\\ipykernel_launcher.py:1: DeprecationWarning: \n",
      ".ix is deprecated. Please use\n",
      ".loc for label based indexing or\n",
      ".iloc for positional indexing\n",
      "\n",
      "See the documentation here:\n",
      "http://pandas.pydata.org/pandas-docs/stable/indexing.html#ix-indexer-is-deprecated\n",
      "  \"\"\"Entry point for launching an IPython kernel.\n"
     ]
    },
    {
     "data": {
      "text/plain": [
       "''"
      ]
     },
     "execution_count": 8,
     "metadata": {},
     "output_type": "execute_result"
    }
   ],
   "source": [
    "df_train.ix[41].request_text"
   ]
  },
  {
   "cell_type": "code",
   "execution_count": 12,
   "metadata": {},
   "outputs": [],
   "source": [
    "# This removes the empty rows, however it screws up the vectorizer by creating \"NaNs\" elsewhere\n",
    "# df_train = df_train.drop(df_train.index[np.where(df_train['request_text_edit_aware']==\"\")])"
   ]
  },
  {
   "cell_type": "markdown",
   "metadata": {},
   "source": [
    "# Split data sets into train/dev/test"
   ]
  },
  {
   "cell_type": "markdown",
   "metadata": {},
   "source": [
    "Since the test data does not indicate whether a pizza was revceived we split the trainer data to have a labeled test set."
   ]
  },
  {
   "cell_type": "code",
   "execution_count": 13,
   "metadata": {},
   "outputs": [
    {
     "name": "stdout",
     "output_type": "stream",
     "text": [
      "train data shape:  (2424, 32)\n",
      "dev data shape: (808, 32)\n",
      "test data shape: (808, 32)\n"
     ]
    }
   ],
   "source": [
    "# randomize and split data set into train test and dev using 60/20/20 split\n",
    "random.seed(33)\n",
    "shuffle = np.random.permutation(np.arange(df_train.shape[0]))\n",
    "df_train_data, df_train_labels = df_train.ix[shuffle, :], df_train.ix[shuffle, 'requester_received_pizza']\n",
    "#df_train_data, df_train_labels = df_train, df_train['requester_received_pizza']\n",
    "\n",
    "# Set some variables to test, dev and training data\n",
    "cutoff1 = int(df_train_labels.shape[0]*0.6)\n",
    "cutoff2 = int(df_train_labels.shape[0]*0.8)\n",
    "train_data, train_labels = df_train_data[:cutoff1], df_train_labels[:cutoff1]\n",
    "dev_data, dev_labels = df_train_data[cutoff1:cutoff2], df_train_labels[cutoff1:cutoff2]\n",
    "test_mini_data, test_mini_labels = df_train_data[cutoff2:], df_train_labels[cutoff2:]\n",
    "\n",
    "print ('train data shape: ', train_data.shape)\n",
    "print ('dev data shape:', dev_data.shape)\n",
    "print ('test data shape:', test_mini_data.shape)"
   ]
  },
  {
   "cell_type": "markdown",
   "metadata": {},
   "source": [
    "# EDA - are there any linear relationships between the numeric features and the outcome variable?"
   ]
  },
  {
   "cell_type": "code",
   "execution_count": 12,
   "metadata": {},
   "outputs": [
    {
     "data": {
      "text/plain": [
       "array(['giver_username_if_known', 'request_id', 'request_text_edit_aware',\n",
       "       'request_title', 'requester_account_age_in_days_at_request',\n",
       "       'requester_days_since_first_post_on_raop_at_request',\n",
       "       'requester_number_of_comments_at_request',\n",
       "       'requester_number_of_comments_in_raop_at_request',\n",
       "       'requester_number_of_posts_at_request',\n",
       "       'requester_number_of_posts_on_raop_at_request',\n",
       "       'requester_number_of_subreddits_at_request',\n",
       "       'requester_subreddits_at_request',\n",
       "       'requester_upvotes_minus_downvotes_at_request',\n",
       "       'requester_upvotes_plus_downvotes_at_request',\n",
       "       'requester_username', 'unix_timestamp_of_request',\n",
       "       'unix_timestamp_of_request_utc'], dtype=object)"
      ]
     },
     "execution_count": 12,
     "metadata": {},
     "output_type": "execute_result"
    }
   ],
   "source": [
    "# Only look at the features that are available in the test data\n",
    "\n",
    "np.intersect1d(df_train.columns, df_test.columns)"
   ]
  },
  {
   "cell_type": "code",
   "execution_count": 13,
   "metadata": {},
   "outputs": [
    {
     "data": {
      "image/png": "[encoded data removed]",
      "text/plain": [
       "<Figure size 432x288 with 1 Axes>"
      ]
     },
     "metadata": {},
     "output_type": "display_data"
    }
   ],
   "source": [
    "# sample scatter plot\n",
    "fig = plt.figure()\n",
    "ax = plt.gca()\n",
    "ax.scatter(train_data['requester_account_age_in_days_at_request'], train_data['requester_received_pizza'])\n",
    "#ax.set_yscale('log')\n",
    "#ax.set_xscale('log')\n",
    "plt.show()"
   ]
  },
  {
   "cell_type": "code",
   "execution_count": 25,
   "metadata": {
    "scrolled": true
   },
   "outputs": [
    {
     "data": {
      "image/png": "[encoded data removed]",
      "text/plain": [
       "<Figure size 432x288 with 2 Axes>"
      ]
     },
     "metadata": {},
     "output_type": "display_data"
    }
   ],
   "source": [
    "# Correlations\n",
    "numeric_features = [\n",
    "'requester_account_age_in_days_at_request', \n",
    "'requester_days_since_first_post_on_raop_at_request', \n",
    "'requester_number_of_comments_at_request', \n",
    "'requester_number_of_comments_in_raop_at_request',\n",
    "'requester_number_of_posts_at_request',\n",
    "'requester_number_of_posts_on_raop_at_request',\n",
    "'requester_number_of_subreddits_at_request', \n",
    "'requester_upvotes_minus_downvotes_at_request', \n",
    "'unix_timestamp_of_request', \n",
    "'requester_received_pizza' ]\n",
    "correlations = train_data[numeric_features].corr()\n",
    "\n",
    "# plot correlation matrix\n",
    "fig = plt.figure()\n",
    "ax = fig.add_subplot(111)\n",
    "cax = ax.matshow(correlations, vmin=-1, vmax=1)\n",
    "fig.colorbar(cax)\n",
    "ticks = np.arange(0,9,1)\n",
    "ax.set_xticks(ticks)\n",
    "ax.set_yticks(ticks)\n",
    "#ax.set_xticklabels(numeric_features)\n",
    "ax.set_yticklabels(numeric_features)\n",
    "plt.show()"
   ]
  },
  {
   "cell_type": "markdown",
   "metadata": {},
   "source": [
    "As expected there are high correlations between number of posts and age of account as well as number of subreddits, however low correlation with the outcome variable 'requester_received_pizza'."
   ]
  },
  {
   "cell_type": "code",
   "execution_count": 27,
   "metadata": {},
   "outputs": [
    {
     "data": {
      "image/png": "[encoded data removed]",
      "text/plain": [
       "<Figure size 1080x1296 with 12 Axes>"
      ]
     },
     "metadata": {},
     "output_type": "display_data"
    }
   ],
   "source": [
    "# Histograms of numeric variables\n",
    "hist = train_data[numeric_features].hist(grid=False, layout=(4,3), figsize=(15,18))"
   ]
  },
  {
   "cell_type": "code",
   "execution_count": 30,
   "metadata": {},
   "outputs": [],
   "source": [
    "# Scatter plot matrix\n",
    "from pandas import scatter_matrix\n",
    "\n",
    "# MP Note: This doesn't work for me\n",
    "# bsm = scatter_matrix(train_data[numeric_features], alpha=0.2, figsize=(20, 20), diagonal='kde')"
   ]
  },
  {
   "cell_type": "markdown",
   "metadata": {},
   "source": [
    "# Modeling using Naive Count Vectorizer"
   ]
  },
  {
   "cell_type": "markdown",
   "metadata": {},
   "source": [
    "# Vectorizing the text features"
   ]
  },
  {
   "cell_type": "code",
   "execution_count": 58,
   "metadata": {},
   "outputs": [],
   "source": [
    "vectorizer = CountVectorizer()\n",
    "train_data_nlp = vectorizer.fit_transform(train_data['request_text_edit_aware'])\n",
    "dev_data_nlp = vectorizer.transform(dev_data['request_text_edit_aware'])\n",
    "test_mini_data_nlp = vectorizer.transform(test_mini_data['request_text_edit_aware'])"
   ]
  },
  {
   "cell_type": "code",
   "execution_count": 59,
   "metadata": {},
   "outputs": [
    {
     "name": "stdout",
     "output_type": "stream",
     "text": [
      "Size of the vocabulary:\n",
      "9389\n"
     ]
    }
   ],
   "source": [
    "print(\"Size of the vocabulary:\")\n",
    "print(train_data_nlp.shape[1])"
   ]
  },
  {
   "cell_type": "markdown",
   "metadata": {},
   "source": [
    "# KNN Model"
   ]
  },
  {
   "cell_type": "code",
   "execution_count": 60,
   "metadata": {},
   "outputs": [
    {
     "name": "stdout",
     "output_type": "stream",
     "text": [
      "{'n_neighbors': 8}\n"
     ]
    }
   ],
   "source": [
    "k_values = {\"n_neighbors\": list(range(1,10))}\n",
    "knn_gs = GridSearchCV(estimator=KNeighborsClassifier(), param_grid=k_values)\n",
    "knn_gs.fit(dev_data_nlp, dev_labels)\n",
    "print (knn_gs.best_params_)"
   ]
  },
  {
   "cell_type": "code",
   "execution_count": 61,
   "metadata": {},
   "outputs": [
    {
     "name": "stdout",
     "output_type": "stream",
     "text": [
      "KNN accuracy:\n",
      "76.11386138613861\n"
     ]
    }
   ],
   "source": [
    "knn_clf_best = KNeighborsClassifier(n_neighbors=knn_gs.best_params_['n_neighbors'])\n",
    "knn_clf_best.fit(train_data_nlp, train_labels)\n",
    "knn_clf_best_predicted = knn_clf_best.predict(test_mini_data_nlp)\n",
    "\n",
    "print (\"KNN accuracy:\")\n",
    "print(accuracy_score(knn_clf_best_predicted, test_mini_labels) * 100)"
   ]
  },
  {
   "cell_type": "code",
   "execution_count": 62,
   "metadata": {},
   "outputs": [
    {
     "name": "stdout",
     "output_type": "stream",
     "text": [
      "Confusion matrix:\n",
      "[[611   4]\n",
      " [189   4]]\n"
     ]
    }
   ],
   "source": [
    "# print confusion matrix to identify mistakes\n",
    "print (\"Confusion matrix:\")\n",
    "print (confusion_matrix(test_mini_labels, knn_clf_best_predicted))"
   ]
  },
  {
   "cell_type": "markdown",
   "metadata": {},
   "source": [
    "# Multinomial Model"
   ]
  },
  {
   "cell_type": "code",
   "execution_count": 63,
   "metadata": {},
   "outputs": [
    {
     "name": "stdout",
     "output_type": "stream",
     "text": [
      "{'alpha': 5}\n"
     ]
    }
   ],
   "source": [
    "# Multinomial modeling\n",
    "alphas = {'alpha': [0.01, 0.05, 0.1, 0.5, 0.8, 1, 1.5, 5, 10]}\n",
    "multi_gs = GridSearchCV(estimator=MultinomialNB(), param_grid=alphas)\n",
    "multi_gs.fit(dev_data_nlp, dev_labels)\n",
    "print (multi_gs.best_params_)"
   ]
  },
  {
   "cell_type": "code",
   "execution_count": 64,
   "metadata": {},
   "outputs": [
    {
     "name": "stdout",
     "output_type": "stream",
     "text": [
      "Multinomial accuracy:\n",
      "75.99009900990099\n"
     ]
    }
   ],
   "source": [
    "multi_clf_best = MultinomialNB(alpha=multi_gs.best_params_['alpha'])\n",
    "multi_clf_best.fit(train_data_nlp, train_labels)\n",
    "multi_clf_best_predicted = multi_clf_best.predict(test_mini_data_nlp)\n",
    "\n",
    "print (\"Multinomial accuracy:\")\n",
    "print(accuracy_score(multi_clf_best_predicted, test_mini_labels) * 100)"
   ]
  },
  {
   "cell_type": "code",
   "execution_count": 65,
   "metadata": {},
   "outputs": [
    {
     "name": "stdout",
     "output_type": "stream",
     "text": [
      "Confusion matrix:\n",
      "[[614   1]\n",
      " [193   0]]\n"
     ]
    }
   ],
   "source": [
    "# print confusion matrix to identify mistakes\n",
    "print (\"Confusion matrix:\")\n",
    "print (confusion_matrix(test_mini_labels, multi_clf_best_predicted))"
   ]
  },
  {
   "cell_type": "markdown",
   "metadata": {},
   "source": [
    "# Logistic Model"
   ]
  },
  {
   "cell_type": "code",
   "execution_count": 66,
   "metadata": {},
   "outputs": [
    {
     "name": "stdout",
     "output_type": "stream",
     "text": [
      "{'C': 0.001}\n"
     ]
    }
   ],
   "source": [
    "# Logisitc modeling\n",
    "log_clf = LogisticRegression()\n",
    "C = {\"C\": [0.001, 0.01, 0.02, 0.03, 0.04, 0.05, 0.1, 0.5, 0.8, 1, 1.5, 5, 10]}\n",
    "log_gs = GridSearchCV(log_clf,C)\n",
    "log_gs.fit(dev_data_nlp, dev_labels)\n",
    "print (log_gs.best_params_)"
   ]
  },
  {
   "cell_type": "code",
   "execution_count": 67,
   "metadata": {},
   "outputs": [
    {
     "name": "stdout",
     "output_type": "stream",
     "text": [
      "Logistic accuracy:\n",
      "76.11386138613861\n"
     ]
    }
   ],
   "source": [
    "log_clf_best = LogisticRegression(C=log_gs.best_params_['C'])\n",
    "log_clf_best.fit(train_data_nlp, train_labels)\n",
    "log_clf_best_predicted = log_clf_best.predict(test_mini_data_nlp)\n",
    "\n",
    "print (\"Logistic accuracy:\")\n",
    "print(accuracy_score(log_clf_best_predicted, test_mini_labels) * 100)"
   ]
  },
  {
   "cell_type": "code",
   "execution_count": 68,
   "metadata": {},
   "outputs": [
    {
     "name": "stdout",
     "output_type": "stream",
     "text": [
      "Confusion matrix:\n",
      "[[615   0]\n",
      " [193   0]]\n"
     ]
    }
   ],
   "source": [
    "# print confusion matrix to identify mistakes\n",
    "print (\"Confusion matrix:\")\n",
    "print (confusion_matrix(test_mini_labels, log_clf_best_predicted))"
   ]
  },
  {
   "cell_type": "markdown",
   "metadata": {},
   "source": [
    "# Advanced Count Vectorizer"
   ]
  },
  {
   "cell_type": "markdown",
   "metadata": {},
   "source": [
    "code from the Kaggle kernel"
   ]
  },
  {
   "cell_type": "code",
   "execution_count": 27,
   "metadata": {},
   "outputs": [],
   "source": [
    "# # ***** Run Once *****\n",
    "# # Downloading corpus of stopwords and other functions\n",
    "\n",
    "# nltk.download()"
   ]
  },
  {
   "cell_type": "code",
   "execution_count": 69,
   "metadata": {},
   "outputs": [],
   "source": [
    "# Removing stopwords and punctuations\n",
    "\n",
    "from string import punctuation\n",
    "from nltk.corpus import stopwords\n",
    "from nltk import sent_tokenize, word_tokenize\n",
    "\n",
    "\n",
    "stopwords_en = set(stopwords.words('english'))\n",
    "\n",
    "# Stopwords from stopwords-json\n",
    "stopwords_json = {\"en\":[\"a\",\"a's\",\"able\",\"about\",\"above\",\"according\",\"accordingly\",\"across\",\"actually\",\"after\",\"afterwards\",\"again\",\"against\",\"ain't\",\"all\",\"allow\",\"allows\",\"almost\",\"alone\",\"along\",\"already\",\"also\",\"although\",\"always\",\"am\",\"among\",\"amongst\",\"an\",\"and\",\"another\",\"any\",\"anybody\",\"anyhow\",\"anyone\",\"anything\",\"anyway\",\"anyways\",\"anywhere\",\"apart\",\"appear\",\"appreciate\",\"appropriate\",\"are\",\"aren't\",\"around\",\"as\",\"aside\",\"ask\",\"asking\",\"associated\",\"at\",\"available\",\"away\",\"awfully\",\"b\",\"be\",\"became\",\"because\",\"become\",\"becomes\",\"becoming\",\"been\",\"before\",\"beforehand\",\"behind\",\"being\",\"believe\",\"below\",\"beside\",\"besides\",\"best\",\"better\",\"between\",\"beyond\",\"both\",\"brief\",\"but\",\"by\",\"c\",\"c'mon\",\"c's\",\"came\",\"can\",\"can't\",\"cannot\",\"cant\",\"cause\",\"causes\",\"certain\",\"certainly\",\"changes\",\"clearly\",\"co\",\"com\",\"come\",\"comes\",\"concerning\",\"consequently\",\"consider\",\"considering\",\"contain\",\"containing\",\"contains\",\"corresponding\",\"could\",\"couldn't\",\"course\",\"currently\",\"d\",\"definitely\",\"described\",\"despite\",\"did\",\"didn't\",\"different\",\"do\",\"does\",\"doesn't\",\"doing\",\"don't\",\"done\",\"down\",\"downwards\",\"during\",\"e\",\"each\",\"edu\",\"eg\",\"eight\",\"either\",\"else\",\"elsewhere\",\"enough\",\"entirely\",\"especially\",\"et\",\"etc\",\"even\",\"ever\",\"every\",\"everybody\",\"everyone\",\"everything\",\"everywhere\",\"ex\",\"exactly\",\"example\",\"except\",\"f\",\"far\",\"few\",\"fifth\",\"first\",\"five\",\"followed\",\"following\",\"follows\",\"for\",\"former\",\"formerly\",\"forth\",\"four\",\"from\",\"further\",\"furthermore\",\"g\",\"get\",\"gets\",\"getting\",\"given\",\"gives\",\"go\",\"goes\",\"going\",\"gone\",\"got\",\"gotten\",\"greetings\",\"h\",\"had\",\"hadn't\",\"happens\",\"hardly\",\"has\",\"hasn't\",\"have\",\"haven't\",\"having\",\"he\",\"he's\",\"hello\",\"help\",\"hence\",\"her\",\"here\",\"here's\",\"hereafter\",\"hereby\",\"herein\",\"hereupon\",\"hers\",\"herself\",\"hi\",\"him\",\"himself\",\"his\",\"hither\",\"hopefully\",\"how\",\"howbeit\",\"however\",\"i\",\"i'd\",\"i'll\",\"i'm\",\"i've\",\"ie\",\"if\",\"ignored\",\"immediate\",\"in\",\"inasmuch\",\"inc\",\"indeed\",\"indicate\",\"indicated\",\"indicates\",\"inner\",\"insofar\",\"instead\",\"into\",\"inward\",\"is\",\"isn't\",\"it\",\"it'd\",\"it'll\",\"it's\",\"its\",\"itself\",\"j\",\"just\",\"k\",\"keep\",\"keeps\",\"kept\",\"know\",\"known\",\"knows\",\"l\",\"last\",\"lately\",\"later\",\"latter\",\"latterly\",\"least\",\"less\",\"lest\",\"let\",\"let's\",\"like\",\"liked\",\"likely\",\"little\",\"look\",\"looking\",\"looks\",\"ltd\",\"m\",\"mainly\",\"many\",\"may\",\"maybe\",\"me\",\"mean\",\"meanwhile\",\"merely\",\"might\",\"more\",\"moreover\",\"most\",\"mostly\",\"much\",\"must\",\"my\",\"myself\",\"n\",\"name\",\"namely\",\"nd\",\"near\",\"nearly\",\"necessary\",\"need\",\"needs\",\"neither\",\"never\",\"nevertheless\",\"new\",\"next\",\"nine\",\"no\",\"nobody\",\"non\",\"none\",\"noone\",\"nor\",\"normally\",\"not\",\"nothing\",\"novel\",\"now\",\"nowhere\",\"o\",\"obviously\",\"of\",\"off\",\"often\",\"oh\",\"ok\",\"okay\",\"old\",\"on\",\"once\",\"one\",\"ones\",\"only\",\"onto\",\"or\",\"other\",\"others\",\"otherwise\",\"ought\",\"our\",\"ours\",\"ourselves\",\"out\",\"outside\",\"over\",\"overall\",\"own\",\"p\",\"particular\",\"particularly\",\"per\",\"perhaps\",\"placed\",\"please\",\"plus\",\"possible\",\"presumably\",\"probably\",\"provides\",\"q\",\"que\",\"quite\",\"qv\",\"r\",\"rather\",\"rd\",\"re\",\"really\",\"reasonably\",\"regarding\",\"regardless\",\"regards\",\"relatively\",\"respectively\",\"right\",\"s\",\"said\",\"same\",\"saw\",\"say\",\"saying\",\"says\",\"second\",\"secondly\",\"see\",\"seeing\",\"seem\",\"seemed\",\"seeming\",\"seems\",\"seen\",\"self\",\"selves\",\"sensible\",\"sent\",\"serious\",\"seriously\",\"seven\",\"several\",\"shall\",\"she\",\"should\",\"shouldn't\",\"since\",\"six\",\"so\",\"some\",\"somebody\",\"somehow\",\"someone\",\"something\",\"sometime\",\"sometimes\",\"somewhat\",\"somewhere\",\"soon\",\"sorry\",\"specified\",\"specify\",\"specifying\",\"still\",\"sub\",\"such\",\"sup\",\"sure\",\"t\",\"t's\",\"take\",\"taken\",\"tell\",\"tends\",\"th\",\"than\",\"thank\",\"thanks\",\"thanx\",\"that\",\"that's\",\"thats\",\"the\",\"their\",\"theirs\",\"them\",\"themselves\",\"then\",\"thence\",\"there\",\"there's\",\"thereafter\",\"thereby\",\"therefore\",\"therein\",\"theres\",\"thereupon\",\"these\",\"they\",\"they'd\",\"they'll\",\"they're\",\"they've\",\"think\",\"third\",\"this\",\"thorough\",\"thoroughly\",\"those\",\"though\",\"three\",\"through\",\"throughout\",\"thru\",\"thus\",\"to\",\"together\",\"too\",\"took\",\"toward\",\"towards\",\"tried\",\"tries\",\"truly\",\"try\",\"trying\",\"twice\",\"two\",\"u\",\"un\",\"under\",\"unfortunately\",\"unless\",\"unlikely\",\"until\",\"unto\",\"up\",\"upon\",\"us\",\"use\",\"used\",\"useful\",\"uses\",\"using\",\"usually\",\"uucp\",\"v\",\"value\",\"various\",\"very\",\"via\",\"viz\",\"vs\",\"w\",\"want\",\"wants\",\"was\",\"wasn't\",\"way\",\"we\",\"we'd\",\"we'll\",\"we're\",\"we've\",\"welcome\",\"well\",\"went\",\"were\",\"weren't\",\"what\",\"what's\",\"whatever\",\"when\",\"whence\",\"whenever\",\"where\",\"where's\",\"whereafter\",\"whereas\",\"whereby\",\"wherein\",\"whereupon\",\"wherever\",\"whether\",\"which\",\"while\",\"whither\",\"who\",\"who's\",\"whoever\",\"whole\",\"whom\",\"whose\",\"why\",\"will\",\"willing\",\"wish\",\"with\",\"within\",\"without\",\"won't\",\"wonder\",\"would\",\"wouldn't\",\"x\",\"y\",\"yes\",\"yet\",\"you\",\"you'd\",\"you'll\",\"you're\",\"you've\",\"your\",\"yours\",\"yourself\",\"yourselves\",\"z\",\"zero\"]}\n",
    "stopwords_json_en = set(stopwords_json['en'])\n",
    "stopwords_nltk_en = set(stopwords.words('english'))\n",
    "stopwords_punct = set(punctuation)\n",
    "# Combine the stopwords. Its a lot longer so I'm not printing it out...\n",
    "stoplist_combined = set.union(stopwords_json_en, stopwords_nltk_en, stopwords_punct)"
   ]
  },
  {
   "cell_type": "code",
   "execution_count": 70,
   "metadata": {},
   "outputs": [],
   "source": [
    "# Removing stemming and lemmatization\n",
    "\n",
    "from nltk import pos_tag\n",
    "from nltk.stem import WordNetLemmatizer\n",
    "\n",
    "wnl = WordNetLemmatizer()\n",
    "\n",
    "# tagging part of speech so that lemmatization can be done\n",
    "def penn2morphy(penntag):\n",
    "    \"\"\" Converts Penn Treebank tags to WordNet. \"\"\"\n",
    "    morphy_tag = {'NN':'n', 'JJ':'a',\n",
    "                  'VB':'v', 'RB':'r'}\n",
    "    try:\n",
    "        return morphy_tag[penntag[:2]]\n",
    "    except:\n",
    "        return 'n' \n",
    "    \n",
    "def lemmatize_sent(text): \n",
    "    # Text input is string, returns lowercased strings.\n",
    "    return [wnl.lemmatize(word.lower(), pos=penn2morphy(tag)) \n",
    "            for word, tag in pos_tag(word_tokenize(text))]"
   ]
  },
  {
   "cell_type": "code",
   "execution_count": 90,
   "metadata": {},
   "outputs": [],
   "source": [
    "# updated preprocessor\n",
    "\n",
    "def preprocess_text(text):\n",
    "    # Input: str, i.e. document/sentence\n",
    "    # Output: list(str) , i.e. list of lemmas\n",
    "    \n",
    "    # Convert all text to lowercase\n",
    "    text = text.lower()\n",
    "    \n",
    "    # Replace sequences of numbers with a single token\n",
    "    text = re.sub(r'\\d+','numseq',text)\n",
    "    \n",
    "    # Remove non letter characters\n",
    "    text = re.sub(r'[^a-zA-Z]+', ' ', text)\n",
    "    \n",
    "    return [word for word in lemmatize_sent(text) \n",
    "            if word not in stoplist_combined\n",
    "            and not word.isdigit()]\n",
    "\n"
   ]
  },
  {
   "cell_type": "code",
   "execution_count": 91,
   "metadata": {},
   "outputs": [],
   "source": [
    "vectorizer2 = CountVectorizer(analyzer=preprocess_text)\n",
    "train_data_nlp2 = vectorizer2.fit_transform(train_data['request_text_edit_aware'])\n",
    "dev_data_nlp2 = vectorizer2.transform(dev_data['request_text_edit_aware'])\n",
    "test_mini_data_nlp2 = vectorizer2.transform(test_mini_data['request_text_edit_aware'])"
   ]
  },
  {
   "cell_type": "code",
   "execution_count": 92,
   "metadata": {},
   "outputs": [
    {
     "name": "stdout",
     "output_type": "stream",
     "text": [
      "Size of the vocabulary:\n",
      "7117\n"
     ]
    }
   ],
   "source": [
    "print(\"Size of the vocabulary:\")\n",
    "print(train_data_nlp2.shape[1])"
   ]
  },
  {
   "cell_type": "code",
   "execution_count": 93,
   "metadata": {},
   "outputs": [
    {
     "name": "stdout",
     "output_type": "stream",
     "text": [
      "{'alpha': 5}\n"
     ]
    }
   ],
   "source": [
    "# Multinomial modeling\n",
    "alphas = {'alpha': [0.01, 0.05, 0.1, 0.5, 0.8, 1, 1.5, 5, 10]}\n",
    "multi_gs = GridSearchCV(estimator=MultinomialNB(), param_grid=alphas)\n",
    "multi_gs.fit(dev_data_nlp2, dev_labels)\n",
    "print (multi_gs.best_params_)"
   ]
  },
  {
   "cell_type": "code",
   "execution_count": 94,
   "metadata": {},
   "outputs": [
    {
     "name": "stdout",
     "output_type": "stream",
     "text": [
      "Multinomial accuracy:\n",
      "75.99009900990099\n"
     ]
    }
   ],
   "source": [
    "multi_clf_best = MultinomialNB(alpha=multi_gs.best_params_['alpha'])\n",
    "multi_clf_best.fit(train_data_nlp2, train_labels)\n",
    "multi_clf_best_predicted = multi_clf_best.predict(test_mini_data_nlp2)\n",
    "\n",
    "print (\"Multinomial accuracy:\")\n",
    "print(accuracy_score(multi_clf_best_predicted, test_mini_labels) * 100)"
   ]
  },
  {
   "cell_type": "code",
   "execution_count": 95,
   "metadata": {},
   "outputs": [
    {
     "name": "stdout",
     "output_type": "stream",
     "text": [
      "{'C': 0.001}\n"
     ]
    }
   ],
   "source": [
    "# Logisitc modeling\n",
    "log_clf = LogisticRegression()\n",
    "C = {\"C\": [0.001, 0.01, 0.02, 0.03, 0.04, 0.05, 0.1, 0.5, 0.8, 1, 1.5, 5, 10]}\n",
    "log_gs = GridSearchCV(log_clf,C)\n",
    "log_gs.fit(dev_data_nlp2, dev_labels)\n",
    "print (log_gs.best_params_)"
   ]
  },
  {
   "cell_type": "code",
   "execution_count": 96,
   "metadata": {},
   "outputs": [
    {
     "name": "stdout",
     "output_type": "stream",
     "text": [
      "Logistic accuracy:\n",
      "76.11386138613861\n"
     ]
    }
   ],
   "source": [
    "log_clf_best = LogisticRegression(C=log_gs.best_params_['C'])\n",
    "log_clf_best.fit(train_data_nlp2, train_labels)\n",
    "log_clf_best_predicted = log_clf_best.predict(test_mini_data_nlp2)\n",
    "\n",
    "print (\"Logistic accuracy:\")\n",
    "print(accuracy_score(log_clf_best_predicted, test_mini_labels) * 100)"
   ]
  },
  {
   "cell_type": "markdown",
   "metadata": {
    "collapsed": true
   },
   "source": [
    "# Advanced Count Vectorizer (Request Text and Title)"
   ]
  },
  {
   "cell_type": "code",
   "execution_count": 60,
   "metadata": {},
   "outputs": [],
   "source": [
    "# Create field that concatenates the request text and title in case the title contains more predictive power\n",
    "train_data['request_title_and_text'] = train_data['request_title'] + ' ' + train_data['request_text_edit_aware']\n",
    "dev_data['request_title_and_text'] = dev_data['request_title'] + ' ' + dev_data['request_text_edit_aware']\n",
    "test_mini_data['request_title_and_text'] = test_mini_data['request_title'] + ' ' + test_mini_data['request_text_edit_aware']"
   ]
  },
  {
   "cell_type": "code",
   "execution_count": 99,
   "metadata": {},
   "outputs": [],
   "source": [
    "vectorizer2 = CountVectorizer(analyzer=preprocess_text)\n",
    "train_data_nlp2 = vectorizer2.fit_transform(train_data['request_title_and_text'])\n",
    "dev_data_nlp2 = vectorizer2.transform(dev_data['request_title_and_text'])\n",
    "test_mini_data_nlp2 = vectorizer2.transform(test_mini_data['request_title_and_text'])"
   ]
  },
  {
   "cell_type": "code",
   "execution_count": 100,
   "metadata": {},
   "outputs": [
    {
     "name": "stdout",
     "output_type": "stream",
     "text": [
      "Size of the vocabulary:\n",
      "7768\n"
     ]
    }
   ],
   "source": [
    "print(\"Size of the vocabulary:\")\n",
    "print(train_data_nlp2.shape[1])"
   ]
  },
  {
   "cell_type": "code",
   "execution_count": 101,
   "metadata": {},
   "outputs": [
    {
     "name": "stdout",
     "output_type": "stream",
     "text": [
      "{'alpha': 5}\n"
     ]
    }
   ],
   "source": [
    "# Multinomial modeling\n",
    "alphas = {'alpha': [0.01, 0.05, 0.1, 0.5, 0.8, 1, 1.5, 5, 10]}\n",
    "multi_gs = GridSearchCV(estimator=MultinomialNB(), param_grid=alphas)\n",
    "multi_gs.fit(dev_data_nlp2, dev_labels)\n",
    "print (multi_gs.best_params_)"
   ]
  },
  {
   "cell_type": "code",
   "execution_count": 102,
   "metadata": {},
   "outputs": [
    {
     "name": "stdout",
     "output_type": "stream",
     "text": [
      "Multinomial accuracy:\n",
      "75.99009900990099\n"
     ]
    }
   ],
   "source": [
    "multi_clf_best = MultinomialNB(alpha=multi_gs.best_params_['alpha'])\n",
    "multi_clf_best.fit(train_data_nlp2, train_labels)\n",
    "multi_clf_best_predicted = multi_clf_best.predict(test_mini_data_nlp2)\n",
    "\n",
    "print (\"Multinomial accuracy:\")\n",
    "print(accuracy_score(multi_clf_best_predicted, test_mini_labels) * 100)"
   ]
  },
  {
   "cell_type": "code",
   "execution_count": 103,
   "metadata": {},
   "outputs": [
    {
     "name": "stdout",
     "output_type": "stream",
     "text": [
      "{'C': 0.03}\n"
     ]
    }
   ],
   "source": [
    "# Logisitc modeling\n",
    "log_clf = LogisticRegression()\n",
    "C = {\"C\": [0.001, 0.01, 0.02, 0.03, 0.04, 0.05, 0.1, 0.5, 0.8, 1, 1.5, 5, 10]}\n",
    "log_gs = GridSearchCV(log_clf,C)\n",
    "log_gs.fit(dev_data_nlp2, dev_labels)\n",
    "print (log_gs.best_params_)"
   ]
  },
  {
   "cell_type": "code",
   "execution_count": 105,
   "metadata": {
    "scrolled": false
   },
   "outputs": [
    {
     "name": "stdout",
     "output_type": "stream",
     "text": [
      "Logistic accuracy:\n",
      "74.75247524752476\n"
     ]
    }
   ],
   "source": [
    "log_clf_best = LogisticRegression(C=log_gs.best_params_['C'])\n",
    "log_clf_best.fit(train_data_nlp2, train_labels)\n",
    "log_clf_best_predicted = log_clf_best.predict(test_mini_data_nlp2)\n",
    "\n",
    "print (\"Logistic accuracy:\")\n",
    "print(accuracy_score(log_clf_best_predicted, test_mini_labels) * 100)"
   ]
  },
  {
   "cell_type": "markdown",
   "metadata": {},
   "source": [
    "# Analyze Numeric Features - Random Forests"
   ]
  },
  {
   "cell_type": "code",
   "execution_count": 67,
   "metadata": {},
   "outputs": [],
   "source": [
    "# Feature engineering ideas:\n",
    "\n",
    "# 1. length of request - number of characters\n",
    "train_data['request_len'] = train_data['request_title_and_text'].str.len()\n",
    "dev_data['request_len'] = dev_data['request_title_and_text'].str.len()\n",
    "test_mini_data['request_len'] = test_mini_data['request_title_and_text'].str.len()\n",
    "\n",
    "# 2. Month of request (rather than timestamp)\n",
    "train_data['request_month'] = train_data['unix_timestamp_of_request'].map(lambda x: datetime.datetime.fromtimestamp(x).month)\n",
    "dev_data['request_month'] = dev_data['unix_timestamp_of_request'].map(lambda x: datetime.datetime.fromtimestamp(x).month)\n",
    "test_mini_data['request_month'] = test_mini_data['unix_timestamp_of_request'].map(lambda x: datetime.datetime.fromtimestamp(x).month)\n",
    "\n",
    "# 3. Day of week - i.e. maybe people are more likely to get pizza on friday rather than monday?\n",
    "train_data['request_dayofweek'] = train_data['unix_timestamp_of_request'].map(lambda x: datetime.datetime.fromtimestamp(x).weekday())\n",
    "dev_data['request_dayofweek'] = dev_data['unix_timestamp_of_request'].map(lambda x: datetime.datetime.fromtimestamp(x).weekday())\n",
    "test_mini_data['request_dayofweek'] = test_mini_data['unix_timestamp_of_request'].map(lambda x: datetime.datetime.fromtimestamp(x).weekday())\n",
    "\n",
    "# 4. Does request contain an image? (.jpeg, etc.)\n",
    "imagelist = ['.tif','.gif','.jpeg','.jpg','.jif','.png','.pdf']\n",
    "train_data['contains_image'] = np.where(any(word in train_data['request_title_and_text'] for word in imagelist), 1, 0)\n",
    "dev_data['contains_image'] = np.where(any(word in dev_data['request_title_and_text'] for word in imagelist), 1, 0)\n",
    "test_mini_data['contains_image'] = np.where(any(word in test_mini_data['request_title_and_text'] for word in imagelist), 1, 0)\n",
    "\n",
    "# 5. Sentiment score\n",
    "\n",
    "# 6. Turn our count vectorizer above into PCA compontents (maybe 10 components?)\n"
   ]
  },
  {
   "cell_type": "code",
   "execution_count": 71,
   "metadata": {},
   "outputs": [],
   "source": [
    "numeric_features = [\n",
    "'requester_account_age_in_days_at_request', \n",
    "'requester_days_since_first_post_on_raop_at_request', \n",
    "'requester_number_of_comments_at_request', \n",
    "'requester_number_of_comments_in_raop_at_request',\n",
    "'requester_number_of_posts_at_request',\n",
    "'requester_number_of_posts_on_raop_at_request',\n",
    "'requester_number_of_subreddits_at_request', \n",
    "'requester_upvotes_minus_downvotes_at_request', \n",
    "'request_len',\n",
    "'request_month',\n",
    "'request_dayofweek',\n",
    "'contains_image']"
   ]
  },
  {
   "cell_type": "code",
   "execution_count": 72,
   "metadata": {},
   "outputs": [],
   "source": [
    "# Random Forest\n",
    "def randomForestClassifier(x_train, y_train, x_test, y_test, grid = 0):\n",
    "    \n",
    "    if grid == 1:\n",
    "        \n",
    "        parameters = { \n",
    "            'n_estimators' : list(np.arange(1000, 10000, 3000)),\n",
    "            'max_leaf_nodes' : list(np.arange(10, 100, 30)),\n",
    "            'criterion' : ['gini', 'entropy']\n",
    "        }\n",
    "\n",
    "        # perform gridsearch\n",
    "        rnd_clf = GridSearchCV(RandomForestClassifier(), parameters)\n",
    "        rnd_clf.fit(x_train, y_train)\n",
    "\n",
    "        n_estimators = rnd_clf.best_params_['n_estimators']\n",
    "        max_leaf_nodes = rnd_clf.best_params_['max_leaf_nodes']\n",
    "        criterion = rnd_clf.best_params_['criterion']\n",
    "\n",
    "        clf = RandomForestClassifier(n_estimators=n_estimators, max_leaf_nodes=max_leaf_nodes, criterion=criterion)\n",
    "        \n",
    "    else:\n",
    "        \n",
    "        clf = RandomForestClassifier()\n",
    "        \n",
    "    clf.fit(x_train, y_train)\n",
    "    \n",
    "    y_pred = clf.predict(x_test)\n",
    "    accuracy = accuracy_score(y_test, y_pred)*100.0\n",
    "\n",
    "    print ('Accuracy: {:2.5f}%'.format(accuracy))"
   ]
  },
  {
   "cell_type": "code",
   "execution_count": 73,
   "metadata": {},
   "outputs": [
    {
     "name": "stdout",
     "output_type": "stream",
     "text": [
      "Accuracy: 74.13366%\n"
     ]
    }
   ],
   "source": [
    "# Execute random forest model without gridsearch\n",
    "randomForestClassifier(train_data[numeric_features],train_labels,test_mini_data[numeric_features],test_mini_labels,grid=0)"
   ]
  },
  {
   "cell_type": "code",
   "execution_count": 74,
   "metadata": {},
   "outputs": [
    {
     "name": "stdout",
     "output_type": "stream",
     "text": [
      "2018-07-25 15:03:42.695119\n",
      "Accuracy: 76.23762%\n",
      "2018-07-25 15:13:01.622495\n"
     ]
    }
   ],
   "source": [
    "# Execute random forest model with gridsearch. (Run time approximately 10 minutes)\n",
    "# print(datetime.datetime.now())\n",
    "# randomForestClassifier(train_data[numeric_features],train_labels,test_mini_data[numeric_features],test_mini_labels,grid=1)\n",
    "# print(datetime.datetime.now())"
   ]
  },
  {
   "cell_type": "code",
   "execution_count": null,
   "metadata": {},
   "outputs": [],
   "source": []
  }
 ],
 "metadata": {
  "anaconda-cloud": {},
  "kernelspec": {
   "display_name": "Python 3",
   "language": "python",
   "name": "python3"
  },
  "language_info": {
   "codemirror_mode": {
    "name": "ipython",
    "version": 3
   },
   "file_extension": ".py",
   "mimetype": "text/x-python",
   "name": "python",
   "nbconvert_exporter": "python",
   "pygments_lexer": "ipython3",
   "version": "3.6.5"
  }
 },
 "nbformat": 4,
 "nbformat_minor": 2
}
