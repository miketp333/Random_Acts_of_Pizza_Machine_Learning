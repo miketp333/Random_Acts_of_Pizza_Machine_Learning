{
 "cells": [
  {
   "cell_type": "markdown",
   "metadata": {},
   "source": [
    "# Random Acts of Pizza\n",
    "\n",
    "This competition contains a dataset with 5671 textual requests for pizza from the Reddit community Random Acts of Pizza together with their outcome (successful/unsuccessful) and meta-data. Participants must create an algorithm capable of predicting which requests will garner a cheesy (but sincere!) act of kindness.\n",
    "\n",
    "https://www.kaggle.com/c/random-acts-of-pizza"
   ]
  },
  {
   "cell_type": "markdown",
   "metadata": {},
   "source": [
    "## 1. Load Packages and Data"
   ]
  },
  {
   "cell_type": "code",
   "execution_count": 66,
   "metadata": {},
   "outputs": [],
   "source": [
    "# This tells matplotlib not to try opening a new window for each plot.\n",
    "%matplotlib inline\n",
    "\n",
    "# General libraries.\n",
    "import json\n",
    "import os\n",
    "import re\n",
    "import numpy as np\n",
    "import matplotlib.pyplot as plt\n",
    "import pandas as pd\n",
    "import nltk\n",
    "import datetime\n",
    "\n",
    "# SK-learn libraries for learning.\n",
    "from sklearn.pipeline import Pipeline\n",
    "from sklearn.neighbors import KNeighborsClassifier\n",
    "from sklearn.linear_model import LogisticRegression\n",
    "from sklearn.naive_bayes import BernoulliNB\n",
    "from sklearn.naive_bayes import MultinomialNB\n",
    "from sklearn.grid_search import GridSearchCV\n",
    "from sklearn.ensemble import RandomForestClassifier\n",
    "from sklearn.decomposition import PCA\n",
    "from sklearn.decomposition import TruncatedSVD\n",
    "from sklearn import mixture\n",
    "\n",
    "# SK-learn libraries for evaluation.\n",
    "from sklearn.metrics import confusion_matrix\n",
    "from sklearn import metrics\n",
    "from sklearn.metrics import classification_report\n",
    "\n",
    "# SK-learn libraries for feature extraction from text.\n",
    "from sklearn.feature_extraction.text import *\n",
    "\n",
    "from sklearn.metrics import accuracy_score\n",
    "\n",
    "import warnings\n",
    "warnings.filterwarnings('ignore')"
   ]
  },
  {
   "cell_type": "code",
   "execution_count": 67,
   "metadata": {},
   "outputs": [
    {
     "data": {
      "text/plain": [
       "'/Users/jmcdonald/w207-Machine-Learning-Final-Project/Data'"
      ]
     },
     "execution_count": 67,
     "metadata": {},
     "output_type": "execute_result"
    }
   ],
   "source": [
    "# Make sure data is in \"Data\" folder which is in the same location as this notebook\n",
    "os.getcwd()\n",
    "os.chdir('Data')\n",
    "os.getcwd()\n",
    "#os.chdir('C:\\Users\\zolotab\\Desktop\\w207-Machine-Learning-Final-Project-master\\w207-Machine-Learning-Final-Project-master\\Data')"
   ]
  },
  {
   "cell_type": "code",
   "execution_count": 68,
   "metadata": {
    "collapsed": true
   },
   "outputs": [],
   "source": [
    "# load data from json files to df\n",
    "with open('train.json') as fin:\n",
    "    trainjson = json.load(fin)\n",
    "\n",
    "with open('test.json') as fin:\n",
    "    testjson = json.load(fin)\n",
    "    \n",
    "df_train = pd.io.json.json_normalize(trainjson)\n",
    "df_test = pd.io.json.json_normalize(testjson)"
   ]
  },
  {
   "cell_type": "code",
   "execution_count": 69,
   "metadata": {
    "scrolled": true
   },
   "outputs": [
    {
     "data": {
      "text/plain": [
       "Index(['giver_username_if_known',\n",
       "       'number_of_downvotes_of_request_at_retrieval',\n",
       "       'number_of_upvotes_of_request_at_retrieval', 'post_was_edited',\n",
       "       'request_id', 'request_number_of_comments_at_retrieval', 'request_text',\n",
       "       'request_text_edit_aware', 'request_title',\n",
       "       'requester_account_age_in_days_at_request',\n",
       "       'requester_account_age_in_days_at_retrieval',\n",
       "       'requester_days_since_first_post_on_raop_at_request',\n",
       "       'requester_days_since_first_post_on_raop_at_retrieval',\n",
       "       'requester_number_of_comments_at_request',\n",
       "       'requester_number_of_comments_at_retrieval',\n",
       "       'requester_number_of_comments_in_raop_at_request',\n",
       "       'requester_number_of_comments_in_raop_at_retrieval',\n",
       "       'requester_number_of_posts_at_request',\n",
       "       'requester_number_of_posts_at_retrieval',\n",
       "       'requester_number_of_posts_on_raop_at_request',\n",
       "       'requester_number_of_posts_on_raop_at_retrieval',\n",
       "       'requester_number_of_subreddits_at_request', 'requester_received_pizza',\n",
       "       'requester_subreddits_at_request',\n",
       "       'requester_upvotes_minus_downvotes_at_request',\n",
       "       'requester_upvotes_minus_downvotes_at_retrieval',\n",
       "       'requester_upvotes_plus_downvotes_at_request',\n",
       "       'requester_upvotes_plus_downvotes_at_retrieval', 'requester_user_flair',\n",
       "       'requester_username', 'unix_timestamp_of_request',\n",
       "       'unix_timestamp_of_request_utc'],\n",
       "      dtype='object')"
      ]
     },
     "execution_count": 69,
     "metadata": {},
     "output_type": "execute_result"
    }
   ],
   "source": [
    "# Review columns\n",
    "df_train.columns"
   ]
  },
  {
   "cell_type": "markdown",
   "metadata": {},
   "source": [
    "Data dictionary:\n",
    "\n",
    "\"giver_username_if_known\": Reddit username of giver if known, i.e. the person satisfying the request (\"N/A\" otherwise).\n",
    "\n",
    "\"number_of_downvotes_of_request_at_retrieval\": Number of downvotes at the time the request was collected.\n",
    "\n",
    "\"number_of_upvotes_of_request_at_retrieval\": Number of upvotes at the time the request was collected.\n",
    "\n",
    "\"post_was_edited\": Boolean indicating whether this post was edited (from Reddit).\n",
    "\n",
    "\"request_id\": Identifier of the post on Reddit, e.g. \"t3_w5491\".\n",
    "\n",
    "\"request_number_of_comments_at_retrieval\": Number of comments for the request at time of retrieval.\n",
    "\n",
    "\"request_text\": Full text of the request.\n",
    "\n",
    "\"request_text_edit_aware\": Edit aware version of \"request_text\". We use a set of rules to strip edited comments indicating the success of the request such as \"EDIT: Thanks /u/foo, the pizza was delicous\".\n",
    "\n",
    "\"request_title\": Title of the request.\n",
    "\n",
    "\"requester_account_age_in_days_at_request\": Account age of requester in days at time of request.\n",
    "\n",
    "\"requester_account_age_in_days_at_retrieval\": Account age of requester in days at time of retrieval.\n",
    "\n",
    "\"requester_days_since_first_post_on_raop_at_request\": Number of days between requesters first post on RAOP and this request (zero if requester has never posted before on RAOP).\n",
    "\n",
    "\"requester_days_since_first_post_on_raop_at_retrieval\": Number of days between requesters first post on RAOP and time of retrieval.\n",
    "\n",
    "\"requester_number_of_comments_at_request\": Total number of comments on Reddit by requester at time of request.\n",
    "\n",
    "\"requester_number_of_comments_at_retrieval\": Total number of comments on Reddit by requester at time of retrieval.\n",
    "\n",
    "\"requester_number_of_comments_in_raop_at_request\": Total number of comments in RAOP by requester at time of request.\n",
    "\n",
    "\"requester_number_of_comments_in_raop_at_retrieval\": Total number of comments in RAOP by requester at time of retrieval.\n",
    "\n",
    "\"requester_number_of_posts_at_request\": Total number of posts on Reddit by requester at time of request.\n",
    "\n",
    "\"requester_number_of_posts_at_retrieval\": Total number of posts on Reddit by requester at time of retrieval.\n",
    "\n",
    "\"requester_number_of_posts_on_raop_at_request\": Total number of posts in RAOP by requester at time of request.\n",
    "\n",
    "\"requester_number_of_posts_on_raop_at_retrieval\": Total number of posts in RAOP by requester at time of retrieval.\n",
    "\n",
    "\"requester_number_of_subreddits_at_request\": The number of subreddits in which the author had already posted in at the time of request.\n",
    "\n",
    "\"requester_received_pizza\": Boolean indicating the success of the request, i.e., whether the requester received pizza.\n",
    "\n",
    "\"requester_subreddits_at_request\": The list of subreddits in which the author had already posted in at the time of request.\n",
    "\n",
    "\"requester_upvotes_minus_downvotes_at_request\": Difference of total upvotes and total downvotes of requester at time of request.\n",
    "\n",
    "\"requester_upvotes_minus_downvotes_at_retrieval\": Difference of total upvotes and total downvotes of requester at time of retrieval.\n",
    "\n",
    "\"requester_upvotes_plus_downvotes_at_request\": Sum of total upvotes and total downvotes of requester at time of request.\n",
    "\n",
    "\"requester_upvotes_plus_downvotes_at_retrieval\": Sum of total upvotes and total downvotes of requester at time of retrieval.\n",
    "\n",
    "\"requester_user_flair\": Users on RAOP receive badges (Reddit calls them flairs) which is a small picture next to their username. In our data set the user flair is either None (neither given nor received pizza, N=4282), \"shroom\" (received pizza, but not given, N=1306), or \"PIF\" (pizza given after having received, N=83).\n",
    "\n",
    "\"requester_username\": Reddit username of requester.\n",
    "\n",
    "\"unix_timestamp_of_request\": Unix timestamp of request (supposedly in timezone of user, but in most cases it is equal to the UTC timestamp -- which is incorrect since most RAOP users are from the USA).\n",
    "\n",
    "\"unix_timestamp_of_request_utc\": Unit timestamp of request in UTC."
   ]
  },
  {
   "cell_type": "markdown",
   "metadata": {},
   "source": [
    "**Conclusion: The outcome variable requester_received_pizza indicates if the user received pizza or not. The explanatory variables we are interested in using are free text fields that contain the title and text of the written request, as well as other numeric and datetime metadata fields.**"
   ]
  },
  {
   "cell_type": "markdown",
   "metadata": {},
   "source": [
    "## 2. Exploratory Data Analysis"
   ]
  },
  {
   "cell_type": "code",
   "execution_count": 70,
   "metadata": {},
   "outputs": [
    {
     "name": "stdout",
     "output_type": "stream",
     "text": [
      "104\n",
      "104\n",
      "0\n",
      "0\n",
      "0\n"
     ]
    }
   ],
   "source": [
    "# Do all of the records contain request text?\n",
    "print(len(df_train[df_train['request_text']==\"\"]))\n",
    "print(len(df_train[df_train['request_text_edit_aware']==\"\"]))\n",
    "print(len(df_train[df_train['request_title']==\"\"]))\n",
    "print(df_train['request_text_edit_aware'].isnull().sum())\n",
    "print(df_train['request_title'].isnull().sum())\n",
    " # All of the records have a title. Sometimes a request is made only using a title.\n",
    " # This suggests that we should plan to concatentate the request title and text."
   ]
  },
  {
   "cell_type": "code",
   "execution_count": 71,
   "metadata": {},
   "outputs": [
    {
     "name": "stdout",
     "output_type": "stream",
     "text": [
      "0\n",
      "(array([], dtype=int64), array([], dtype=int64))\n"
     ]
    }
   ],
   "source": [
    "# None of the potential features have a null value or empty strings\n",
    "# Request text has empty strings, but we don't include that here because we will ultimately combine this with request title\n",
    "potential_features = [\n",
    "'request_title',\n",
    "'requester_received_pizza',\n",
    "'requester_account_age_in_days_at_request', \n",
    "'requester_days_since_first_post_on_raop_at_request', \n",
    "'requester_number_of_comments_at_request', \n",
    "'requester_number_of_comments_in_raop_at_request',\n",
    "'requester_number_of_posts_at_request',\n",
    "'requester_number_of_posts_on_raop_at_request',\n",
    "'requester_number_of_subreddits_at_request', \n",
    "'requester_upvotes_minus_downvotes_at_request', \n",
    "'unix_timestamp_of_request']\n",
    "\n",
    "print(df_train[potential_features].isnull().sum().sum())\n",
    "\n",
    "print(np.where(df_train[potential_features].applymap(lambda x: x == '')))\n",
    "\n",
    "####"
   ]
  },
  {
   "cell_type": "code",
   "execution_count": 72,
   "metadata": {
    "scrolled": true
   },
   "outputs": [
    {
     "data": {
      "image/png": "[encoded data removed]",
      "text/plain": [
       "<matplotlib.figure.Figure at 0x11f8d8f28>"
      ]
     },
     "metadata": {},
     "output_type": "display_data"
    }
   ],
   "source": [
    "# Histograms of numeric variables\n",
    "numeric_features = [\n",
    "'requester_received_pizza',\n",
    "'requester_account_age_in_days_at_request', \n",
    "'requester_days_since_first_post_on_raop_at_request', \n",
    "'requester_number_of_comments_at_request', \n",
    "'requester_number_of_comments_in_raop_at_request',\n",
    "'requester_number_of_posts_at_request',\n",
    "'requester_number_of_posts_on_raop_at_request',\n",
    "'requester_number_of_subreddits_at_request', \n",
    "'requester_upvotes_minus_downvotes_at_request']\n",
    "\n",
    "hist = df_train[numeric_features].hist(grid=False, layout=(4,3), figsize=(15,18))"
   ]
  },
  {
   "cell_type": "code",
   "execution_count": 73,
   "metadata": {},
   "outputs": [
    {
     "data": {
      "image/png": "[encoded data removed]",
      "text/plain": [
       "<matplotlib.figure.Figure at 0x123af8b70>"
      ]
     },
     "metadata": {},
     "output_type": "display_data"
    }
   ],
   "source": [
    "# Correlations\n",
    "correlations = df_train[numeric_features].corr()\n",
    "\n",
    "# plot correlation matrix\n",
    "fig = plt.figure()\n",
    "ax = fig.add_subplot(111)\n",
    "cax = ax.matshow(correlations, vmin=-1, vmax=1)\n",
    "fig.colorbar(cax)\n",
    "ticks = np.arange(0,9,1)\n",
    "ax.set_xticks(ticks)\n",
    "ax.set_yticks(ticks)\n",
    "#ax.set_xticklabels(numeric_features)\n",
    "ax.set_yticklabels(numeric_features)\n",
    "plt.show()"
   ]
  },
  {
   "cell_type": "code",
   "execution_count": 74,
   "metadata": {
    "collapsed": true
   },
   "outputs": [],
   "source": [
    "# Scatter plot matrix\n",
    "from pandas import scatter_matrix\n",
    "\n",
    "# MP Note: This doesn't work for me\n",
    "# bsm = scatter_matrix(train_data[numeric_features], alpha=0.2, figsize=(20, 20), diagonal='kde')"
   ]
  },
  {
   "cell_type": "markdown",
   "metadata": {},
   "source": [
    "**Conclusion: None of the numeric metadata seems to be correlated with the outcome variable (requester_received_pizza). Most of the distributions appear to be exponential. (Placeholder: comment about missing values)**"
   ]
  },
  {
   "cell_type": "markdown",
   "metadata": {},
   "source": [
    "## 3. Data Preparation"
   ]
  },
  {
   "cell_type": "markdown",
   "metadata": {},
   "source": [
    "**For each numeric feature with an exponential distribution, create a new field with the log transformation.**"
   ]
  },
  {
   "cell_type": "code",
   "execution_count": 75,
   "metadata": {
    "scrolled": true
   },
   "outputs": [
    {
     "data": {
      "image/png": "[encoded data removed]",
      "text/plain": [
       "<matplotlib.figure.Figure at 0x142825cf8>"
      ]
     },
     "metadata": {},
     "output_type": "display_data"
    }
   ],
   "source": [
    "# For each numeric feature, create a new field with the log transformation.\n",
    "numeric_features = [\n",
    "'requester_account_age_in_days_at_request', \n",
    "'requester_days_since_first_post_on_raop_at_request', \n",
    "'requester_number_of_comments_at_request', \n",
    "'requester_number_of_comments_in_raop_at_request',\n",
    "'requester_number_of_posts_at_request',\n",
    "'requester_number_of_posts_on_raop_at_request',\n",
    "'requester_number_of_subreddits_at_request', \n",
    "'requester_upvotes_minus_downvotes_at_request']\n",
    "\n",
    "for nf in numeric_features:\n",
    "    # Since \"upvotes minus downvotes\" can contain negative values. Add 1,000,000 to ensure no negatives.\n",
    "    # Because the log of negative is undefined\n",
    "    if nf == 'requester_upvotes_minus_downvotes_at_request':\n",
    "        df_train[nf + '_LOG'] = np.log10(df_train[nf]+1000000)\n",
    "        np.log10(df_train[nf]+1000000).hist()\n",
    "    else:\n",
    "        df_train[nf + '_LOG'] = np.log10(df_train[nf]+0.1)\n",
    "        np.log10(df_train[nf]+0.1).hist()"
   ]
  },
  {
   "cell_type": "markdown",
   "metadata": {},
   "source": [
    "**Split data sets into train/dev/test. Since the test data does not indicate whether a pizza was received, we will split the training data in order to obtain a labeled test set.**"
   ]
  },
  {
   "cell_type": "code",
   "execution_count": 76,
   "metadata": {},
   "outputs": [
    {
     "name": "stdout",
     "output_type": "stream",
     "text": [
      "train data shape:  (2424, 40)\n",
      "dev data shape: (808, 40)\n",
      "test data shape: (808, 40)\n"
     ]
    }
   ],
   "source": [
    "# randomize and split data set into train test and dev using 60/20/20 split\n",
    "np.random.seed(33)\n",
    "shuffle = np.random.permutation(np.arange(df_train.shape[0]))\n",
    "df_train_data, df_train_labels = df_train.ix[shuffle, :], df_train.ix[shuffle, 'requester_received_pizza']\n",
    "#df_train_data, df_train_labels = df_train, df_train['requester_received_pizza']\n",
    "\n",
    "# Set some variables to test, dev and training data\n",
    "cutoff1 = int(df_train_labels.shape[0]*0.6)\n",
    "cutoff2 = int(df_train_labels.shape[0]*0.8)\n",
    "train_data, train_labels = df_train_data[:cutoff1], df_train_labels[:cutoff1]\n",
    "dev_data, dev_labels = df_train_data[cutoff1:cutoff2], df_train_labels[cutoff1:cutoff2]\n",
    "test_mini_data, test_mini_labels = df_train_data[cutoff2:], df_train_labels[cutoff2:]\n",
    "\n",
    "print ('train data shape: ', train_data.shape)\n",
    "print ('dev data shape:', dev_data.shape)\n",
    "print ('test data shape:', test_mini_data.shape)"
   ]
  },
  {
   "cell_type": "markdown",
   "metadata": {},
   "source": [
    "## 4. Predictive Modeling"
   ]
  },
  {
   "cell_type": "markdown",
   "metadata": {},
   "source": [
    "### 4.1 Vectorizing the Request Text"
   ]
  },
  {
   "cell_type": "code",
   "execution_count": 77,
   "metadata": {
    "collapsed": true
   },
   "outputs": [],
   "source": [
    "vectorizer = CountVectorizer()\n",
    "train_data_nlp = vectorizer.fit_transform(train_data['request_text_edit_aware'])\n",
    "dev_data_nlp = vectorizer.transform(dev_data['request_text_edit_aware'])\n",
    "test_mini_data_nlp = vectorizer.transform(test_mini_data['request_text_edit_aware'])"
   ]
  },
  {
   "cell_type": "code",
   "execution_count": 78,
   "metadata": {},
   "outputs": [
    {
     "name": "stdout",
     "output_type": "stream",
     "text": [
      "Size of the vocabulary:\n",
      "9292\n"
     ]
    }
   ],
   "source": [
    "print(\"Size of the vocabulary:\")\n",
    "print(train_data_nlp.shape[1])"
   ]
  },
  {
   "cell_type": "markdown",
   "metadata": {},
   "source": [
    "##### K Nearest Neighbors Model"
   ]
  },
  {
   "cell_type": "code",
   "execution_count": 79,
   "metadata": {
    "scrolled": true
   },
   "outputs": [
    {
     "name": "stdout",
     "output_type": "stream",
     "text": [
      "----- K Nearest Neighbors -----\n",
      "{'n_neighbors': 6}\n",
      "KNN accuracy: 75.495049505\n",
      "KNN accuracy (AUC): 49.9347975292\n",
      "Confusion matrix:\n",
      "[[606  14]\n",
      " [184   4]]\n",
      "-----------------------------------\n"
     ]
    }
   ],
   "source": [
    "k_values = {\"n_neighbors\": list(range(1,10))}\n",
    "knn_gs = GridSearchCV(estimator=KNeighborsClassifier(), param_grid=k_values)\n",
    "knn_gs.fit(dev_data_nlp, dev_labels)\n",
    "\n",
    "knn_clf_best = KNeighborsClassifier(n_neighbors=knn_gs.best_params_['n_neighbors'])\n",
    "knn_clf_best.fit(train_data_nlp, train_labels)\n",
    "knn_clf_best_predicted = knn_clf_best.predict(test_mini_data_nlp)\n",
    "fpr, tpr, _ = metrics.roc_curve(test_mini_labels, knn_clf_best_predicted)\n",
    "\n",
    "print('----- K Nearest Neighbors -----')\n",
    "print (knn_gs.best_params_)\n",
    "print (\"KNN accuracy:\", accuracy_score(knn_clf_best_predicted, test_mini_labels) * 100)\n",
    "print (\"KNN accuracy (AUC):\", metrics.auc(fpr,tpr) * 100)\n",
    "\n",
    "# print confusion matrix to identify mistakes\n",
    "print (\"Confusion matrix:\")\n",
    "print (confusion_matrix(test_mini_labels, knn_clf_best_predicted))\n",
    "print('-----------------------------------')"
   ]
  },
  {
   "cell_type": "markdown",
   "metadata": {},
   "source": [
    "##### Multinomial Naive Bayes Model"
   ]
  },
  {
   "cell_type": "code",
   "execution_count": 80,
   "metadata": {},
   "outputs": [
    {
     "name": "stdout",
     "output_type": "stream",
     "text": [
      "----- Multinomial Naive Bayes -----\n",
      "{'alpha': 5}\n",
      "Multinomial accuracy: 76.7326732673\n",
      "Multinomial accuracy (AUC): 50.0\n",
      "Confusion matrix:\n",
      "[[620   0]\n",
      " [188   0]]\n",
      "-----------------------------------\n"
     ]
    }
   ],
   "source": [
    "# Multinomial modeling\n",
    "\n",
    "alphas = {'alpha': [0.01, 0.05, 0.1, 0.5, 0.8, 1, 1.5, 5, 10]}\n",
    "multi_gs = GridSearchCV(estimator=MultinomialNB(), param_grid=alphas)\n",
    "multi_gs.fit(dev_data_nlp, dev_labels)\n",
    "\n",
    "multi_clf_best = MultinomialNB(alpha=multi_gs.best_params_['alpha'])\n",
    "multi_clf_best.fit(train_data_nlp, train_labels)\n",
    "multi_clf_best_predicted = multi_clf_best.predict(test_mini_data_nlp)\n",
    "fpr, tpr, _ = metrics.roc_curve(test_mini_labels, multi_clf_best_predicted)\n",
    "\n",
    "print('----- Multinomial Naive Bayes -----')\n",
    "print (multi_gs.best_params_)\n",
    "print (\"Multinomial accuracy:\", accuracy_score(multi_clf_best_predicted, test_mini_labels) * 100)\n",
    "print (\"Multinomial accuracy (AUC):\", metrics.auc(fpr,tpr) * 100)\n",
    "\n",
    "# print confusion matrix to identify mistakes\n",
    "print (\"Confusion matrix:\")\n",
    "print (confusion_matrix(test_mini_labels, multi_clf_best_predicted))\n",
    "print('-----------------------------------')"
   ]
  },
  {
   "cell_type": "markdown",
   "metadata": {},
   "source": [
    "##### Logistic Regression Model"
   ]
  },
  {
   "cell_type": "code",
   "execution_count": 81,
   "metadata": {},
   "outputs": [
    {
     "name": "stdout",
     "output_type": "stream",
     "text": [
      "----- Logistic Regression -----\n",
      "{'C': 0.001}\n",
      "Logistic accuracy: 76.7326732673\n",
      "Logistic accuracy (AUC): 50.0\n",
      "Confusion matrix:\n",
      "[[620   0]\n",
      " [188   0]]\n",
      "-----------------------------------\n"
     ]
    }
   ],
   "source": [
    "# Logisitc modeling\n",
    "\n",
    "log_clf = LogisticRegression()\n",
    "C = {\"C\": [0.001, 0.01, 0.02, 0.03, 0.04, 0.05, 0.1, 0.5, 0.8, 1, 1.5, 5, 10]}\n",
    "log_gs = GridSearchCV(log_clf,C)\n",
    "log_gs.fit(dev_data_nlp, dev_labels)\n",
    "\n",
    "log_clf_best = LogisticRegression(C=log_gs.best_params_['C'])\n",
    "log_clf_best.fit(train_data_nlp, train_labels)\n",
    "log_clf_best_predicted = log_clf_best.predict(test_mini_data_nlp)\n",
    "fpr, tpr, _ = metrics.roc_curve(test_mini_labels, log_clf_best_predicted)\n",
    "\n",
    "print('----- Logistic Regression -----')\n",
    "print (log_gs.best_params_)\n",
    "print (\"Logistic accuracy:\", accuracy_score(log_clf_best_predicted, test_mini_labels) * 100)\n",
    "print (\"Logistic accuracy (AUC):\", metrics.auc(fpr,tpr) * 100)\n",
    "\n",
    "# print confusion matrix to identify mistakes\n",
    "print (\"Confusion matrix:\")\n",
    "print (confusion_matrix(test_mini_labels, log_clf_best_predicted))\n",
    "print('-----------------------------------')"
   ]
  },
  {
   "cell_type": "markdown",
   "metadata": {},
   "source": [
    "**Conclusion: We attempted different models using a basic count vectorizor on the raw request text. Next, we will attempt to improve this by taking steps to clean the request text in order to potentially obtain a more useful dictionary and word counts.**"
   ]
  },
  {
   "cell_type": "markdown",
   "metadata": {},
   "source": [
    "### 4.2 Advanced Count Vectorizer"
   ]
  },
  {
   "cell_type": "code",
   "execution_count": 82,
   "metadata": {
    "collapsed": true
   },
   "outputs": [],
   "source": [
    "# # ***** RUN THIS ONCE *****\n",
    "\n",
    "# # Downloading corpus of stopwords and other functions\n",
    "\n",
    "# nltk.download()"
   ]
  },
  {
   "cell_type": "code",
   "execution_count": 83,
   "metadata": {
    "collapsed": true
   },
   "outputs": [],
   "source": [
    "# Removing stopwords and punctuations\n",
    "\n",
    "from string import punctuation\n",
    "from nltk.corpus import stopwords\n",
    "from nltk import sent_tokenize, word_tokenize\n",
    "\n",
    "stopwords_en = set(stopwords.words('english'))\n",
    "\n",
    "# Stopwords from stopwords-json\n",
    "stopwords_json = {\"en\":[\"a\",\"a's\",\"able\",\"about\",\"above\",\"according\",\"accordingly\",\"across\",\"actually\",\"after\",\"afterwards\",\"again\",\"against\",\"ain't\",\"all\",\"allow\",\"allows\",\"almost\",\"alone\",\"along\",\"already\",\"also\",\"although\",\"always\",\"am\",\"among\",\"amongst\",\"an\",\"and\",\"another\",\"any\",\"anybody\",\"anyhow\",\"anyone\",\"anything\",\"anyway\",\"anyways\",\"anywhere\",\"apart\",\"appear\",\"appreciate\",\"appropriate\",\"are\",\"aren't\",\"around\",\"as\",\"aside\",\"ask\",\"asking\",\"associated\",\"at\",\"available\",\"away\",\"awfully\",\"b\",\"be\",\"became\",\"because\",\"become\",\"becomes\",\"becoming\",\"been\",\"before\",\"beforehand\",\"behind\",\"being\",\"believe\",\"below\",\"beside\",\"besides\",\"best\",\"better\",\"between\",\"beyond\",\"both\",\"brief\",\"but\",\"by\",\"c\",\"c'mon\",\"c's\",\"came\",\"can\",\"can't\",\"cannot\",\"cant\",\"cause\",\"causes\",\"certain\",\"certainly\",\"changes\",\"clearly\",\"co\",\"com\",\"come\",\"comes\",\"concerning\",\"consequently\",\"consider\",\"considering\",\"contain\",\"containing\",\"contains\",\"corresponding\",\"could\",\"couldn't\",\"course\",\"currently\",\"d\",\"definitely\",\"described\",\"despite\",\"did\",\"didn't\",\"different\",\"do\",\"does\",\"doesn't\",\"doing\",\"don't\",\"done\",\"down\",\"downwards\",\"during\",\"e\",\"each\",\"edu\",\"eg\",\"eight\",\"either\",\"else\",\"elsewhere\",\"enough\",\"entirely\",\"especially\",\"et\",\"etc\",\"even\",\"ever\",\"every\",\"everybody\",\"everyone\",\"everything\",\"everywhere\",\"ex\",\"exactly\",\"example\",\"except\",\"f\",\"far\",\"few\",\"fifth\",\"first\",\"five\",\"followed\",\"following\",\"follows\",\"for\",\"former\",\"formerly\",\"forth\",\"four\",\"from\",\"further\",\"furthermore\",\"g\",\"get\",\"gets\",\"getting\",\"given\",\"gives\",\"go\",\"goes\",\"going\",\"gone\",\"got\",\"gotten\",\"greetings\",\"h\",\"had\",\"hadn't\",\"happens\",\"hardly\",\"has\",\"hasn't\",\"have\",\"haven't\",\"having\",\"he\",\"he's\",\"hello\",\"help\",\"hence\",\"her\",\"here\",\"here's\",\"hereafter\",\"hereby\",\"herein\",\"hereupon\",\"hers\",\"herself\",\"hi\",\"him\",\"himself\",\"his\",\"hither\",\"hopefully\",\"how\",\"howbeit\",\"however\",\"i\",\"i'd\",\"i'll\",\"i'm\",\"i've\",\"ie\",\"if\",\"ignored\",\"immediate\",\"in\",\"inasmuch\",\"inc\",\"indeed\",\"indicate\",\"indicated\",\"indicates\",\"inner\",\"insofar\",\"instead\",\"into\",\"inward\",\"is\",\"isn't\",\"it\",\"it'd\",\"it'll\",\"it's\",\"its\",\"itself\",\"j\",\"just\",\"k\",\"keep\",\"keeps\",\"kept\",\"know\",\"known\",\"knows\",\"l\",\"last\",\"lately\",\"later\",\"latter\",\"latterly\",\"least\",\"less\",\"lest\",\"let\",\"let's\",\"like\",\"liked\",\"likely\",\"little\",\"look\",\"looking\",\"looks\",\"ltd\",\"m\",\"mainly\",\"many\",\"may\",\"maybe\",\"me\",\"mean\",\"meanwhile\",\"merely\",\"might\",\"more\",\"moreover\",\"most\",\"mostly\",\"much\",\"must\",\"my\",\"myself\",\"n\",\"name\",\"namely\",\"nd\",\"near\",\"nearly\",\"necessary\",\"need\",\"needs\",\"neither\",\"never\",\"nevertheless\",\"new\",\"next\",\"nine\",\"no\",\"nobody\",\"non\",\"none\",\"noone\",\"nor\",\"normally\",\"not\",\"nothing\",\"novel\",\"now\",\"nowhere\",\"o\",\"obviously\",\"of\",\"off\",\"often\",\"oh\",\"ok\",\"okay\",\"old\",\"on\",\"once\",\"one\",\"ones\",\"only\",\"onto\",\"or\",\"other\",\"others\",\"otherwise\",\"ought\",\"our\",\"ours\",\"ourselves\",\"out\",\"outside\",\"over\",\"overall\",\"own\",\"p\",\"particular\",\"particularly\",\"per\",\"perhaps\",\"placed\",\"please\",\"plus\",\"possible\",\"presumably\",\"probably\",\"provides\",\"q\",\"que\",\"quite\",\"qv\",\"r\",\"rather\",\"rd\",\"re\",\"really\",\"reasonably\",\"regarding\",\"regardless\",\"regards\",\"relatively\",\"respectively\",\"right\",\"s\",\"said\",\"same\",\"saw\",\"say\",\"saying\",\"says\",\"second\",\"secondly\",\"see\",\"seeing\",\"seem\",\"seemed\",\"seeming\",\"seems\",\"seen\",\"self\",\"selves\",\"sensible\",\"sent\",\"serious\",\"seriously\",\"seven\",\"several\",\"shall\",\"she\",\"should\",\"shouldn't\",\"since\",\"six\",\"so\",\"some\",\"somebody\",\"somehow\",\"someone\",\"something\",\"sometime\",\"sometimes\",\"somewhat\",\"somewhere\",\"soon\",\"sorry\",\"specified\",\"specify\",\"specifying\",\"still\",\"sub\",\"such\",\"sup\",\"sure\",\"t\",\"t's\",\"take\",\"taken\",\"tell\",\"tends\",\"th\",\"than\",\"thank\",\"thanks\",\"thanx\",\"that\",\"that's\",\"thats\",\"the\",\"their\",\"theirs\",\"them\",\"themselves\",\"then\",\"thence\",\"there\",\"there's\",\"thereafter\",\"thereby\",\"therefore\",\"therein\",\"theres\",\"thereupon\",\"these\",\"they\",\"they'd\",\"they'll\",\"they're\",\"they've\",\"think\",\"third\",\"this\",\"thorough\",\"thoroughly\",\"those\",\"though\",\"three\",\"through\",\"throughout\",\"thru\",\"thus\",\"to\",\"together\",\"too\",\"took\",\"toward\",\"towards\",\"tried\",\"tries\",\"truly\",\"try\",\"trying\",\"twice\",\"two\",\"u\",\"un\",\"under\",\"unfortunately\",\"unless\",\"unlikely\",\"until\",\"unto\",\"up\",\"upon\",\"us\",\"use\",\"used\",\"useful\",\"uses\",\"using\",\"usually\",\"uucp\",\"v\",\"value\",\"various\",\"very\",\"via\",\"viz\",\"vs\",\"w\",\"want\",\"wants\",\"was\",\"wasn't\",\"way\",\"we\",\"we'd\",\"we'll\",\"we're\",\"we've\",\"welcome\",\"well\",\"went\",\"were\",\"weren't\",\"what\",\"what's\",\"whatever\",\"when\",\"whence\",\"whenever\",\"where\",\"where's\",\"whereafter\",\"whereas\",\"whereby\",\"wherein\",\"whereupon\",\"wherever\",\"whether\",\"which\",\"while\",\"whither\",\"who\",\"who's\",\"whoever\",\"whole\",\"whom\",\"whose\",\"why\",\"will\",\"willing\",\"wish\",\"with\",\"within\",\"without\",\"won't\",\"wonder\",\"would\",\"wouldn't\",\"x\",\"y\",\"yes\",\"yet\",\"you\",\"you'd\",\"you'll\",\"you're\",\"you've\",\"your\",\"yours\",\"yourself\",\"yourselves\",\"z\",\"zero\"]}\n",
    "stopwords_json_en = set(stopwords_json['en'])\n",
    "stopwords_nltk_en = set(stopwords.words('english'))\n",
    "stopwords_punct = set(punctuation)\n",
    "# Combine the stopwords. Its a lot longer so I'm not printing it out...\n",
    "stoplist_combined = set.union(stopwords_json_en, stopwords_nltk_en, stopwords_punct)"
   ]
  },
  {
   "cell_type": "code",
   "execution_count": 84,
   "metadata": {
    "collapsed": true
   },
   "outputs": [],
   "source": [
    "# Removing stemming and lemmatization\n",
    "\n",
    "from nltk import pos_tag\n",
    "from nltk.stem import WordNetLemmatizer\n",
    "\n",
    "wnl = WordNetLemmatizer()\n",
    "\n",
    "# tagging part of speech so that lemmatization can be done\n",
    "def penn2morphy(penntag):\n",
    "    \"\"\" Converts Penn Treebank tags to WordNet. \"\"\"\n",
    "    morphy_tag = {'NN':'n', 'JJ':'a',\n",
    "                  'VB':'v', 'RB':'r'}\n",
    "    try:\n",
    "        return morphy_tag[penntag[:2]]\n",
    "    except:\n",
    "        return 'n' \n",
    "    \n",
    "def lemmatize_sent(text): \n",
    "    # Text input is string, returns lowercased strings.\n",
    "    return [wnl.lemmatize(word.lower(), pos=penn2morphy(tag)) \n",
    "            for word, tag in pos_tag(word_tokenize(text))]"
   ]
  },
  {
   "cell_type": "code",
   "execution_count": 85,
   "metadata": {
    "collapsed": true
   },
   "outputs": [],
   "source": [
    "# updated preprocessor\n",
    "\n",
    "def preprocess_text(text):\n",
    "    # Input: str, i.e. document/sentence\n",
    "    # Output: list(str) , i.e. list of lemmas\n",
    "    \n",
    "    # Convert all text to lowercase\n",
    "    text = text.lower()\n",
    "    \n",
    "    # Replace sequences of numbers with a single token\n",
    "    text = re.sub(r'\\d+','numseq',text)\n",
    "    \n",
    "    # Remove non letter characters\n",
    "    text = re.sub(r'[^a-zA-Z]+', ' ', text)\n",
    "    \n",
    "    return [word for word in lemmatize_sent(text) \n",
    "            if word not in stoplist_combined\n",
    "            and not word.isdigit()]\n",
    "\n"
   ]
  },
  {
   "cell_type": "code",
   "execution_count": 86,
   "metadata": {
    "collapsed": true
   },
   "outputs": [],
   "source": [
    "vectorizer2 = CountVectorizer(analyzer=preprocess_text)\n",
    "train_data_nlp2 = vectorizer2.fit_transform(train_data['request_text_edit_aware'])\n",
    "dev_data_nlp2 = vectorizer2.transform(dev_data['request_text_edit_aware'])\n",
    "test_mini_data_nlp2 = vectorizer2.transform(test_mini_data['request_text_edit_aware'])"
   ]
  },
  {
   "cell_type": "code",
   "execution_count": 87,
   "metadata": {},
   "outputs": [
    {
     "name": "stdout",
     "output_type": "stream",
     "text": [
      "Size of the vocabulary:\n",
      "7053\n"
     ]
    }
   ],
   "source": [
    "print(\"Size of the vocabulary:\")\n",
    "print(train_data_nlp2.shape[1])"
   ]
  },
  {
   "cell_type": "markdown",
   "metadata": {},
   "source": [
    "##### Multinomial Naive Bayes Model"
   ]
  },
  {
   "cell_type": "code",
   "execution_count": 88,
   "metadata": {},
   "outputs": [
    {
     "name": "stdout",
     "output_type": "stream",
     "text": [
      "----- Multinomial Naive Bayes -----\n",
      "{'alpha': 5}\n",
      "Multinomial accuracy: 76.4851485149\n",
      "Multinomial accuracy (AUC): 49.8387096774\n",
      "Number of predictions: 808\n",
      "Number predicted will get pizza: 2\n",
      "-----------------------------------\n"
     ]
    }
   ],
   "source": [
    "# Multinomial modeling\n",
    "alphas = {'alpha': [0.01, 0.05, 0.1, 0.5, 0.8, 1, 1.5, 5, 10]}\n",
    "multi_gs = GridSearchCV(estimator=MultinomialNB(), param_grid=alphas)\n",
    "multi_gs.fit(dev_data_nlp2, dev_labels)\n",
    "\n",
    "multi_clf_best = MultinomialNB(alpha=multi_gs.best_params_['alpha'])\n",
    "multi_clf_best.fit(train_data_nlp2, train_labels)\n",
    "multi_clf_best_predicted = multi_clf_best.predict(test_mini_data_nlp2)\n",
    "fpr, tpr, _ = metrics.roc_curve(test_mini_labels, multi_clf_best_predicted)\n",
    "\n",
    "print('----- Multinomial Naive Bayes -----')\n",
    "print (multi_gs.best_params_)\n",
    "print(\"Multinomial accuracy:\", accuracy_score(multi_clf_best_predicted, test_mini_labels) * 100)\n",
    "print(\"Multinomial accuracy (AUC):\", metrics.auc(fpr,tpr) * 100)\n",
    "\n",
    "print('Number of predictions:', len(multi_clf_best_predicted))\n",
    "print('Number predicted will get pizza:',sum(multi_clf_best_predicted))\n",
    "print('-----------------------------------')"
   ]
  },
  {
   "cell_type": "markdown",
   "metadata": {},
   "source": [
    "##### Logistic Regression Model"
   ]
  },
  {
   "cell_type": "code",
   "execution_count": 89,
   "metadata": {
    "scrolled": true
   },
   "outputs": [
    {
     "name": "stdout",
     "output_type": "stream",
     "text": [
      "----- Logistic Regression -----\n",
      "{'C': 0.04}\n",
      "Logistic accuracy: 75.9900990099\n",
      "Logistic accuracy (AUC): 50.9986273164\n",
      "Number of predictions: 808\n",
      "Number predicted will get pizza: 22\n",
      "-----------------------------------\n"
     ]
    }
   ],
   "source": [
    "# Logisitc modeling\n",
    "log_clf = LogisticRegression()\n",
    "C = {\"C\": [0.001, 0.01, 0.02, 0.03, 0.04, 0.05, 0.1, 0.5, 0.8, 1, 1.5, 5, 10]}\n",
    "log_gs = GridSearchCV(log_clf,C)\n",
    "log_gs.fit(dev_data_nlp2, dev_labels)\n",
    "\n",
    "log_clf_best = LogisticRegression(C=log_gs.best_params_['C'])\n",
    "log_clf_best.fit(train_data_nlp2, train_labels)\n",
    "log_clf_best_predicted = log_clf_best.predict(test_mini_data_nlp2)\n",
    "fpr, tpr, _ = metrics.roc_curve(test_mini_labels, log_clf_best_predicted)\n",
    "\n",
    "print('----- Logistic Regression -----')\n",
    "print (log_gs.best_params_)\n",
    "print (\"Logistic accuracy:\", accuracy_score(log_clf_best_predicted, test_mini_labels) * 100)\n",
    "print (\"Logistic accuracy (AUC):\", metrics.auc(fpr,tpr) * 100)\n",
    "\n",
    "print('Number of predictions:', len(log_clf_best_predicted))\n",
    "print('Number predicted will get pizza:',sum(log_clf_best_predicted))\n",
    "print('-----------------------------------')"
   ]
  },
  {
   "cell_type": "markdown",
   "metadata": {},
   "source": [
    "**Conclusion: This did not really change or improve results. Next, we suspect the request title may have useful information as well. We saw in our EDA that some requests did not have request text, but all of them had a title, which means some people made their complete request using the title only.**"
   ]
  },
  {
   "cell_type": "markdown",
   "metadata": {
    "collapsed": true
   },
   "source": [
    "### 4.3 Advanced Count Vectorizer Using Request Text and Title"
   ]
  },
  {
   "cell_type": "code",
   "execution_count": 90,
   "metadata": {
    "collapsed": true
   },
   "outputs": [],
   "source": [
    "# Create field that concatenates the request text and title in case the title contains more predictive power\n",
    "train_data['request_title_and_text'] = train_data['request_title'] + ' ' + train_data['request_text_edit_aware']\n",
    "dev_data['request_title_and_text'] = dev_data['request_title'] + ' ' + dev_data['request_text_edit_aware']\n",
    "test_mini_data['request_title_and_text'] = test_mini_data['request_title'] + ' ' + test_mini_data['request_text_edit_aware']"
   ]
  },
  {
   "cell_type": "code",
   "execution_count": 91,
   "metadata": {
    "collapsed": true
   },
   "outputs": [],
   "source": [
    "vectorizer2 = CountVectorizer(analyzer=preprocess_text)\n",
    "train_data_nlp2 = vectorizer2.fit_transform(train_data['request_title_and_text'])\n",
    "dev_data_nlp2 = vectorizer2.transform(dev_data['request_title_and_text'])\n",
    "test_mini_data_nlp2 = vectorizer2.transform(test_mini_data['request_title_and_text'])"
   ]
  },
  {
   "cell_type": "code",
   "execution_count": 92,
   "metadata": {},
   "outputs": [
    {
     "name": "stdout",
     "output_type": "stream",
     "text": [
      "Size of the vocabulary:\n",
      "7729\n"
     ]
    }
   ],
   "source": [
    "print(\"Size of the vocabulary:\")\n",
    "print(train_data_nlp2.shape[1])"
   ]
  },
  {
   "cell_type": "markdown",
   "metadata": {},
   "source": [
    "##### Multinomial Naive Bayes Model"
   ]
  },
  {
   "cell_type": "code",
   "execution_count": 93,
   "metadata": {},
   "outputs": [
    {
     "name": "stdout",
     "output_type": "stream",
     "text": [
      "----- Multinomial Naive Bayes -----\n",
      "{'alpha': 5}\n",
      "Multinomial accuracy: 76.73267%\n",
      "Multinomial accuracy (AUC): 50.00000%\n",
      "Number of predictions: 808\n",
      "Number predicted will get pizza: 0\n",
      "-----------------------------------\n"
     ]
    }
   ],
   "source": [
    "# Multinomial modeling\n",
    "alphas = {'alpha': [0.01, 0.05, 0.1, 0.5, 0.8, 1, 1.5, 5, 10]}\n",
    "multi_gs = GridSearchCV(estimator=MultinomialNB(), param_grid=alphas)\n",
    "multi_gs.fit(dev_data_nlp2, dev_labels)\n",
    "\n",
    "multi_clf_best = MultinomialNB(alpha=multi_gs.best_params_['alpha'])\n",
    "multi_clf_best.fit(train_data_nlp2, train_labels)\n",
    "multi_clf_best_predicted = multi_clf_best.predict(test_mini_data_nlp2)\n",
    "fpr, tpr, _ = metrics.roc_curve(test_mini_labels, multi_clf_best_predicted)\n",
    "\n",
    "print('----- Multinomial Naive Bayes -----')\n",
    "print (multi_gs.best_params_)\n",
    "\n",
    "accuracy = accuracy_score(multi_clf_best_predicted, test_mini_labels) * 100\n",
    "print ('Multinomial accuracy: {:2.5f}%'.format(accuracy))\n",
    "print ('Multinomial accuracy (AUC): {:2.5f}%'.format(metrics.auc(fpr,tpr) * 100))\n",
    "\n",
    "print('Number of predictions:', len(multi_clf_best_predicted))\n",
    "print('Number predicted will get pizza:',sum(multi_clf_best_predicted))\n",
    "print('-----------------------------------')"
   ]
  },
  {
   "cell_type": "markdown",
   "metadata": {},
   "source": [
    "##### Logistic Regression Model"
   ]
  },
  {
   "cell_type": "code",
   "execution_count": 94,
   "metadata": {},
   "outputs": [
    {
     "name": "stdout",
     "output_type": "stream",
     "text": [
      "----- Logistic Regression -----\n",
      "{'C': 0.04}\n",
      "Logistic accuracy: 75.86634%\n",
      "Logistic accuracy (AUC): 51.65923%\n",
      "Number of predictions: 808\n",
      "Number predicted will get pizza: 31\n",
      "-----------------------------------\n"
     ]
    }
   ],
   "source": [
    "# Logisitc modeling\n",
    "log_clf = LogisticRegression()\n",
    "C = {\"C\": [0.001, 0.01, 0.02, 0.03, 0.04, 0.05, 0.1, 0.5, 0.8, 1, 1.5, 5, 10]}\n",
    "log_gs = GridSearchCV(log_clf,C)\n",
    "log_gs.fit(dev_data_nlp2, dev_labels)\n",
    "\n",
    "log_clf_best = LogisticRegression(C=log_gs.best_params_['C'])\n",
    "log_clf_best.fit(train_data_nlp2, train_labels)\n",
    "log_clf_best_predicted = log_clf_best.predict(test_mini_data_nlp2)\n",
    "fpr, tpr, _ = metrics.roc_curve(test_mini_labels, log_clf_best_predicted)\n",
    "\n",
    "print('----- Logistic Regression -----')\n",
    "print (log_gs.best_params_)\n",
    "accuracy = accuracy_score(log_clf_best_predicted, test_mini_labels) * 100\n",
    "print ('Logistic accuracy: {:2.5f}%'.format(accuracy))\n",
    "print ('Logistic accuracy (AUC): {:2.5f}%'.format(metrics.auc(fpr,tpr) * 100))\n",
    "\n",
    "\n",
    "print('Number of predictions:', len(log_clf_best_predicted))\n",
    "print('Number predicted will get pizza:',sum(log_clf_best_predicted))\n",
    "print('-----------------------------------')"
   ]
  },
  {
   "cell_type": "markdown",
   "metadata": {},
   "source": [
    "**Conclusion: Simply vectorizing the words does not provide much predictive power, which is why most of our models based on word counts are predicting that most people will not get pizza. Next, we will attempt to engineer features from the text, and look at the other numeric metadata.**"
   ]
  },
  {
   "cell_type": "markdown",
   "metadata": {},
   "source": [
    "### 4.4 Text Embedding "
   ]
  },
  {
   "cell_type": "code",
   "execution_count": 95,
   "metadata": {},
   "outputs": [],
   "source": [
    "# training the wordvec models\n",
    "from gensim.models import KeyedVectors\n",
    "filename = '/Users/jmcdonald/UCB/Glove/glove.6B.100d.txt.word2vec'\n",
    "model = KeyedVectors.load_word2vec_format(filename, binary=False)\n",
    "\n",
    "def word_to_vec(text_data):\n",
    "    new_array = []\n",
    "    for item in text_data:\n",
    "        temp = []\n",
    "        item = preprocess_text(item)\n",
    "        for word in item:\n",
    "            if word in model.vocab:\n",
    "                val = model[word]\n",
    "                temp.append(val)\n",
    "        new_array.append(np.average(temp, axis=0))\n",
    "    return new_array"
   ]
  },
  {
   "cell_type": "code",
   "execution_count": 96,
   "metadata": {},
   "outputs": [
    {
     "name": "stdout",
     "output_type": "stream",
     "text": [
      "----- Logistic Regression -----\n",
      "{'C': 0.001}\n",
      "Logistic accuracy: 76.733%\n",
      "Logistic accuracy (AUC): 50.000%\n",
      "Number of predictions: 808\n",
      "Number predicted will get pizza: 0\n",
      "-----------------------------------\n"
     ]
    }
   ],
   "source": [
    "# Logisitic modeling - running on embeded text data\n",
    "wtv_train_df = word_to_vec(train_df['request_title_and_text'])\n",
    "wtv_dev_df = word_to_vec(dev_df['request_title_and_text'])\n",
    "wtv_mini_df = word_to_vec(test_mini_data['request_title_and_text'])\n",
    "\n",
    "log_clf = LogisticRegression()\n",
    "C = {\"C\": [0.001, 0.01, 0.02, 0.03, 0.04, 0.05, 0.1, 0.5, 0.8, 1, 1.5, 5, 10]}\n",
    "log_gs = GridSearchCV(log_clf,C)\n",
    "log_gs.fit(wtv_dev_df, dev_labels)\n",
    "\n",
    "log_clf_best = LogisticRegression(C=log_gs.best_params_['C'])\n",
    "log_clf_best.fit(wtv_train_df, train_labels)\n",
    "log_clf_best_predicted = log_clf_best.predict(wtv_mini_df)\n",
    "fpr, tpr, _ = metrics.roc_curve(test_mini_labels, log_clf_best_predicted)\n",
    "\n",
    "print('----- Logistic Regression -----')\n",
    "print (log_gs.best_params_)\n",
    "accuracy = accuracy_score(log_clf_best_predicted, test_mini_labels) * 100\n",
    "print ('Logistic accuracy: {:2.3f}%'.format(accuracy))\n",
    "print ('Logistic accuracy (AUC): {:2.3f}%'.format(metrics.auc(fpr,tpr) * 100))\n",
    "print('Number of predictions:', len(log_clf_best_predicted))\n",
    "print('Number predicted will get pizza:',sum(log_clf_best_predicted))\n",
    "print('-----------------------------------')"
   ]
  },
  {
   "cell_type": "markdown",
   "metadata": {},
   "source": [
    "#### Text Embedding PCA Visualization"
   ]
  },
  {
   "cell_type": "code",
   "execution_count": 97,
   "metadata": {
    "scrolled": true
   },
   "outputs": [
    {
     "data": {
      "image/png": "[encoded data removed]",
      "text/plain": [
       "<matplotlib.figure.Figure at 0x124ad7390>"
      ]
     },
     "metadata": {},
     "output_type": "display_data"
    }
   ],
   "source": [
    "pca = PCA(n_components=2)\n",
    "wtv_train_df_pca = pca.fit_transform(wtv_train_df)\n",
    "plt.scatter(wtv_train_df_pca[:,0],wtv_train_df_pca[:,1],c=train_labels)\n",
    "plt.show()"
   ]
  },
  {
   "cell_type": "markdown",
   "metadata": {},
   "source": [
    "### 4.5 Analyze Numeric Metadata Features + Engineered Features from Request Text"
   ]
  },
  {
   "cell_type": "code",
   "execution_count": 98,
   "metadata": {
    "collapsed": true
   },
   "outputs": [],
   "source": [
    "# Feature engineering ideas\n",
    "# (Ideas based on Stanford paper: How to Ask for a Favor: A Case Study on the Success of Altruistic Requests)\n",
    "\n",
    "# 1. length of request - number of characters\n",
    "# Take log transformation for a normal distribution\n",
    "\n",
    "train_data['request_len_LOG'] = np.log10(train_data['request_title_and_text'].str.len() + 0.1)\n",
    "dev_data['request_len_LOG'] = np.log10(dev_data['request_title_and_text'].str.len() + 0.1)\n",
    "test_mini_data['request_len_LOG'] = np.log10(test_mini_data['request_title_and_text'].str.len() + 0.1)\n",
    "\n",
    "# 2. Month of request (rather than timestamp)\n",
    "\n",
    "train_data['request_month'] = train_data['unix_timestamp_of_request'].map(lambda x: datetime.datetime.fromtimestamp(x).month)\n",
    "dev_data['request_month'] = dev_data['unix_timestamp_of_request'].map(lambda x: datetime.datetime.fromtimestamp(x).month)\n",
    "test_mini_data['request_month'] = test_mini_data['unix_timestamp_of_request'].map(lambda x: datetime.datetime.fromtimestamp(x).month)\n",
    "\n",
    "# 3. Day of week - i.e. maybe people are more likely to get pizza on friday rather than monday?\n",
    "\n",
    "train_data['request_dayofweek'] = train_data['unix_timestamp_of_request'].map(lambda x: datetime.datetime.fromtimestamp(x).weekday())\n",
    "dev_data['request_dayofweek'] = dev_data['unix_timestamp_of_request'].map(lambda x: datetime.datetime.fromtimestamp(x).weekday())\n",
    "test_mini_data['request_dayofweek'] = test_mini_data['unix_timestamp_of_request'].map(lambda x: datetime.datetime.fromtimestamp(x).weekday())\n",
    "\n",
    "# 4. Does request contain an image? (.jpeg, etc.)\n",
    "\n",
    "imagelist = '.tif|.gif|.jpeg|.jpg|.jif|.png|.pdf'\n",
    "train_data['contains_image'] = train_data['request_title_and_text'].str.contains(imagelist, case=False).astype(int)\n",
    "dev_data['contains_image'] = dev_data['request_title_and_text'].str.contains(imagelist, case=False).astype(int)\n",
    "test_mini_data['contains_image'] = test_mini_data['request_title_and_text'].str.contains(imagelist, case=False).astype(int)\n",
    "#print('Total records:', len(train_data['contains_image']))\n",
    "#print('Records with image:', sum(train_data['contains_image']))\n",
    "\n",
    "# 5. Narrative for requesting pizza (Craving, Family, Job, Money, Student)\n",
    "\n",
    "# Craving\n",
    "craving_str = 'friend|girlfriend|craving|birthday|boyfriend|celebrate|party|game|games|movie|date|drunk|beer|celebrating|invited|drinks|crave|wasted|invite'\n",
    "train_data['narr_craving'] = train_data['request_title_and_text'].str.contains(craving_str, case=False).astype(int)\n",
    "dev_data['narr_craving'] = dev_data['request_title_and_text'].str.contains(craving_str, case=False).astype(int)\n",
    "test_mini_data['narr_craving'] = test_mini_data['request_title_and_text'].str.contains(craving_str, case=False).astype(int)\n",
    "# Family\n",
    "family_str = 'family|mom|wife|parents|mother|husband|dad|son|daughter|father|parent|mum'\n",
    "train_data['narr_family'] = train_data['request_title_and_text'].str.contains(family_str, case=False).astype(int)\n",
    "dev_data['narr_family'] = dev_data['request_title_and_text'].str.contains(family_str, case=False).astype(int)\n",
    "test_mini_data['narr_family'] = test_mini_data['request_title_and_text'].str.contains(family_str, case=False).astype(int)\n",
    "# Job\n",
    "job_str = 'work|job|paycheck|unemployment|interview|fired|employment|hired|hire'\n",
    "train_data['narr_job'] = train_data['request_title_and_text'].str.contains(job_str, case=False).astype(int)\n",
    "dev_data['narr_job'] = dev_data['request_title_and_text'].str.contains(job_str, case=False).astype(int)\n",
    "test_mini_data['narr_job'] = test_mini_data['request_title_and_text'].str.contains(job_str, case=False).astype(int)\n",
    "# Money\n",
    "money_str = 'money|broke|week until|paid|account|rent|buy|bank|bill|cash|due soon|paycheck|check|spent|poor|financial|credit|budget|loan|bucks|deposit'\n",
    "train_data['narr_money'] = train_data['request_title_and_text'].str.contains(money_str, case=False).astype(int)\n",
    "dev_data['narr_money'] = dev_data['request_title_and_text'].str.contains(money_str, case=False).astype(int)\n",
    "test_mini_data['narr_money'] = test_mini_data['request_title_and_text'].str.contains(money_str, case=False).astype(int)\n",
    "# Student\n",
    "student_str = 'college|student|school|roommate|studying|university|finals|semester|class|study|project|dorm|tuition'\n",
    "train_data['narr_student'] = train_data['request_title_and_text'].str.contains(student_str, case=False).astype(int)\n",
    "dev_data['narr_student'] = dev_data['request_title_and_text'].str.contains(student_str, case=False).astype(int)\n",
    "test_mini_data['narr_student'] = test_mini_data['request_title_and_text'].str.contains(student_str, case=False).astype(int)\n",
    "\n",
    "# 6. Does the request contain narrative that may suggest that they will pay the favor forward, or reciprocate?\n",
    "\n",
    "payforward_str = 'pay it forward|paid it forward|will forward|will return|will pass|I will|repay|reciprocate'\n",
    "train_data['narr_payforward'] = train_data['request_title_and_text'].str.contains(payforward_str, case=False).astype(int)\n",
    "dev_data['narr_payforward'] = dev_data['request_title_and_text'].str.contains(payforward_str, case=False).astype(int)\n",
    "test_mini_data['narr_payforward'] = test_mini_data['request_title_and_text'].str.contains(payforward_str, case=False).astype(int)\n",
    "# print('Total records:', len(train_data['narr_payforward']))\n",
    "# print('Records with pay forward:', sum(train_data['narr_payforward']))"
   ]
  },
  {
   "cell_type": "code",
   "execution_count": 99,
   "metadata": {
    "collapsed": true
   },
   "outputs": [],
   "source": [
    "# Numeric and binary features to use in models\n",
    "numeric_features = [\n",
    "'requester_account_age_in_days_at_request_LOG', \n",
    "'requester_days_since_first_post_on_raop_at_request_LOG', \n",
    "'requester_number_of_comments_at_request_LOG', \n",
    "'requester_number_of_comments_in_raop_at_request_LOG',\n",
    "'requester_number_of_posts_at_request_LOG',\n",
    "'requester_number_of_posts_on_raop_at_request_LOG',\n",
    "'requester_number_of_subreddits_at_request_LOG', \n",
    "'requester_upvotes_minus_downvotes_at_request_LOG', \n",
    "'request_len_LOG',\n",
    "'request_month',\n",
    "'request_dayofweek',\n",
    "'contains_image',\n",
    "'narr_craving','narr_family','narr_job','narr_money','narr_student',\n",
    "'narr_payforward'\n",
    "]"
   ]
  },
  {
   "cell_type": "code",
   "execution_count": 100,
   "metadata": {
    "collapsed": true
   },
   "outputs": [],
   "source": [
    "# # Make sure there are no nan and infinite values before running model\n",
    "# train_data[numeric_features].head()\n",
    "# train_data[numeric_features].describe()\n",
    "\n",
    "# np.any(np.isnan(train_data[numeric_features]))\n",
    "# np.all(np.isfinite(train_data[numeric_features]))\n",
    "\n",
    "# train_data[train_data[numeric_features].isnull().any(axis=1)][numeric_features]"
   ]
  },
  {
   "cell_type": "markdown",
   "metadata": {},
   "source": [
    "##### Random Forests Model"
   ]
  },
  {
   "cell_type": "code",
   "execution_count": 101,
   "metadata": {
    "collapsed": true
   },
   "outputs": [],
   "source": [
    "# Random Forest\n",
    "def randomForestClassifier(x_train, y_train, x_test, y_test, grid = 0):\n",
    "    \n",
    "    if grid == 1:\n",
    "        \n",
    "        parameters = { \n",
    "            'n_estimators' : list(np.arange(1000, 10000, 3000)),\n",
    "            'max_leaf_nodes' : list(np.arange(10, 100, 30)),\n",
    "            'criterion' : ['gini', 'entropy']\n",
    "        }\n",
    "\n",
    "        # perform gridsearch\n",
    "        rnd_clf = GridSearchCV(RandomForestClassifier(), parameters)\n",
    "        rnd_clf.fit(x_train, y_train)\n",
    "\n",
    "        n_estimators = rnd_clf.best_params_['n_estimators']\n",
    "        max_leaf_nodes = rnd_clf.best_params_['max_leaf_nodes']\n",
    "        criterion = rnd_clf.best_params_['criterion']\n",
    "\n",
    "        clf = RandomForestClassifier(n_estimators=n_estimators, max_leaf_nodes=max_leaf_nodes, criterion=criterion)\n",
    "        \n",
    "    else:\n",
    "        \n",
    "        clf = RandomForestClassifier()\n",
    "        \n",
    "    clf.fit(x_train, y_train)\n",
    "    \n",
    "    y_pred = clf.predict(x_test)\n",
    "    accuracy = accuracy_score(y_test, y_pred)*100.0\n",
    "    \n",
    "    fpr, tpr, _ = metrics.roc_curve(y_test, y_pred)\n",
    "\n",
    "    print ('Accuracy: {:2.5f}%'.format(accuracy))\n",
    "    print ('Accuracy (AUC): {:2.5f}%'.format(metrics.auc(fpr,tpr) * 100))\n",
    "    return y_pred"
   ]
  },
  {
   "cell_type": "code",
   "execution_count": 102,
   "metadata": {},
   "outputs": [
    {
     "name": "stdout",
     "output_type": "stream",
     "text": [
      "----- Random Forests -----\n",
      "Accuracy: 73.76238%\n",
      "Accuracy (AUC): 51.95607%\n",
      "Number of predictions: 808\n",
      "Number predicted will get pizza: 66\n",
      "--------------------------\n"
     ]
    }
   ],
   "source": [
    "# Execute random forest model without gridsearch\n",
    "print('----- Random Forests -----')\n",
    "y_pred = randomForestClassifier(train_data[numeric_features],train_labels,\n",
    "                                test_mini_data[numeric_features],test_mini_labels,grid=0)\n",
    "print('Number of predictions:', len(y_pred))\n",
    "print('Number predicted will get pizza:',sum(y_pred))\n",
    "print('--------------------------')"
   ]
  },
  {
   "cell_type": "code",
   "execution_count": 103,
   "metadata": {
    "scrolled": true
   },
   "outputs": [],
   "source": [
    "# # Execute random forest model with gridsearch. (Run time approximately 10 minutes)\n",
    "# print('----- Random Forests w/ tuned parameters -----')\n",
    "# print(datetime.datetime.now())\n",
    "# y_pred = randomForestClassifier(train_data[numeric_features],train_labels,test_mini_data[numeric_features],test_mini_labels,grid=1)\n",
    "# print(datetime.datetime.now())\n",
    "# print('Number of predictions:', len(y_pred))\n",
    "# print('Number predicted will get pizza:',sum(y_pred))\n",
    "# print('--------------------------')"
   ]
  },
  {
   "cell_type": "markdown",
   "metadata": {},
   "source": [
    "##### Logistic Regression Model"
   ]
  },
  {
   "cell_type": "code",
   "execution_count": 104,
   "metadata": {
    "scrolled": true
   },
   "outputs": [
    {
     "name": "stdout",
     "output_type": "stream",
     "text": [
      "----- Logistic Regression -----\n",
      "{'C': 0.1}\n",
      "Logistic accuracy: 77.97030%\n",
      "Logistic accuracy (AUC): 53.58614%\n",
      "Number of predictions: 808\n",
      "Number predicted will get pizza: 20\n",
      "-----------------------------------\n"
     ]
    }
   ],
   "source": [
    "# Logisitic modeling - numeric features\n",
    "log_clf = LogisticRegression()\n",
    "C = {\"C\": [0.001, 0.01, 0.02, 0.03, 0.04, 0.05, 0.1, 0.5, 0.8, 1, 1.5, 5, 10]}\n",
    "log_gs = GridSearchCV(log_clf,C)\n",
    "log_gs.fit(dev_data[numeric_features], dev_labels)\n",
    "\n",
    "log_clf_best = LogisticRegression(C=log_gs.best_params_['C'])\n",
    "log_clf_best.fit(train_data[numeric_features], train_labels)\n",
    "log_clf_best_predicted = log_clf_best.predict(test_mini_data[numeric_features])\n",
    "fpr, tpr, _ = metrics.roc_curve(test_mini_labels, log_clf_best_predicted)\n",
    "\n",
    "print('----- Logistic Regression -----')\n",
    "print (log_gs.best_params_)\n",
    "accuracy = accuracy_score(log_clf_best_predicted, test_mini_labels) * 100\n",
    "print ('Logistic accuracy: {:2.5f}%'.format(accuracy))\n",
    "print ('Logistic accuracy (AUC): {:2.5f}%'.format(metrics.auc(fpr,tpr) * 100))\n",
    "\n",
    "print('Number of predictions:', len(log_clf_best_predicted))\n",
    "print('Number predicted will get pizza:',sum(log_clf_best_predicted))\n",
    "print('-----------------------------------')"
   ]
  },
  {
   "cell_type": "markdown",
   "metadata": {},
   "source": [
    "##### Gaussian mixture model"
   ]
  },
  {
   "cell_type": "code",
   "execution_count": 105,
   "metadata": {
    "collapsed": true
   },
   "outputs": [],
   "source": [
    "def gmm(x_train, y_train, x_test, y_test, gmm_k, cv_type='full', to_print=True):\n",
    "\n",
    "    # filter to positive or negative rows \n",
    "    train_p = x_train[y_train==True]\n",
    "    p_labels = [y_train==True]\n",
    "    train_n = x_train[y_train==False]\n",
    "    n_labels = [y_train==False]\n",
    "    \n",
    "    # fit model on positive data points\n",
    "    clf_p = mixture.GaussianMixture(n_components=gmm_k, covariance_type=cv_type).fit(train_p, p_labels)\n",
    "    # fit model on negative data points\n",
    "    clf_n = mixture.GaussianMixture(n_components=gmm_k, covariance_type=cv_type).fit(train_n, n_labels)\n",
    "    \n",
    "    # creaate prediction by taking the higher value for either model\n",
    "    positive_pred = clf_p.score_samples(x_test)\n",
    "    negative_pred = clf_n.score_samples(x_test)\n",
    "    pred = positive_pred > negative_pred\n",
    "\n",
    "    # calculating accuracy\n",
    "    accuracy = sum(y_test == pred) / len(pred)\n",
    "    \n",
    "    fpr, tpr, _ = metrics.roc_curve(y_test, pred)\n",
    "    \n",
    "    if to_print==True:\n",
    "        print ('Accuracy: {:2.5f}%'.format(accuracy))\n",
    "        print ('Accuracy (AUC): {:2.5f}%'.format(metrics.auc(fpr,tpr) * 100))\n",
    "        \n",
    "    return pred"
   ]
  },
  {
   "cell_type": "code",
   "execution_count": 106,
   "metadata": {},
   "outputs": [
    {
     "name": "stdout",
     "output_type": "stream",
     "text": [
      "----- Gaussian mixture model -----\n",
      "Accuracy: 0.44678%\n",
      "Accuracy (AUC): 50.23850%\n",
      "Number of predictions: 808\n",
      "Number predicted will get pizza: 487\n",
      "--------------------------\n"
     ]
    }
   ],
   "source": [
    "# GMM model\n",
    "print('----- Gaussian mixture model -----')\n",
    "y_pred = gmm(train_data[numeric_features],train_labels,\n",
    "                                test_mini_data[numeric_features],test_mini_labels,gmm_k=4)\n",
    "print('Number of predictions:', len(y_pred))\n",
    "print('Number predicted will get pizza:',sum(y_pred))\n",
    "print('--------------------------')"
   ]
  },
  {
   "cell_type": "code",
   "execution_count": 107,
   "metadata": {},
   "outputs": [
    {
     "name": "stdout",
     "output_type": "stream",
     "text": [
      "----- Gaussian mixture model with tuned parameters-----\n",
      "The best GMM model had an accuracy (AUC) of 0.6222\n",
      "Covariance Type: full\n",
      "GMM components: 2\n",
      "Number predicted will get pizza: 317\n",
      "--------------------------\n"
     ]
    }
   ],
   "source": [
    "# GMM model with tuned paramters\n",
    "\n",
    "print('----- Gaussian mixture model with tuned parameters-----')\n",
    "gmm_components = range(1,25)\n",
    "cv_types = ['spherical', 'diag', 'tied', 'full']\n",
    "\n",
    "results = []\n",
    "\n",
    "for cv_type in cv_types:\n",
    "    for gmm_k in gmm_components:\n",
    "        y_pred = gmm(train_data[numeric_features],train_labels,\n",
    "                                test_mini_data[numeric_features],test_mini_labels, gmm_k=gmm_k, cv_type=cv_type, to_print=False)\n",
    "        \n",
    "        # Get accuracy of predictions\n",
    "        accuracy = sum(test_mini_labels == y_pred) / len(y_pred)\n",
    "        \n",
    "        fpr, tpr, _ = metrics.roc_curve(test_mini_labels, y_pred)\n",
    "        accuracy_auc = metrics.auc(fpr,tpr)\n",
    "        \n",
    "        results.append([cv_type, gmm_k, accuracy, sum(y_pred), accuracy_auc])\n",
    "        \n",
    "# Get parameters with best accuracy\n",
    "best = results[np.argmax([x[4] for x in results])]\n",
    "\n",
    "print('The best GMM model had an accuracy (AUC) of {}'.format(round(best[4],4)))\n",
    "print('Covariance Type: {}'.format(best[0]))\n",
    "print('GMM components: {}'.format(best[1]))\n",
    "print('Number predicted will get pizza: {}'.format(best[3]))\n",
    "print('--------------------------')"
   ]
  },
  {
   "cell_type": "markdown",
   "metadata": {},
   "source": [
    "**Conclusion: Engineering features from the request text and using the numeric metadata improved the accuracy of the models. These models also predicted that people would receive pizza, which was not really happening when we relied on word counts. In the next section, we will use Principal component analysis to convert the word counts we obtained in the previous section into a handful of components. We will combine these components with the features from this section.**"
   ]
  },
  {
   "cell_type": "markdown",
   "metadata": {},
   "source": [
    "### 4.6 Analyze Numeric Metadata Features + Engineered Features from Request Text + Advanced Count Vectorizor"
   ]
  },
  {
   "cell_type": "code",
   "execution_count": 108,
   "metadata": {},
   "outputs": [],
   "source": [
    "# creating our train/dev dfs to manipulate\n",
    "train_df = train_data\n",
    "dev_df = dev_data\n",
    "mini_df = test_mini_data\n",
    "\n",
    "# fixing the train index\n",
    "train_df['my_index'] = range(train_df.shape[0])\n",
    "train_df = train_df.set_index('my_index')\n",
    "train_num_df = train_df[numeric_features]\n",
    "train_txt_df = train_df['request_title_and_text']\n",
    "\n",
    "# fixing the dev index\n",
    "dev_df['my_index'] = range(dev_df.shape[0])\n",
    "dev_df = dev_df.set_index('my_index')\n",
    "dev_num_df = dev_df[numeric_features]\n",
    "dev_txt_df = dev_df['request_title_and_text']\n",
    "\n",
    "# fixing the mini index\n",
    "mini_df['my_index'] = range(mini_df.shape[0])\n",
    "mini_df = mini_df.set_index('my_index')\n",
    "mini_num_df = mini_df[numeric_features]\n",
    "mini_txt_df = mini_df['request_title_and_text']\n",
    "\n",
    "# NLP to vectorize our text\n",
    "vectorizer = CountVectorizer(analyzer=preprocess_text)\n",
    "train_data_nlp = vectorizer.fit_transform(train_txt_df)\n",
    "dev_data_nlp = vectorizer.transform(dev_txt_df)\n",
    "mini_data_nlp = vectorizer.transform(mini_txt_df)\n",
    "\n",
    "# using pca to change our sparse text matrix\n",
    "pca = TruncatedSVD(n_components=50)\n",
    "train_data_nlp_pca = pca.fit_transform(train_data_nlp)\n",
    "dev_data_nlp_pca = pca.transform(dev_data_nlp)\n",
    "mini_data_nlp_pca = pca.transform(mini_data_nlp)\n",
    "\n",
    "nlp_pca_df = pd.DataFrame(data = train_data_nlp_pca)\n",
    "dev_nlp_pca_df = pd.DataFrame(data = dev_data_nlp_pca)\n",
    "mini_nlp_pca_df = pd.DataFrame(data = mini_data_nlp_pca)\n",
    "\n",
    "train_data_all = pd.concat([train_num_df,nlp_pca_df],axis=1)\n",
    "dev_data_all = pd.concat([dev_num_df,dev_nlp_pca_df],axis=1)\n",
    "mini_data_all = pd.concat([mini_num_df,mini_nlp_pca_df],axis=1)"
   ]
  },
  {
   "cell_type": "markdown",
   "metadata": {},
   "source": [
    "##### Random Forests Model"
   ]
  },
  {
   "cell_type": "code",
   "execution_count": 109,
   "metadata": {},
   "outputs": [
    {
     "name": "stdout",
     "output_type": "stream",
     "text": [
      "----- Random Forests -----\n",
      "Accuracy: 74.62871%\n",
      "Accuracy (AUC): 50.85278%\n",
      "Number of predictions: 808\n",
      "Number predicted will get pizza: 41\n",
      "--------------------------\n"
     ]
    }
   ],
   "source": [
    "# Execute random forest model without gridsearch\n",
    "print('----- Random Forests -----')\n",
    "y_pred = randomForestClassifier(train_data_all,train_labels,\n",
    "                                mini_data_all,test_mini_labels,grid=0)\n",
    "print('Number of predictions:', len(y_pred))\n",
    "print('Number predicted will get pizza:',sum(y_pred))\n",
    "print('--------------------------')"
   ]
  },
  {
   "cell_type": "markdown",
   "metadata": {},
   "source": [
    "##### Logistic Regression Model"
   ]
  },
  {
   "cell_type": "code",
   "execution_count": 110,
   "metadata": {},
   "outputs": [
    {
     "name": "stdout",
     "output_type": "stream",
     "text": [
      "----- Logistic Regression -----\n",
      "{'C': 0.001}\n",
      "Logistic accuracy: 76.609%\n",
      "Logistic accuracy (AUC): 49.919%\n",
      "Number of predictions: 808\n",
      "Number predicted will get pizza: 1\n",
      "-----------------------------------\n"
     ]
    }
   ],
   "source": [
    "# Logisitic modeling - numeric features + count vectorizor\n",
    "\n",
    "log_clf = LogisticRegression()\n",
    "C = {\"C\": [0.001, 0.01, 0.02, 0.03, 0.04, 0.05, 0.1, 0.5, 0.8, 1, 1.5, 5, 10]}\n",
    "log_gs = GridSearchCV(log_clf,C)\n",
    "log_gs.fit(dev_data_all, dev_labels)\n",
    "\n",
    "log_clf_best = LogisticRegression(C=log_gs.best_params_['C'])\n",
    "log_clf_best.fit(train_data_all, train_labels)\n",
    "log_clf_best_predicted = log_clf_best.predict(mini_data_all)\n",
    "fpr, tpr, _ = metrics.roc_curve(test_mini_labels, log_clf_best_predicted)\n",
    "\n",
    "print('----- Logistic Regression -----')\n",
    "print (log_gs.best_params_)\n",
    "accuracy = accuracy_score(log_clf_best_predicted, test_mini_labels) * 100\n",
    "print ('Logistic accuracy: {:2.3f}%'.format(accuracy))\n",
    "print ('Logistic accuracy (AUC): {:2.3f}%'.format(metrics.auc(fpr,tpr) * 100))\n",
    "\n",
    "print('Number of predictions:', len(log_clf_best_predicted))\n",
    "print('Number predicted will get pizza:',sum(log_clf_best_predicted))\n",
    "print('-----------------------------------')"
   ]
  },
  {
   "cell_type": "markdown",
   "metadata": {},
   "source": [
    "##### Gaussian mixture model"
   ]
  },
  {
   "cell_type": "code",
   "execution_count": null,
   "metadata": {
    "collapsed": true
   },
   "outputs": [],
   "source": []
  },
  {
   "cell_type": "code",
   "execution_count": 111,
   "metadata": {
    "collapsed": true
   },
   "outputs": [],
   "source": [
    "# creating our train/dev dfs to manipulate\n",
    "train_df = train_data\n",
    "train_labels_df = pd.DataFrame(data = train_labels)\n",
    "dev_df = dev_data\n",
    "dev_labels_df = pd.DataFrame(data = dev_labels)\n",
    "mini_df = test_mini_data\n",
    "test_labels_df = pd.DataFrame(data = test_mini_labels)\n",
    "\n",
    "# fixing the train index\n",
    "train_df['my_index'] = range(train_df.shape[0])\n",
    "train_df = train_df.set_index('my_index')\n",
    "train_labels_df['my_index'] = range(train_labels_df.shape[0])\n",
    "train_labels_df = train_labels_df.set_index('my_index')\n",
    "train_labels_df = train_labels_df['requester_received_pizza']\n",
    "train_num_df = train_df[numeric_features]\n",
    "train_txt_df = train_df['request_title_and_text']\n",
    "\n",
    "# fixing the dev index\n",
    "dev_df['my_index'] = range(dev_df.shape[0])\n",
    "dev_df = dev_df.set_index('my_index')\n",
    "dev_labels_df['my_index'] = range(dev_labels_df.shape[0])\n",
    "dev_labels_df = dev_labels_df.set_index('my_index')\n",
    "dev_labels_df = dev_labels_df['requester_received_pizza']\n",
    "dev_num_df = dev_df[numeric_features]\n",
    "dev_txt_df = dev_df['request_title_and_text']\n",
    "\n",
    "# fixing the mini index\n",
    "mini_df['my_index'] = range(mini_df.shape[0])\n",
    "mini_df = mini_df.set_index('my_index')\n",
    "test_labels_df['my_index'] = range(test_labels_df.shape[0])\n",
    "test_labels_df = test_labels_df.set_index('my_index')\n",
    "test_labels_df = test_labels_df['requester_received_pizza']\n",
    "mini_num_df = mini_df[numeric_features]\n",
    "mini_txt_df = mini_df['request_title_and_text']\n",
    "\n",
    "# NLP to vectorize our text\n",
    "vectorizer = CountVectorizer(analyzer=preprocess_text)\n",
    "train_data_nlp = vectorizer.fit_transform(train_txt_df)\n",
    "dev_data_nlp = vectorizer.transform(dev_txt_df)\n",
    "mini_data_nlp = vectorizer.transform(mini_txt_df)\n",
    "\n",
    "# using pca to change our sparse text matrix\n",
    "pca = TruncatedSVD(n_components=50)\n",
    "train_data_nlp_pca = pca.fit_transform(train_data_nlp)\n",
    "dev_data_nlp_pca = pca.transform(dev_data_nlp)\n",
    "mini_data_nlp_pca = pca.transform(mini_data_nlp)\n",
    "\n",
    "nlp_pca_df = pd.DataFrame(data = train_data_nlp_pca)\n",
    "dev_nlp_pca_df = pd.DataFrame(data = dev_data_nlp_pca)\n",
    "mini_nlp_pca_df = pd.DataFrame(data = mini_data_nlp_pca)\n",
    "\n",
    "train_data_all = pd.concat([train_num_df,nlp_pca_df],axis=1)\n",
    "dev_data_all = pd.concat([dev_num_df,dev_nlp_pca_df],axis=1)\n",
    "mini_data_all = pd.concat([mini_num_df,mini_nlp_pca_df],axis=1)"
   ]
  }
 ],
 "metadata": {
  "anaconda-cloud": {},
  "kernelspec": {
   "display_name": "Python 3",
   "language": "python",
   "name": "python3"
  },
  "language_info": {
   "codemirror_mode": {
    "name": "ipython",
    "version": 3
   },
   "file_extension": ".py",
   "mimetype": "text/x-python",
   "name": "python",
   "nbconvert_exporter": "python",
   "pygments_lexer": "ipython3",
   "version": "3.6.1"
  }
 },
 "nbformat": 4,
 "nbformat_minor": 2
}
